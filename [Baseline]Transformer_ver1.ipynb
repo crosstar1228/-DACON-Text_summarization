{
  "nbformat": 4,
  "nbformat_minor": 5,
  "metadata": {
    "accelerator": "GPU",
    "colab": {
      "name": "[Baseline]Transformer_ver1.ipynb",
      "provenance": [],
      "collapsed_sections": [
        "O_NSOg1deMFH",
        "OXfmZXNyeMFH",
        "KwMd83OzeMFH",
        "7cajsWbDeMFI",
        "ET9r8C6CeMFJ"
      ],
      "machine_shape": "hm"
    },
    "kernelspec": {
      "display_name": "Python 3",
      "name": "python3"
    },
    "language_info": {
      "name": "python"
    }
  },
  "cells": [
    {
      "cell_type": "markdown",
      "metadata": {
        "id": "KMKKeOFdeMEz"
      },
      "source": [
        "baseline.ipynb<br>\n",
        ".. └ data<br>\n",
        ".... ├ train.json<br>\n",
        ".... ├ test.json<br>\n",
        ".... └ sample_submission.csv<br>"
      ],
      "id": "KMKKeOFdeMEz"
    },
    {
      "cell_type": "markdown",
      "metadata": {
        "id": "voz3gJ3beME0"
      },
      "source": [
        "# 사용 패키지"
      ],
      "id": "voz3gJ3beME0"
    },
    {
      "cell_type": "code",
      "metadata": {
        "colab": {
          "base_uri": "https://localhost:8080/"
        },
        "id": "zSD313aQiM5e",
        "outputId": "0f9313d7-eb70-452a-eea8-4bcab9ff40e3"
      },
      "source": [
        "from google.colab import drive\n",
        "drive.mount('/content/drive')"
      ],
      "id": "zSD313aQiM5e",
      "execution_count": 42,
      "outputs": [
        {
          "output_type": "stream",
          "name": "stdout",
          "text": [
            "Mounted at /content/drive\n"
          ]
        }
      ]
    },
    {
      "cell_type": "markdown",
      "metadata": {
        "id": "y0OfIX74kHGA"
      },
      "source": [
        "** 환경설정 어떻게 한거지?"
      ],
      "id": "y0OfIX74kHGA"
    },
    {
      "cell_type": "code",
      "metadata": {
        "colab": {
          "base_uri": "https://localhost:8080/"
        },
        "id": "tXMitpv4fiCg",
        "outputId": "d665b1ae-f45a-4b3a-dde2-0bae3149f6fb"
      },
      "source": [
        "%%bash\n",
        "apt-get update\n",
        "apt-get install g++ openjdk-8-jdk python-dev python3-dev\n",
        "pip3 install JPype1\n",
        "pip3 install konlpy"
      ],
      "id": "tXMitpv4fiCg",
      "execution_count": 43,
      "outputs": [
        {
          "output_type": "stream",
          "name": "stdout",
          "text": [
            "Get:1 https://cloud.r-project.org/bin/linux/ubuntu bionic-cran40/ InRelease [3,626 B]\n",
            "Ign:2 https://developer.download.nvidia.com/compute/cuda/repos/ubuntu1804/x86_64  InRelease\n",
            "Ign:3 https://developer.download.nvidia.com/compute/machine-learning/repos/ubuntu1804/x86_64  InRelease\n",
            "Get:4 http://security.ubuntu.com/ubuntu bionic-security InRelease [88.7 kB]\n",
            "Get:5 https://developer.download.nvidia.com/compute/cuda/repos/ubuntu1804/x86_64  Release [696 B]\n",
            "Hit:6 https://developer.download.nvidia.com/compute/machine-learning/repos/ubuntu1804/x86_64  Release\n",
            "Get:7 https://developer.download.nvidia.com/compute/cuda/repos/ubuntu1804/x86_64  Release.gpg [836 B]\n",
            "Hit:8 http://archive.ubuntu.com/ubuntu bionic InRelease\n",
            "Get:9 http://ppa.launchpad.net/c2d4u.team/c2d4u4.0+/ubuntu bionic InRelease [15.9 kB]\n",
            "Get:10 https://cloud.r-project.org/bin/linux/ubuntu bionic-cran40/ Packages [69.5 kB]\n",
            "Get:11 http://archive.ubuntu.com/ubuntu bionic-updates InRelease [88.7 kB]\n",
            "Get:13 https://developer.download.nvidia.com/compute/cuda/repos/ubuntu1804/x86_64  Packages [753 kB]\n",
            "Hit:14 http://ppa.launchpad.net/cran/libgit2/ubuntu bionic InRelease\n",
            "Get:15 http://archive.ubuntu.com/ubuntu bionic-backports InRelease [74.6 kB]\n",
            "Hit:16 http://ppa.launchpad.net/deadsnakes/ppa/ubuntu bionic InRelease\n",
            "Get:17 http://security.ubuntu.com/ubuntu bionic-security/restricted amd64 Packages [626 kB]\n",
            "Hit:18 http://ppa.launchpad.net/graphics-drivers/ppa/ubuntu bionic InRelease\n",
            "Get:19 http://security.ubuntu.com/ubuntu bionic-security/universe amd64 Packages [1,434 kB]\n",
            "Get:20 http://security.ubuntu.com/ubuntu bionic-security/main amd64 Packages [2,385 kB]\n",
            "Get:21 http://ppa.launchpad.net/c2d4u.team/c2d4u4.0+/ubuntu bionic/main Sources [1,809 kB]\n",
            "Get:22 http://archive.ubuntu.com/ubuntu bionic-updates/universe amd64 Packages [2,213 kB]\n",
            "Get:23 http://archive.ubuntu.com/ubuntu bionic-updates/restricted amd64 Packages [664 kB]\n",
            "Get:24 http://archive.ubuntu.com/ubuntu bionic-updates/main amd64 Packages [2,833 kB]\n",
            "Get:25 http://ppa.launchpad.net/c2d4u.team/c2d4u4.0+/ubuntu bionic/main amd64 Packages [926 kB]\n",
            "Fetched 14.0 MB in 4s (3,868 kB/s)\n",
            "Reading package lists...\n",
            "Reading package lists...\n",
            "Building dependency tree...\n",
            "Reading state information...\n",
            "python-dev is already the newest version (2.7.15~rc1-1).\n",
            "g++ is already the newest version (4:7.4.0-1ubuntu2.3).\n",
            "g++ set to manually installed.\n",
            "python3-dev is already the newest version (3.6.7-1~18.04).\n",
            "python3-dev set to manually installed.\n",
            "The following additional packages will be installed:\n",
            "  fonts-dejavu-core fonts-dejavu-extra libatk-wrapper-java\n",
            "  libatk-wrapper-java-jni libgail-common libgail18 libgtk2.0-0 libgtk2.0-bin\n",
            "  libgtk2.0-common libxxf86dga1 openjdk-8-jdk-headless openjdk-8-jre\n",
            "  openjdk-8-jre-headless x11-utils\n",
            "Suggested packages:\n",
            "  gvfs openjdk-8-demo openjdk-8-source visualvm icedtea-8-plugin libnss-mdns\n",
            "  fonts-ipafont-gothic fonts-ipafont-mincho fonts-wqy-microhei\n",
            "  fonts-wqy-zenhei fonts-indic mesa-utils\n",
            "The following NEW packages will be installed:\n",
            "  fonts-dejavu-core fonts-dejavu-extra libatk-wrapper-java\n",
            "  libatk-wrapper-java-jni libgail-common libgail18 libgtk2.0-0 libgtk2.0-bin\n",
            "  libgtk2.0-common libxxf86dga1 openjdk-8-jdk openjdk-8-jdk-headless\n",
            "  openjdk-8-jre openjdk-8-jre-headless x11-utils\n",
            "0 upgraded, 15 newly installed, 0 to remove and 67 not upgraded.\n",
            "Need to get 43.5 MB of archives.\n",
            "After this operation, 163 MB of additional disk space will be used.\n",
            "Get:1 http://archive.ubuntu.com/ubuntu bionic/main amd64 libxxf86dga1 amd64 2:1.1.4-1 [13.7 kB]\n",
            "Get:2 http://archive.ubuntu.com/ubuntu bionic/main amd64 fonts-dejavu-core all 2.37-1 [1,041 kB]\n",
            "Get:3 http://archive.ubuntu.com/ubuntu bionic/main amd64 fonts-dejavu-extra all 2.37-1 [1,953 kB]\n",
            "Get:4 http://archive.ubuntu.com/ubuntu bionic/main amd64 x11-utils amd64 7.7+3build1 [196 kB]\n",
            "Get:5 http://archive.ubuntu.com/ubuntu bionic/main amd64 libatk-wrapper-java all 0.33.3-20ubuntu0.1 [34.7 kB]\n",
            "Get:6 http://archive.ubuntu.com/ubuntu bionic/main amd64 libatk-wrapper-java-jni amd64 0.33.3-20ubuntu0.1 [28.3 kB]\n",
            "Get:7 http://archive.ubuntu.com/ubuntu bionic/main amd64 libgtk2.0-common all 2.24.32-1ubuntu1 [125 kB]\n",
            "Get:8 http://archive.ubuntu.com/ubuntu bionic/main amd64 libgtk2.0-0 amd64 2.24.32-1ubuntu1 [1,769 kB]\n",
            "Get:9 http://archive.ubuntu.com/ubuntu bionic/main amd64 libgail18 amd64 2.24.32-1ubuntu1 [14.2 kB]\n",
            "Get:10 http://archive.ubuntu.com/ubuntu bionic/main amd64 libgail-common amd64 2.24.32-1ubuntu1 [112 kB]\n",
            "Get:11 http://archive.ubuntu.com/ubuntu bionic/main amd64 libgtk2.0-bin amd64 2.24.32-1ubuntu1 [7,536 B]\n",
            "Get:12 http://archive.ubuntu.com/ubuntu bionic-updates/universe amd64 openjdk-8-jre-headless amd64 8u292-b10-0ubuntu1~18.04 [28.2 MB]\n",
            "Get:13 http://archive.ubuntu.com/ubuntu bionic-updates/universe amd64 openjdk-8-jre amd64 8u292-b10-0ubuntu1~18.04 [69.6 kB]\n",
            "Get:14 http://archive.ubuntu.com/ubuntu bionic-updates/universe amd64 openjdk-8-jdk-headless amd64 8u292-b10-0ubuntu1~18.04 [8,284 kB]\n",
            "Get:15 http://archive.ubuntu.com/ubuntu bionic-updates/universe amd64 openjdk-8-jdk amd64 8u292-b10-0ubuntu1~18.04 [1,644 kB]\n",
            "Fetched 43.5 MB in 3s (13.7 MB/s)\n",
            "Selecting previously unselected package libxxf86dga1:amd64.\r\n",
            "(Reading database ... \r(Reading database ... 5%\r(Reading database ... 10%\r(Reading database ... 15%\r(Reading database ... 20%\r(Reading database ... 25%\r(Reading database ... 30%\r(Reading database ... 35%\r(Reading database ... 40%\r(Reading database ... 45%\r(Reading database ... 50%\r(Reading database ... 55%\r(Reading database ... 60%\r(Reading database ... 65%\r(Reading database ... 70%\r(Reading database ... 75%\r(Reading database ... 80%\r(Reading database ... 85%\r(Reading database ... 90%\r(Reading database ... 95%\r(Reading database ... 100%\r(Reading database ... 155047 files and directories currently installed.)\r\n",
            "Preparing to unpack .../00-libxxf86dga1_2%3a1.1.4-1_amd64.deb ...\r\n",
            "Unpacking libxxf86dga1:amd64 (2:1.1.4-1) ...\r\n",
            "Selecting previously unselected package fonts-dejavu-core.\r\n",
            "Preparing to unpack .../01-fonts-dejavu-core_2.37-1_all.deb ...\r\n",
            "Unpacking fonts-dejavu-core (2.37-1) ...\r\n",
            "Selecting previously unselected package fonts-dejavu-extra.\r\n",
            "Preparing to unpack .../02-fonts-dejavu-extra_2.37-1_all.deb ...\r\n",
            "Unpacking fonts-dejavu-extra (2.37-1) ...\r\n",
            "Selecting previously unselected package x11-utils.\r\n",
            "Preparing to unpack .../03-x11-utils_7.7+3build1_amd64.deb ...\r\n",
            "Unpacking x11-utils (7.7+3build1) ...\r\n",
            "Selecting previously unselected package libatk-wrapper-java.\r\n",
            "Preparing to unpack .../04-libatk-wrapper-java_0.33.3-20ubuntu0.1_all.deb ...\r\n",
            "Unpacking libatk-wrapper-java (0.33.3-20ubuntu0.1) ...\r\n",
            "Selecting previously unselected package libatk-wrapper-java-jni:amd64.\r\n",
            "Preparing to unpack .../05-libatk-wrapper-java-jni_0.33.3-20ubuntu0.1_amd64.deb ...\r\n",
            "Unpacking libatk-wrapper-java-jni:amd64 (0.33.3-20ubuntu0.1) ...\r\n",
            "Selecting previously unselected package libgtk2.0-common.\r\n",
            "Preparing to unpack .../06-libgtk2.0-common_2.24.32-1ubuntu1_all.deb ...\r\n",
            "Unpacking libgtk2.0-common (2.24.32-1ubuntu1) ...\r\n",
            "Selecting previously unselected package libgtk2.0-0:amd64.\r\n",
            "Preparing to unpack .../07-libgtk2.0-0_2.24.32-1ubuntu1_amd64.deb ...\r\n",
            "Unpacking libgtk2.0-0:amd64 (2.24.32-1ubuntu1) ...\r\n",
            "Selecting previously unselected package libgail18:amd64.\r\n",
            "Preparing to unpack .../08-libgail18_2.24.32-1ubuntu1_amd64.deb ...\r\n",
            "Unpacking libgail18:amd64 (2.24.32-1ubuntu1) ...\r\n",
            "Selecting previously unselected package libgail-common:amd64.\r\n",
            "Preparing to unpack .../09-libgail-common_2.24.32-1ubuntu1_amd64.deb ...\r\n",
            "Unpacking libgail-common:amd64 (2.24.32-1ubuntu1) ...\r\n",
            "Selecting previously unselected package libgtk2.0-bin.\r\n",
            "Preparing to unpack .../10-libgtk2.0-bin_2.24.32-1ubuntu1_amd64.deb ...\r\n",
            "Unpacking libgtk2.0-bin (2.24.32-1ubuntu1) ...\r\n",
            "Selecting previously unselected package openjdk-8-jre-headless:amd64.\r\n",
            "Preparing to unpack .../11-openjdk-8-jre-headless_8u292-b10-0ubuntu1~18.04_amd64.deb ...\r\n",
            "Unpacking openjdk-8-jre-headless:amd64 (8u292-b10-0ubuntu1~18.04) ...\r\n",
            "Selecting previously unselected package openjdk-8-jre:amd64.\r\n",
            "Preparing to unpack .../12-openjdk-8-jre_8u292-b10-0ubuntu1~18.04_amd64.deb ...\r\n",
            "Unpacking openjdk-8-jre:amd64 (8u292-b10-0ubuntu1~18.04) ...\r\n",
            "Selecting previously unselected package openjdk-8-jdk-headless:amd64.\r\n",
            "Preparing to unpack .../13-openjdk-8-jdk-headless_8u292-b10-0ubuntu1~18.04_amd64.deb ...\r\n",
            "Unpacking openjdk-8-jdk-headless:amd64 (8u292-b10-0ubuntu1~18.04) ...\r\n",
            "Selecting previously unselected package openjdk-8-jdk:amd64.\r\n",
            "Preparing to unpack .../14-openjdk-8-jdk_8u292-b10-0ubuntu1~18.04_amd64.deb ...\r\n",
            "Unpacking openjdk-8-jdk:amd64 (8u292-b10-0ubuntu1~18.04) ...\r\n",
            "Setting up libgtk2.0-common (2.24.32-1ubuntu1) ...\r\n",
            "Setting up fonts-dejavu-core (2.37-1) ...\r\n",
            "Setting up libxxf86dga1:amd64 (2:1.1.4-1) ...\r\n",
            "Setting up fonts-dejavu-extra (2.37-1) ...\r\n",
            "Setting up openjdk-8-jre-headless:amd64 (8u292-b10-0ubuntu1~18.04) ...\r\n",
            "update-alternatives: using /usr/lib/jvm/java-8-openjdk-amd64/jre/bin/orbd to provide /usr/bin/orbd (orbd) in auto mode\r\n",
            "update-alternatives: using /usr/lib/jvm/java-8-openjdk-amd64/jre/bin/servertool to provide /usr/bin/servertool (servertool) in auto mode\r\n",
            "update-alternatives: using /usr/lib/jvm/java-8-openjdk-amd64/jre/bin/tnameserv to provide /usr/bin/tnameserv (tnameserv) in auto mode\r\n",
            "Setting up libgtk2.0-0:amd64 (2.24.32-1ubuntu1) ...\r\n",
            "Setting up libgail18:amd64 (2.24.32-1ubuntu1) ...\r\n",
            "Setting up openjdk-8-jdk-headless:amd64 (8u292-b10-0ubuntu1~18.04) ...\r\n",
            "update-alternatives: using /usr/lib/jvm/java-8-openjdk-amd64/bin/idlj to provide /usr/bin/idlj (idlj) in auto mode\r\n",
            "update-alternatives: using /usr/lib/jvm/java-8-openjdk-amd64/bin/wsimport to provide /usr/bin/wsimport (wsimport) in auto mode\r\n",
            "update-alternatives: using /usr/lib/jvm/java-8-openjdk-amd64/bin/jsadebugd to provide /usr/bin/jsadebugd (jsadebugd) in auto mode\r\n",
            "update-alternatives: using /usr/lib/jvm/java-8-openjdk-amd64/bin/native2ascii to provide /usr/bin/native2ascii (native2ascii) in auto mode\r\n",
            "update-alternatives: using /usr/lib/jvm/java-8-openjdk-amd64/bin/javah to provide /usr/bin/javah (javah) in auto mode\r\n",
            "update-alternatives: using /usr/lib/jvm/java-8-openjdk-amd64/bin/hsdb to provide /usr/bin/hsdb (hsdb) in auto mode\r\n",
            "update-alternatives: using /usr/lib/jvm/java-8-openjdk-amd64/bin/clhsdb to provide /usr/bin/clhsdb (clhsdb) in auto mode\r\n",
            "update-alternatives: using /usr/lib/jvm/java-8-openjdk-amd64/bin/extcheck to provide /usr/bin/extcheck (extcheck) in auto mode\r\n",
            "update-alternatives: using /usr/lib/jvm/java-8-openjdk-amd64/bin/schemagen to provide /usr/bin/schemagen (schemagen) in auto mode\r\n",
            "update-alternatives: using /usr/lib/jvm/java-8-openjdk-amd64/bin/xjc to provide /usr/bin/xjc (xjc) in auto mode\r\n",
            "update-alternatives: using /usr/lib/jvm/java-8-openjdk-amd64/bin/jhat to provide /usr/bin/jhat (jhat) in auto mode\r\n",
            "update-alternatives: using /usr/lib/jvm/java-8-openjdk-amd64/bin/wsgen to provide /usr/bin/wsgen (wsgen) in auto mode\r\n",
            "Setting up x11-utils (7.7+3build1) ...\r\n",
            "Setting up libgail-common:amd64 (2.24.32-1ubuntu1) ...\r\n",
            "Setting up libatk-wrapper-java (0.33.3-20ubuntu0.1) ...\r\n",
            "Setting up libgtk2.0-bin (2.24.32-1ubuntu1) ...\r\n",
            "Setting up libatk-wrapper-java-jni:amd64 (0.33.3-20ubuntu0.1) ...\r\n",
            "Setting up openjdk-8-jre:amd64 (8u292-b10-0ubuntu1~18.04) ...\r\n",
            "update-alternatives: using /usr/lib/jvm/java-8-openjdk-amd64/jre/bin/policytool to provide /usr/bin/policytool (policytool) in auto mode\r\n",
            "Setting up openjdk-8-jdk:amd64 (8u292-b10-0ubuntu1~18.04) ...\r\n",
            "update-alternatives: using /usr/lib/jvm/java-8-openjdk-amd64/bin/appletviewer to provide /usr/bin/appletviewer (appletviewer) in auto mode\r\n",
            "update-alternatives: using /usr/lib/jvm/java-8-openjdk-amd64/bin/jconsole to provide /usr/bin/jconsole (jconsole) in auto mode\r\n",
            "Processing triggers for man-db (2.8.3-2ubuntu0.1) ...\r\n",
            "Processing triggers for hicolor-icon-theme (0.17-2) ...\r\n",
            "Processing triggers for fontconfig (2.12.6-0ubuntu2) ...\r\n",
            "Processing triggers for mime-support (3.60ubuntu1) ...\r\n",
            "Processing triggers for libc-bin (2.27-3ubuntu1.3) ...\r\n",
            "/sbin/ldconfig.real: /usr/local/lib/python3.7/dist-packages/ideep4py/lib/libmkldnn.so.0 is not a symbolic link\r\n",
            "\r\n",
            "Collecting JPype1\n",
            "  Downloading JPype1-1.3.0-cp37-cp37m-manylinux_2_5_x86_64.manylinux1_x86_64.whl (448 kB)\n",
            "Requirement already satisfied: typing-extensions in /usr/local/lib/python3.7/dist-packages (from JPype1) (3.7.4.3)\n",
            "Installing collected packages: JPype1\n",
            "Successfully installed JPype1-1.3.0\n",
            "Collecting konlpy\n",
            "  Downloading konlpy-0.5.2-py2.py3-none-any.whl (19.4 MB)\n",
            "Requirement already satisfied: numpy>=1.6 in /usr/local/lib/python3.7/dist-packages (from konlpy) (1.19.5)\n",
            "Collecting beautifulsoup4==4.6.0\n",
            "  Downloading beautifulsoup4-4.6.0-py3-none-any.whl (86 kB)\n",
            "Collecting colorama\n",
            "  Downloading colorama-0.4.4-py2.py3-none-any.whl (16 kB)\n",
            "Requirement already satisfied: tweepy>=3.7.0 in /usr/local/lib/python3.7/dist-packages (from konlpy) (3.10.0)\n",
            "Requirement already satisfied: lxml>=4.1.0 in /usr/local/lib/python3.7/dist-packages (from konlpy) (4.2.6)\n",
            "Requirement already satisfied: JPype1>=0.7.0 in /usr/local/lib/python3.7/dist-packages (from konlpy) (1.3.0)\n",
            "Requirement already satisfied: typing-extensions in /usr/local/lib/python3.7/dist-packages (from JPype1>=0.7.0->konlpy) (3.7.4.3)\n",
            "Requirement already satisfied: six>=1.10.0 in /usr/local/lib/python3.7/dist-packages (from tweepy>=3.7.0->konlpy) (1.15.0)\n",
            "Requirement already satisfied: requests[socks]>=2.11.1 in /usr/local/lib/python3.7/dist-packages (from tweepy>=3.7.0->konlpy) (2.23.0)\n",
            "Requirement already satisfied: requests-oauthlib>=0.7.0 in /usr/local/lib/python3.7/dist-packages (from tweepy>=3.7.0->konlpy) (1.3.0)\n",
            "Requirement already satisfied: oauthlib>=3.0.0 in /usr/local/lib/python3.7/dist-packages (from requests-oauthlib>=0.7.0->tweepy>=3.7.0->konlpy) (3.1.1)\n",
            "Requirement already satisfied: certifi>=2017.4.17 in /usr/local/lib/python3.7/dist-packages (from requests[socks]>=2.11.1->tweepy>=3.7.0->konlpy) (2021.5.30)\n",
            "Requirement already satisfied: idna<3,>=2.5 in /usr/local/lib/python3.7/dist-packages (from requests[socks]>=2.11.1->tweepy>=3.7.0->konlpy) (2.10)\n",
            "Requirement already satisfied: chardet<4,>=3.0.2 in /usr/local/lib/python3.7/dist-packages (from requests[socks]>=2.11.1->tweepy>=3.7.0->konlpy) (3.0.4)\n",
            "Requirement already satisfied: urllib3!=1.25.0,!=1.25.1,<1.26,>=1.21.1 in /usr/local/lib/python3.7/dist-packages (from requests[socks]>=2.11.1->tweepy>=3.7.0->konlpy) (1.24.3)\n",
            "Requirement already satisfied: PySocks!=1.5.7,>=1.5.6 in /usr/local/lib/python3.7/dist-packages (from requests[socks]>=2.11.1->tweepy>=3.7.0->konlpy) (1.7.1)\n",
            "Installing collected packages: colorama, beautifulsoup4, konlpy\n",
            "  Attempting uninstall: beautifulsoup4\n",
            "    Found existing installation: beautifulsoup4 4.6.3\n",
            "    Uninstalling beautifulsoup4-4.6.3:\n",
            "      Successfully uninstalled beautifulsoup4-4.6.3\n",
            "Successfully installed beautifulsoup4-4.6.0 colorama-0.4.4 konlpy-0.5.2\n"
          ]
        }
      ]
    },
    {
      "cell_type": "code",
      "metadata": {
        "colab": {
          "base_uri": "https://localhost:8080/"
        },
        "id": "BW-y3Uq1fp9K",
        "outputId": "06d70265-6c54-4f66-c12a-a723fe53cb82"
      },
      "source": [
        "%env JAVA_HOME \"/usr/lib/jvm/java-8-openjdk-amd64\""
      ],
      "id": "BW-y3Uq1fp9K",
      "execution_count": 44,
      "outputs": [
        {
          "output_type": "stream",
          "name": "stdout",
          "text": [
            "env: JAVA_HOME=\"/usr/lib/jvm/java-8-openjdk-amd64\"\n"
          ]
        }
      ]
    },
    {
      "cell_type": "code",
      "metadata": {
        "colab": {
          "base_uri": "https://localhost:8080/"
        },
        "id": "iQH9qxqMfxht",
        "outputId": "34217b95-87b1-43ad-ff00-b1f21df4cb02"
      },
      "source": [
        "%%bash\n",
        "bash <(curl -s https://raw.githubusercontent.com/konlpy/konlpy/master/scripts/mecab.sh)\n",
        "pip3 install /tmp/mecab-python-0.996"
      ],
      "id": "iQH9qxqMfxht",
      "execution_count": 45,
      "outputs": [
        {
          "output_type": "stream",
          "name": "stdout",
          "text": [
            "Installing automake (A dependency for mecab-ko)\n",
            "Hit:1 https://cloud.r-project.org/bin/linux/ubuntu bionic-cran40/ InRelease\n",
            "Ign:2 https://developer.download.nvidia.com/compute/cuda/repos/ubuntu1804/x86_64  InRelease\n",
            "Ign:3 https://developer.download.nvidia.com/compute/machine-learning/repos/ubuntu1804/x86_64  InRelease\n",
            "Hit:4 https://developer.download.nvidia.com/compute/cuda/repos/ubuntu1804/x86_64  Release\n",
            "Hit:5 http://security.ubuntu.com/ubuntu bionic-security InRelease\n",
            "Hit:6 https://developer.download.nvidia.com/compute/machine-learning/repos/ubuntu1804/x86_64  Release\n",
            "Hit:8 http://archive.ubuntu.com/ubuntu bionic InRelease\n",
            "Hit:9 http://ppa.launchpad.net/c2d4u.team/c2d4u4.0+/ubuntu bionic InRelease\n",
            "Hit:11 http://archive.ubuntu.com/ubuntu bionic-updates InRelease\n",
            "Hit:12 http://archive.ubuntu.com/ubuntu bionic-backports InRelease\n",
            "Hit:13 http://ppa.launchpad.net/cran/libgit2/ubuntu bionic InRelease\n",
            "Hit:14 http://ppa.launchpad.net/deadsnakes/ppa/ubuntu bionic InRelease\n",
            "Hit:15 http://ppa.launchpad.net/graphics-drivers/ppa/ubuntu bionic InRelease\n",
            "Reading package lists...\n",
            "Reading package lists...\n",
            "Building dependency tree...\n",
            "Reading state information...\n",
            "The following additional packages will be installed:\n",
            "  autoconf autotools-dev libsigsegv2 m4\n",
            "Suggested packages:\n",
            "  autoconf-archive gnu-standards autoconf-doc libtool gettext m4-doc\n",
            "The following NEW packages will be installed:\n",
            "  autoconf automake autotools-dev libsigsegv2 m4\n",
            "0 upgraded, 5 newly installed, 0 to remove and 67 not upgraded.\n",
            "Need to get 1,082 kB of archives.\n",
            "After this operation, 3,994 kB of additional disk space will be used.\n",
            "Get:1 http://archive.ubuntu.com/ubuntu bionic/main amd64 libsigsegv2 amd64 2.12-1 [14.7 kB]\n",
            "Get:2 http://archive.ubuntu.com/ubuntu bionic/main amd64 m4 amd64 1.4.18-1 [197 kB]\n",
            "Get:3 http://archive.ubuntu.com/ubuntu bionic/main amd64 autoconf all 2.69-11 [322 kB]\n",
            "Get:4 http://archive.ubuntu.com/ubuntu bionic/main amd64 autotools-dev all 20180224.1 [39.6 kB]\n",
            "Get:5 http://archive.ubuntu.com/ubuntu bionic/main amd64 automake all 1:1.15.1-3ubuntu2 [509 kB]\n",
            "Fetched 1,082 kB in 1s (851 kB/s)\n",
            "Selecting previously unselected package libsigsegv2:amd64.\r\n",
            "(Reading database ... \r(Reading database ... 5%\r(Reading database ... 10%\r(Reading database ... 15%\r(Reading database ... 20%\r(Reading database ... 25%\r(Reading database ... 30%\r(Reading database ... 35%\r(Reading database ... 40%\r(Reading database ... 45%\r(Reading database ... 50%\r(Reading database ... 55%\r(Reading database ... 60%\r(Reading database ... 65%\r(Reading database ... 70%\r(Reading database ... 75%\r(Reading database ... 80%\r(Reading database ... 85%\r(Reading database ... 90%\r(Reading database ... 95%\r(Reading database ... 100%\r(Reading database ... 155623 files and directories currently installed.)\r\n",
            "Preparing to unpack .../libsigsegv2_2.12-1_amd64.deb ...\r\n",
            "Unpacking libsigsegv2:amd64 (2.12-1) ...\r\n",
            "Selecting previously unselected package m4.\r\n",
            "Preparing to unpack .../archives/m4_1.4.18-1_amd64.deb ...\r\n",
            "Unpacking m4 (1.4.18-1) ...\r\n",
            "Selecting previously unselected package autoconf.\r\n",
            "Preparing to unpack .../autoconf_2.69-11_all.deb ...\r\n",
            "Unpacking autoconf (2.69-11) ...\r\n",
            "Selecting previously unselected package autotools-dev.\r\n",
            "Preparing to unpack .../autotools-dev_20180224.1_all.deb ...\r\n",
            "Unpacking autotools-dev (20180224.1) ...\r\n",
            "Selecting previously unselected package automake.\r\n",
            "Preparing to unpack .../automake_1%3a1.15.1-3ubuntu2_all.deb ...\r\n",
            "Unpacking automake (1:1.15.1-3ubuntu2) ...\r\n",
            "Setting up libsigsegv2:amd64 (2.12-1) ...\r\n",
            "Setting up m4 (1.4.18-1) ...\r\n",
            "Setting up autotools-dev (20180224.1) ...\r\n",
            "Setting up autoconf (2.69-11) ...\r\n",
            "Setting up automake (1:1.15.1-3ubuntu2) ...\r\n",
            "update-alternatives: using /usr/bin/automake-1.15 to provide /usr/bin/automake (automake) in auto mode\r\n",
            "Processing triggers for libc-bin (2.27-3ubuntu1.3) ...\r\n",
            "/sbin/ldconfig.real: /usr/local/lib/python3.7/dist-packages/ideep4py/lib/libmkldnn.so.0 is not a symbolic link\r\n",
            "\r\n",
            "Processing triggers for man-db (2.8.3-2ubuntu0.1) ...\r\n",
            "Install mecab-ko-dic\n",
            "mecab-0.996-ko-0.9.2/\n",
            "mecab-0.996-ko-0.9.2/example/\n",
            "mecab-0.996-ko-0.9.2/example/example.cpp\n",
            "mecab-0.996-ko-0.9.2/example/example_lattice.cpp\n",
            "mecab-0.996-ko-0.9.2/example/example_lattice.c\n",
            "mecab-0.996-ko-0.9.2/example/example.c\n",
            "mecab-0.996-ko-0.9.2/example/thread_test.cpp\n",
            "mecab-0.996-ko-0.9.2/mecab-config.in\n",
            "mecab-0.996-ko-0.9.2/man/\n",
            "mecab-0.996-ko-0.9.2/man/Makefile.am\n",
            "mecab-0.996-ko-0.9.2/man/mecab.1\n",
            "mecab-0.996-ko-0.9.2/man/Makefile.in\n",
            "mecab-0.996-ko-0.9.2/mecab.iss.in\n",
            "mecab-0.996-ko-0.9.2/config.guess\n",
            "mecab-0.996-ko-0.9.2/README\n",
            "mecab-0.996-ko-0.9.2/COPYING\n",
            "mecab-0.996-ko-0.9.2/CHANGES.md\n",
            "mecab-0.996-ko-0.9.2/README.md\n",
            "mecab-0.996-ko-0.9.2/INSTALL\n",
            "mecab-0.996-ko-0.9.2/config.sub\n",
            "mecab-0.996-ko-0.9.2/configure.in\n",
            "mecab-0.996-ko-0.9.2/swig/\n",
            "mecab-0.996-ko-0.9.2/swig/Makefile\n",
            "mecab-0.996-ko-0.9.2/swig/version.h.in\n",
            "mecab-0.996-ko-0.9.2/swig/version.h\n",
            "mecab-0.996-ko-0.9.2/swig/MeCab.i\n",
            "mecab-0.996-ko-0.9.2/aclocal.m4\n",
            "mecab-0.996-ko-0.9.2/LGPL\n",
            "mecab-0.996-ko-0.9.2/Makefile.am\n",
            "mecab-0.996-ko-0.9.2/configure\n",
            "mecab-0.996-ko-0.9.2/tests/\n",
            "mecab-0.996-ko-0.9.2/tests/autolink/\n",
            "mecab-0.996-ko-0.9.2/tests/autolink/unk.def\n",
            "mecab-0.996-ko-0.9.2/tests/autolink/dicrc\n",
            "mecab-0.996-ko-0.9.2/tests/autolink/dic.csv\n",
            "mecab-0.996-ko-0.9.2/tests/autolink/test\n",
            "mecab-0.996-ko-0.9.2/tests/autolink/char.def\n",
            "mecab-0.996-ko-0.9.2/tests/autolink/matrix.def\n",
            "mecab-0.996-ko-0.9.2/tests/autolink/test.gld\n",
            "mecab-0.996-ko-0.9.2/tests/t9/\n",
            "mecab-0.996-ko-0.9.2/tests/t9/unk.def\n",
            "mecab-0.996-ko-0.9.2/tests/t9/ipadic.pl\n",
            "mecab-0.996-ko-0.9.2/tests/t9/dicrc\n",
            "mecab-0.996-ko-0.9.2/tests/t9/dic.csv\n",
            "mecab-0.996-ko-0.9.2/tests/t9/test\n",
            "mecab-0.996-ko-0.9.2/tests/t9/char.def\n",
            "mecab-0.996-ko-0.9.2/tests/t9/matrix.def\n",
            "mecab-0.996-ko-0.9.2/tests/t9/mkdic.pl\n",
            "mecab-0.996-ko-0.9.2/tests/t9/test.gld\n",
            "mecab-0.996-ko-0.9.2/tests/cost-train/\n",
            "mecab-0.996-ko-0.9.2/tests/cost-train/ipa.train\n",
            "mecab-0.996-ko-0.9.2/tests/cost-train/ipa.test\n",
            "mecab-0.996-ko-0.9.2/tests/cost-train/seed/\n",
            "mecab-0.996-ko-0.9.2/tests/cost-train/seed/rewrite.def\n",
            "mecab-0.996-ko-0.9.2/tests/cost-train/seed/feature.def\n",
            "mecab-0.996-ko-0.9.2/tests/cost-train/seed/unk.def\n",
            "mecab-0.996-ko-0.9.2/tests/cost-train/seed/dicrc\n",
            "mecab-0.996-ko-0.9.2/tests/cost-train/seed/dic.csv\n",
            "mecab-0.996-ko-0.9.2/tests/cost-train/seed/char.def\n",
            "mecab-0.996-ko-0.9.2/tests/cost-train/seed/matrix.def\n",
            "mecab-0.996-ko-0.9.2/tests/run-eval.sh\n",
            "mecab-0.996-ko-0.9.2/tests/run-cost-train.sh\n",
            "mecab-0.996-ko-0.9.2/tests/Makefile.am\n",
            "mecab-0.996-ko-0.9.2/tests/katakana/\n",
            "mecab-0.996-ko-0.9.2/tests/katakana/unk.def\n",
            "mecab-0.996-ko-0.9.2/tests/katakana/dicrc\n",
            "mecab-0.996-ko-0.9.2/tests/katakana/dic.csv\n",
            "mecab-0.996-ko-0.9.2/tests/katakana/test\n",
            "mecab-0.996-ko-0.9.2/tests/katakana/char.def\n",
            "mecab-0.996-ko-0.9.2/tests/katakana/matrix.def\n",
            "mecab-0.996-ko-0.9.2/tests/katakana/test.gld\n",
            "mecab-0.996-ko-0.9.2/tests/eval/\n",
            "mecab-0.996-ko-0.9.2/tests/eval/answer\n",
            "mecab-0.996-ko-0.9.2/tests/eval/system\n",
            "mecab-0.996-ko-0.9.2/tests/eval/test.gld\n",
            "mecab-0.996-ko-0.9.2/tests/shiin/\n",
            "mecab-0.996-ko-0.9.2/tests/shiin/unk.def\n",
            "mecab-0.996-ko-0.9.2/tests/shiin/dicrc\n",
            "mecab-0.996-ko-0.9.2/tests/shiin/dic.csv\n",
            "mecab-0.996-ko-0.9.2/tests/shiin/test\n",
            "mecab-0.996-ko-0.9.2/tests/shiin/char.def\n",
            "mecab-0.996-ko-0.9.2/tests/shiin/matrix.def\n",
            "mecab-0.996-ko-0.9.2/tests/shiin/mkdic.pl\n",
            "mecab-0.996-ko-0.9.2/tests/shiin/test.gld\n",
            "mecab-0.996-ko-0.9.2/tests/latin/\n",
            "mecab-0.996-ko-0.9.2/tests/latin/unk.def\n",
            "mecab-0.996-ko-0.9.2/tests/latin/dicrc\n",
            "mecab-0.996-ko-0.9.2/tests/latin/dic.csv\n",
            "mecab-0.996-ko-0.9.2/tests/latin/test\n",
            "mecab-0.996-ko-0.9.2/tests/latin/char.def\n",
            "mecab-0.996-ko-0.9.2/tests/latin/matrix.def\n",
            "mecab-0.996-ko-0.9.2/tests/latin/test.gld\n",
            "mecab-0.996-ko-0.9.2/tests/chartype/\n",
            "mecab-0.996-ko-0.9.2/tests/chartype/unk.def\n",
            "mecab-0.996-ko-0.9.2/tests/chartype/dicrc\n",
            "mecab-0.996-ko-0.9.2/tests/chartype/dic.csv\n",
            "mecab-0.996-ko-0.9.2/tests/chartype/test\n",
            "mecab-0.996-ko-0.9.2/tests/chartype/char.def\n",
            "mecab-0.996-ko-0.9.2/tests/chartype/matrix.def\n",
            "mecab-0.996-ko-0.9.2/tests/chartype/test.gld\n",
            "mecab-0.996-ko-0.9.2/tests/run-dics.sh\n",
            "mecab-0.996-ko-0.9.2/tests/ngram/\n",
            "mecab-0.996-ko-0.9.2/tests/ngram/unk.def\n",
            "mecab-0.996-ko-0.9.2/tests/ngram/dicrc\n",
            "mecab-0.996-ko-0.9.2/tests/ngram/dic.csv\n",
            "mecab-0.996-ko-0.9.2/tests/ngram/test\n",
            "mecab-0.996-ko-0.9.2/tests/ngram/char.def\n",
            "mecab-0.996-ko-0.9.2/tests/ngram/matrix.def\n",
            "mecab-0.996-ko-0.9.2/tests/ngram/test.gld\n",
            "mecab-0.996-ko-0.9.2/tests/Makefile.in\n",
            "mecab-0.996-ko-0.9.2/ltmain.sh\n",
            "mecab-0.996-ko-0.9.2/config.rpath\n",
            "mecab-0.996-ko-0.9.2/config.h.in\n",
            "mecab-0.996-ko-0.9.2/mecabrc.in\n",
            "mecab-0.996-ko-0.9.2/GPL\n",
            "mecab-0.996-ko-0.9.2/Makefile.train\n",
            "mecab-0.996-ko-0.9.2/ChangeLog\n",
            "mecab-0.996-ko-0.9.2/install-sh\n",
            "mecab-0.996-ko-0.9.2/AUTHORS\n",
            "mecab-0.996-ko-0.9.2/doc/\n",
            "mecab-0.996-ko-0.9.2/doc/bindings.html\n",
            "mecab-0.996-ko-0.9.2/doc/posid.html\n",
            "mecab-0.996-ko-0.9.2/doc/unk.html\n",
            "mecab-0.996-ko-0.9.2/doc/learn.html\n",
            "mecab-0.996-ko-0.9.2/doc/format.html\n",
            "mecab-0.996-ko-0.9.2/doc/libmecab.html\n",
            "mecab-0.996-ko-0.9.2/doc/mecab.css\n",
            "mecab-0.996-ko-0.9.2/doc/feature.html\n",
            "mecab-0.996-ko-0.9.2/doc/Makefile.am\n",
            "mecab-0.996-ko-0.9.2/doc/soft.html\n",
            "mecab-0.996-ko-0.9.2/doc/en/\n",
            "mecab-0.996-ko-0.9.2/doc/en/bindings.html\n",
            "mecab-0.996-ko-0.9.2/doc/dic-detail.html\n",
            "mecab-0.996-ko-0.9.2/doc/flow.png\n",
            "mecab-0.996-ko-0.9.2/doc/mecab.html\n",
            "mecab-0.996-ko-0.9.2/doc/index.html\n",
            "mecab-0.996-ko-0.9.2/doc/result.png\n",
            "mecab-0.996-ko-0.9.2/doc/doxygen/\n",
            "mecab-0.996-ko-0.9.2/doc/doxygen/tab_a.png\n",
            "mecab-0.996-ko-0.9.2/doc/doxygen/globals_eval.html\n",
            "mecab-0.996-ko-0.9.2/doc/doxygen/classMeCab_1_1Tagger-members.html\n",
            "mecab-0.996-ko-0.9.2/doc/doxygen/functions_vars.html\n",
            "mecab-0.996-ko-0.9.2/doc/doxygen/doxygen.css\n",
            "mecab-0.996-ko-0.9.2/doc/doxygen/tab_r.gif\n",
            "mecab-0.996-ko-0.9.2/doc/doxygen/classMeCab_1_1Lattice.html\n",
            "mecab-0.996-ko-0.9.2/doc/doxygen/functions.html\n",
            "mecab-0.996-ko-0.9.2/doc/doxygen/classMeCab_1_1Tagger.html\n",
            "mecab-0.996-ko-0.9.2/doc/doxygen/mecab_8h_source.html\n",
            "mecab-0.996-ko-0.9.2/doc/doxygen/tabs.css\n",
            "mecab-0.996-ko-0.9.2/doc/doxygen/nav_f.png\n",
            "mecab-0.996-ko-0.9.2/doc/doxygen/tab_b.png\n",
            "mecab-0.996-ko-0.9.2/doc/doxygen/globals.html\n",
            "mecab-0.996-ko-0.9.2/doc/doxygen/nav_h.png\n",
            "mecab-0.996-ko-0.9.2/doc/doxygen/tab_h.png\n",
            "mecab-0.996-ko-0.9.2/doc/doxygen/classMeCab_1_1Model.html\n",
            "mecab-0.996-ko-0.9.2/doc/doxygen/globals_func.html\n",
            "mecab-0.996-ko-0.9.2/doc/doxygen/closed.png\n",
            "mecab-0.996-ko-0.9.2/doc/doxygen/tab_l.gif\n",
            "mecab-0.996-ko-0.9.2/doc/doxygen/structmecab__path__t-members.html\n",
            "mecab-0.996-ko-0.9.2/doc/doxygen/functions_func.html\n",
            "mecab-0.996-ko-0.9.2/doc/doxygen/globals_type.html\n",
            "mecab-0.996-ko-0.9.2/doc/doxygen/classMeCab_1_1Lattice-members.html\n",
            "mecab-0.996-ko-0.9.2/doc/doxygen/structmecab__node__t.html\n",
            "mecab-0.996-ko-0.9.2/doc/doxygen/namespacemembers_func.html\n",
            "mecab-0.996-ko-0.9.2/doc/doxygen/tab_s.png\n",
            "mecab-0.996-ko-0.9.2/doc/doxygen/structmecab__dictionary__info__t-members.html\n",
            "mecab-0.996-ko-0.9.2/doc/doxygen/namespacemembers_type.html\n",
            "mecab-0.996-ko-0.9.2/doc/doxygen/classMeCab_1_1Model-members.html\n",
            "mecab-0.996-ko-0.9.2/doc/doxygen/structmecab__dictionary__info__t.html\n",
            "mecab-0.996-ko-0.9.2/doc/doxygen/namespaces.html\n",
            "mecab-0.996-ko-0.9.2/doc/doxygen/namespacemembers.html\n",
            "mecab-0.996-ko-0.9.2/doc/doxygen/namespaceMeCab.html\n",
            "mecab-0.996-ko-0.9.2/doc/doxygen/structmecab__path__t.html\n",
            "mecab-0.996-ko-0.9.2/doc/doxygen/files.html\n",
            "mecab-0.996-ko-0.9.2/doc/doxygen/structmecab__node__t-members.html\n",
            "mecab-0.996-ko-0.9.2/doc/doxygen/index.html\n",
            "mecab-0.996-ko-0.9.2/doc/doxygen/annotated.html\n",
            "mecab-0.996-ko-0.9.2/doc/doxygen/globals_defs.html\n",
            "mecab-0.996-ko-0.9.2/doc/doxygen/classes.html\n",
            "mecab-0.996-ko-0.9.2/doc/doxygen/mecab_8h-source.html\n",
            "mecab-0.996-ko-0.9.2/doc/doxygen/doxygen.png\n",
            "mecab-0.996-ko-0.9.2/doc/doxygen/tab_b.gif\n",
            "mecab-0.996-ko-0.9.2/doc/doxygen/bc_s.png\n",
            "mecab-0.996-ko-0.9.2/doc/doxygen/open.png\n",
            "mecab-0.996-ko-0.9.2/doc/doxygen/mecab_8h.html\n",
            "mecab-0.996-ko-0.9.2/doc/dic.html\n",
            "mecab-0.996-ko-0.9.2/doc/partial.html\n",
            "mecab-0.996-ko-0.9.2/doc/feature.png\n",
            "mecab-0.996-ko-0.9.2/doc/Makefile.in\n",
            "mecab-0.996-ko-0.9.2/missing\n",
            "mecab-0.996-ko-0.9.2/BSD\n",
            "mecab-0.996-ko-0.9.2/NEWS\n",
            "mecab-0.996-ko-0.9.2/mkinstalldirs\n",
            "mecab-0.996-ko-0.9.2/src/\n",
            "mecab-0.996-ko-0.9.2/src/dictionary.h\n",
            "mecab-0.996-ko-0.9.2/src/writer.h\n",
            "mecab-0.996-ko-0.9.2/src/utils.h\n",
            "mecab-0.996-ko-0.9.2/src/string_buffer.cpp\n",
            "mecab-0.996-ko-0.9.2/src/tokenizer.cpp\n",
            "mecab-0.996-ko-0.9.2/src/make.bat\n",
            "mecab-0.996-ko-0.9.2/src/mecab.h\n",
            "mecab-0.996-ko-0.9.2/src/freelist.h\n",
            "mecab-0.996-ko-0.9.2/src/string_buffer.h\n",
            "mecab-0.996-ko-0.9.2/src/learner_tagger.h\n",
            "mecab-0.996-ko-0.9.2/src/dictionary_compiler.cpp\n",
            "mecab-0.996-ko-0.9.2/src/eval.cpp\n",
            "mecab-0.996-ko-0.9.2/src/mecab-system-eval.cpp\n",
            "mecab-0.996-ko-0.9.2/src/darts.h\n",
            "mecab-0.996-ko-0.9.2/src/param.h\n",
            "mecab-0.996-ko-0.9.2/src/char_property.h\n",
            "mecab-0.996-ko-0.9.2/src/learner_node.h\n",
            "mecab-0.996-ko-0.9.2/src/mecab-dict-gen.cpp\n",
            "mecab-0.996-ko-0.9.2/src/mecab-dict-index.cpp\n",
            "mecab-0.996-ko-0.9.2/src/winmain.h\n",
            "mecab-0.996-ko-0.9.2/src/thread.h\n",
            "mecab-0.996-ko-0.9.2/src/context_id.cpp\n",
            "mecab-0.996-ko-0.9.2/src/Makefile.am\n",
            "mecab-0.996-ko-0.9.2/src/connector.h\n",
            "mecab-0.996-ko-0.9.2/src/common.h\n",
            "mecab-0.996-ko-0.9.2/src/dictionary_rewriter.cpp\n",
            "mecab-0.996-ko-0.9.2/src/Makefile.msvc.in\n",
            "mecab-0.996-ko-0.9.2/src/dictionary_rewriter.h\n",
            "mecab-0.996-ko-0.9.2/src/feature_index.h\n",
            "mecab-0.996-ko-0.9.2/src/iconv_utils.cpp\n",
            "mecab-0.996-ko-0.9.2/src/char_property.cpp\n",
            "mecab-0.996-ko-0.9.2/src/mecab-test-gen.cpp\n",
            "mecab-0.996-ko-0.9.2/src/tagger.cpp\n",
            "mecab-0.996-ko-0.9.2/src/mecab-cost-train.cpp\n",
            "mecab-0.996-ko-0.9.2/src/learner.cpp\n",
            "mecab-0.996-ko-0.9.2/src/dictionary.cpp\n",
            "mecab-0.996-ko-0.9.2/src/lbfgs.cpp\n",
            "mecab-0.996-ko-0.9.2/src/ucs.h\n",
            "mecab-0.996-ko-0.9.2/src/writer.cpp\n",
            "mecab-0.996-ko-0.9.2/src/learner_tagger.cpp\n",
            "mecab-0.996-ko-0.9.2/src/lbfgs.h\n",
            "mecab-0.996-ko-0.9.2/src/libmecab.cpp\n",
            "mecab-0.996-ko-0.9.2/src/tokenizer.h\n",
            "mecab-0.996-ko-0.9.2/src/mecab.cpp\n",
            "mecab-0.996-ko-0.9.2/src/utils.cpp\n",
            "mecab-0.996-ko-0.9.2/src/dictionary_generator.cpp\n",
            "mecab-0.996-ko-0.9.2/src/param.cpp\n",
            "mecab-0.996-ko-0.9.2/src/context_id.h\n",
            "mecab-0.996-ko-0.9.2/src/mmap.h\n",
            "mecab-0.996-ko-0.9.2/src/viterbi.h\n",
            "mecab-0.996-ko-0.9.2/src/viterbi.cpp\n",
            "mecab-0.996-ko-0.9.2/src/stream_wrapper.h\n",
            "mecab-0.996-ko-0.9.2/src/feature_index.cpp\n",
            "mecab-0.996-ko-0.9.2/src/nbest_generator.h\n",
            "mecab-0.996-ko-0.9.2/src/ucstable.h\n",
            "mecab-0.996-ko-0.9.2/src/nbest_generator.cpp\n",
            "mecab-0.996-ko-0.9.2/src/iconv_utils.h\n",
            "mecab-0.996-ko-0.9.2/src/connector.cpp\n",
            "mecab-0.996-ko-0.9.2/src/Makefile.in\n",
            "mecab-0.996-ko-0.9.2/src/scoped_ptr.h\n",
            "mecab-0.996-ko-0.9.2/Makefile.in\n",
            "checking for a BSD-compatible install... /usr/bin/install -c\n",
            "checking whether build environment is sane... yes\n",
            "checking for a thread-safe mkdir -p... /bin/mkdir -p\n",
            "checking for gawk... no\n",
            "checking for mawk... mawk\n",
            "checking whether make sets $(MAKE)... yes\n",
            "checking for gcc... gcc\n",
            "checking whether the C compiler works... yes\n",
            "checking for C compiler default output file name... a.out\n",
            "checking for suffix of executables... \n",
            "checking whether we are cross compiling... no\n",
            "checking for suffix of object files... o\n",
            "checking whether we are using the GNU C compiler... yes\n",
            "checking whether gcc accepts -g... yes\n",
            "checking for gcc option to accept ISO C89... none needed\n",
            "checking for style of include used by make... GNU\n",
            "checking dependency style of gcc... none\n",
            "checking for g++... g++\n",
            "checking whether we are using the GNU C++ compiler... yes\n",
            "checking whether g++ accepts -g... yes\n",
            "checking dependency style of g++... none\n",
            "checking how to run the C preprocessor... gcc -E\n",
            "checking for grep that handles long lines and -e... /bin/grep\n",
            "checking for egrep... /bin/grep -E\n",
            "checking whether gcc needs -traditional... no\n",
            "checking whether make sets $(MAKE)... (cached) yes\n",
            "checking build system type... x86_64-unknown-linux-gnu\n",
            "checking host system type... x86_64-unknown-linux-gnu\n",
            "checking how to print strings... printf\n",
            "checking for a sed that does not truncate output... /bin/sed\n",
            "checking for fgrep... /bin/grep -F\n",
            "checking for ld used by gcc... /usr/bin/ld\n",
            "checking if the linker (/usr/bin/ld) is GNU ld... yes\n",
            "checking for BSD- or MS-compatible name lister (nm)... /usr/bin/nm -B\n",
            "checking the name lister (/usr/bin/nm -B) interface... BSD nm\n",
            "checking whether ln -s works... yes\n",
            "checking the maximum length of command line arguments... 1572864\n",
            "checking whether the shell understands some XSI constructs... yes\n",
            "checking whether the shell understands \"+=\"... yes\n",
            "checking how to convert x86_64-unknown-linux-gnu file names to x86_64-unknown-linux-gnu format... func_convert_file_noop\n",
            "checking how to convert x86_64-unknown-linux-gnu file names to toolchain format... func_convert_file_noop\n",
            "checking for /usr/bin/ld option to reload object files... -r\n",
            "checking for objdump... objdump\n",
            "checking how to recognize dependent libraries... pass_all\n",
            "checking for dlltool... dlltool\n",
            "checking how to associate runtime and link libraries... printf %s\\n\n",
            "checking for ar... ar\n",
            "checking for archiver @FILE support... @\n",
            "checking for strip... strip\n",
            "checking for ranlib... ranlib\n",
            "checking command to parse /usr/bin/nm -B output from gcc object... ok\n",
            "checking for sysroot... no\n",
            "checking for mt... no\n",
            "checking if : is a manifest tool... no\n",
            "checking for ANSI C header files... yes\n",
            "checking for sys/types.h... yes\n",
            "checking for sys/stat.h... yes\n",
            "checking for stdlib.h... yes\n",
            "checking for string.h... yes\n",
            "checking for memory.h... yes\n",
            "checking for strings.h... yes\n",
            "checking for inttypes.h... yes\n",
            "checking for stdint.h... yes\n",
            "checking for unistd.h... yes\n",
            "checking for dlfcn.h... yes\n",
            "checking for objdir... .libs\n",
            "checking if gcc supports -fno-rtti -fno-exceptions... no\n",
            "checking for gcc option to produce PIC... -fPIC -DPIC\n",
            "checking if gcc PIC flag -fPIC -DPIC works... yes\n",
            "checking if gcc static flag -static works... yes\n",
            "checking if gcc supports -c -o file.o... yes\n",
            "checking if gcc supports -c -o file.o... (cached) yes\n",
            "checking whether the gcc linker (/usr/bin/ld) supports shared libraries... yes\n",
            "checking whether -lc should be explicitly linked in... no\n",
            "checking dynamic linker characteristics... GNU/Linux ld.so\n",
            "checking how to hardcode library paths into programs... immediate\n",
            "checking whether stripping libraries is possible... yes\n",
            "checking if libtool supports shared libraries... yes\n",
            "checking whether to build shared libraries... yes\n",
            "checking whether to build static libraries... yes\n",
            "checking how to run the C++ preprocessor... g++ -E\n",
            "checking for ld used by g++... /usr/bin/ld\n",
            "checking if the linker (/usr/bin/ld) is GNU ld... yes\n",
            "checking whether the g++ linker (/usr/bin/ld) supports shared libraries... yes\n",
            "checking for g++ option to produce PIC... -fPIC -DPIC\n",
            "checking if g++ PIC flag -fPIC -DPIC works... yes\n",
            "checking if g++ static flag -static works... yes\n",
            "checking if g++ supports -c -o file.o... yes\n",
            "checking if g++ supports -c -o file.o... (cached) yes\n",
            "checking whether the g++ linker (/usr/bin/ld) supports shared libraries... yes\n",
            "checking dynamic linker characteristics... (cached) GNU/Linux ld.so\n",
            "checking how to hardcode library paths into programs... immediate\n",
            "checking for library containing strerror... none required\n",
            "checking whether byte ordering is bigendian... no\n",
            "checking for ld used by GCC... /usr/bin/ld\n",
            "checking if the linker (/usr/bin/ld) is GNU ld... yes\n",
            "checking for shared library run path origin... done\n",
            "checking for iconv... yes\n",
            "checking for working iconv... yes\n",
            "checking for iconv declaration... \n",
            "         extern size_t iconv (iconv_t cd, char * *inbuf, size_t *inbytesleft, char * *outbuf, size_t *outbytesleft);\n",
            "checking for ANSI C header files... (cached) yes\n",
            "checking for an ANSI C-conforming const... yes\n",
            "checking whether byte ordering is bigendian... (cached) no\n",
            "checking for string.h... (cached) yes\n",
            "checking for stdlib.h... (cached) yes\n",
            "checking for unistd.h... (cached) yes\n",
            "checking fcntl.h usability... yes\n",
            "checking fcntl.h presence... yes\n",
            "checking for fcntl.h... yes\n",
            "checking for stdint.h... (cached) yes\n",
            "checking for sys/stat.h... (cached) yes\n",
            "checking sys/mman.h usability... yes\n",
            "checking sys/mman.h presence... yes\n",
            "checking for sys/mman.h... yes\n",
            "checking sys/times.h usability... yes\n",
            "checking sys/times.h presence... yes\n",
            "checking for sys/times.h... yes\n",
            "checking for sys/types.h... (cached) yes\n",
            "checking dirent.h usability... yes\n",
            "checking dirent.h presence... yes\n",
            "checking for dirent.h... yes\n",
            "checking ctype.h usability... yes\n",
            "checking ctype.h presence... yes\n",
            "checking for ctype.h... yes\n",
            "checking for sys/types.h... (cached) yes\n",
            "checking io.h usability... no\n",
            "checking io.h presence... no\n",
            "checking for io.h... no\n",
            "checking windows.h usability... no\n",
            "checking windows.h presence... no\n",
            "checking for windows.h... no\n",
            "checking pthread.h usability... yes\n",
            "checking pthread.h presence... yes\n",
            "checking for pthread.h... yes\n",
            "checking for off_t... yes\n",
            "checking for size_t... yes\n",
            "checking size of char... 1\n",
            "checking size of short... 2\n",
            "checking size of int... 4\n",
            "checking size of long... 8\n",
            "checking size of long long... 8\n",
            "checking size of size_t... 8\n",
            "checking for size_t... (cached) yes\n",
            "checking for unsigned long long int... yes\n",
            "checking for stdlib.h... (cached) yes\n",
            "checking for unistd.h... (cached) yes\n",
            "checking for sys/param.h... yes\n",
            "checking for getpagesize... yes\n",
            "checking for working mmap... yes\n",
            "checking for main in -lstdc++... yes\n",
            "checking for pthread_create in -lpthread... yes\n",
            "checking for pthread_join in -lpthread... yes\n",
            "checking for getenv... yes\n",
            "checking for opendir... yes\n",
            "checking whether make is GNU Make... yes\n",
            "checking if g++ supports stl <vector> (required)... yes\n",
            "checking if g++ supports stl <list> (required)... yes\n",
            "checking if g++ supports stl <map> (required)... yes\n",
            "checking if g++ supports stl <set> (required)... yes\n",
            "checking if g++ supports stl <queue> (required)... yes\n",
            "checking if g++ supports stl <functional> (required)... yes\n",
            "checking if g++ supports stl <algorithm> (required)... yes\n",
            "checking if g++ supports stl <string> (required)... yes\n",
            "checking if g++ supports stl <iostream> (required)... yes\n",
            "checking if g++ supports stl <sstream> (required)... yes\n",
            "checking if g++ supports stl <fstream> (required)... yes\n",
            "checking if g++ supports template <class T> (required)... yes\n",
            "checking if g++ supports const_cast<> (required)... yes\n",
            "checking if g++ supports static_cast<> (required)... yes\n",
            "checking if g++ supports reinterpret_cast<> (required)... yes\n",
            "checking if g++ supports namespaces (required) ... yes\n",
            "checking if g++ supports __thread (optional)... yes\n",
            "checking if g++ supports template <class T> (required)... yes\n",
            "checking if g++ supports GCC native atomic operations (optional)... yes\n",
            "checking if g++ supports OSX native atomic operations (optional)... no\n",
            "checking if g++ environment provides all required features... yes\n",
            "configure: creating ./config.status\n",
            "config.status: creating Makefile\n",
            "config.status: creating src/Makefile\n",
            "config.status: creating src/Makefile.msvc\n",
            "config.status: creating man/Makefile\n",
            "config.status: creating doc/Makefile\n",
            "config.status: creating tests/Makefile\n",
            "config.status: creating swig/version.h\n",
            "config.status: creating mecab.iss\n",
            "config.status: creating mecab-config\n",
            "config.status: creating mecabrc\n",
            "config.status: creating config.h\n",
            "config.status: executing depfiles commands\n",
            "config.status: executing libtool commands\n",
            "config.status: executing default commands\n",
            "make  all-recursive\n",
            "make[1]: Entering directory '/tmp/mecab-0.996-ko-0.9.2'\n",
            "Making all in src\n",
            "make[2]: Entering directory '/tmp/mecab-0.996-ko-0.9.2/src'\n",
            "/bin/bash ../libtool --tag=CXX   --mode=compile g++ -DHAVE_CONFIG_H -I. -I.. -DDIC_VERSION=102   -DMECAB_DEFAULT_RC=\"\\\"/usr/local/etc/mecabrc\\\"\"    -O3 -Wall  -c -o viterbi.lo viterbi.cpp\n",
            "libtool: compile:  g++ -DHAVE_CONFIG_H -I. -I.. -DDIC_VERSION=102 -DMECAB_DEFAULT_RC=\\\"/usr/local/etc/mecabrc\\\" -O3 -Wall -c viterbi.cpp  -fPIC -DPIC -o .libs/viterbi.o\n",
            "libtool: compile:  g++ -DHAVE_CONFIG_H -I. -I.. -DDIC_VERSION=102 -DMECAB_DEFAULT_RC=\\\"/usr/local/etc/mecabrc\\\" -O3 -Wall -c viterbi.cpp -o viterbi.o >/dev/null 2>&1\n",
            "/bin/bash ../libtool --tag=CXX   --mode=compile g++ -DHAVE_CONFIG_H -I. -I.. -DDIC_VERSION=102   -DMECAB_DEFAULT_RC=\"\\\"/usr/local/etc/mecabrc\\\"\"    -O3 -Wall  -c -o tagger.lo tagger.cpp\n",
            "libtool: compile:  g++ -DHAVE_CONFIG_H -I. -I.. -DDIC_VERSION=102 -DMECAB_DEFAULT_RC=\\\"/usr/local/etc/mecabrc\\\" -O3 -Wall -c tagger.cpp  -fPIC -DPIC -o .libs/tagger.o\n",
            "libtool: compile:  g++ -DHAVE_CONFIG_H -I. -I.. -DDIC_VERSION=102 -DMECAB_DEFAULT_RC=\\\"/usr/local/etc/mecabrc\\\" -O3 -Wall -c tagger.cpp -o tagger.o >/dev/null 2>&1\n",
            "/bin/bash ../libtool --tag=CXX   --mode=compile g++ -DHAVE_CONFIG_H -I. -I.. -DDIC_VERSION=102   -DMECAB_DEFAULT_RC=\"\\\"/usr/local/etc/mecabrc\\\"\"    -O3 -Wall  -c -o utils.lo utils.cpp\n",
            "libtool: compile:  g++ -DHAVE_CONFIG_H -I. -I.. -DDIC_VERSION=102 -DMECAB_DEFAULT_RC=\\\"/usr/local/etc/mecabrc\\\" -O3 -Wall -c utils.cpp  -fPIC -DPIC -o .libs/utils.o\n",
            "libtool: compile:  g++ -DHAVE_CONFIG_H -I. -I.. -DDIC_VERSION=102 -DMECAB_DEFAULT_RC=\\\"/usr/local/etc/mecabrc\\\" -O3 -Wall -c utils.cpp -o utils.o >/dev/null 2>&1\n",
            "/bin/bash ../libtool --tag=CXX   --mode=compile g++ -DHAVE_CONFIG_H -I. -I.. -DDIC_VERSION=102   -DMECAB_DEFAULT_RC=\"\\\"/usr/local/etc/mecabrc\\\"\"    -O3 -Wall  -c -o eval.lo eval.cpp\n",
            "libtool: compile:  g++ -DHAVE_CONFIG_H -I. -I.. -DDIC_VERSION=102 -DMECAB_DEFAULT_RC=\\\"/usr/local/etc/mecabrc\\\" -O3 -Wall -c eval.cpp  -fPIC -DPIC -o .libs/eval.o\n",
            "libtool: compile:  g++ -DHAVE_CONFIG_H -I. -I.. -DDIC_VERSION=102 -DMECAB_DEFAULT_RC=\\\"/usr/local/etc/mecabrc\\\" -O3 -Wall -c eval.cpp -o eval.o >/dev/null 2>&1\n",
            "/bin/bash ../libtool --tag=CXX   --mode=compile g++ -DHAVE_CONFIG_H -I. -I.. -DDIC_VERSION=102   -DMECAB_DEFAULT_RC=\"\\\"/usr/local/etc/mecabrc\\\"\"    -O3 -Wall  -c -o iconv_utils.lo iconv_utils.cpp\n",
            "libtool: compile:  g++ -DHAVE_CONFIG_H -I. -I.. -DDIC_VERSION=102 -DMECAB_DEFAULT_RC=\\\"/usr/local/etc/mecabrc\\\" -O3 -Wall -c iconv_utils.cpp  -fPIC -DPIC -o .libs/iconv_utils.o\n",
            "libtool: compile:  g++ -DHAVE_CONFIG_H -I. -I.. -DDIC_VERSION=102 -DMECAB_DEFAULT_RC=\\\"/usr/local/etc/mecabrc\\\" -O3 -Wall -c iconv_utils.cpp -o iconv_utils.o >/dev/null 2>&1\n",
            "/bin/bash ../libtool --tag=CXX   --mode=compile g++ -DHAVE_CONFIG_H -I. -I.. -DDIC_VERSION=102   -DMECAB_DEFAULT_RC=\"\\\"/usr/local/etc/mecabrc\\\"\"    -O3 -Wall  -c -o dictionary_rewriter.lo dictionary_rewriter.cpp\n",
            "libtool: compile:  g++ -DHAVE_CONFIG_H -I. -I.. -DDIC_VERSION=102 -DMECAB_DEFAULT_RC=\\\"/usr/local/etc/mecabrc\\\" -O3 -Wall -c dictionary_rewriter.cpp  -fPIC -DPIC -o .libs/dictionary_rewriter.o\n",
            "libtool: compile:  g++ -DHAVE_CONFIG_H -I. -I.. -DDIC_VERSION=102 -DMECAB_DEFAULT_RC=\\\"/usr/local/etc/mecabrc\\\" -O3 -Wall -c dictionary_rewriter.cpp -o dictionary_rewriter.o >/dev/null 2>&1\n",
            "/bin/bash ../libtool --tag=CXX   --mode=compile g++ -DHAVE_CONFIG_H -I. -I.. -DDIC_VERSION=102   -DMECAB_DEFAULT_RC=\"\\\"/usr/local/etc/mecabrc\\\"\"    -O3 -Wall  -c -o dictionary_generator.lo dictionary_generator.cpp\n",
            "libtool: compile:  g++ -DHAVE_CONFIG_H -I. -I.. -DDIC_VERSION=102 -DMECAB_DEFAULT_RC=\\\"/usr/local/etc/mecabrc\\\" -O3 -Wall -c dictionary_generator.cpp  -fPIC -DPIC -o .libs/dictionary_generator.o\n",
            "libtool: compile:  g++ -DHAVE_CONFIG_H -I. -I.. -DDIC_VERSION=102 -DMECAB_DEFAULT_RC=\\\"/usr/local/etc/mecabrc\\\" -O3 -Wall -c dictionary_generator.cpp -o dictionary_generator.o >/dev/null 2>&1\n",
            "/bin/bash ../libtool --tag=CXX   --mode=compile g++ -DHAVE_CONFIG_H -I. -I.. -DDIC_VERSION=102   -DMECAB_DEFAULT_RC=\"\\\"/usr/local/etc/mecabrc\\\"\"    -O3 -Wall  -c -o dictionary_compiler.lo dictionary_compiler.cpp\n",
            "libtool: compile:  g++ -DHAVE_CONFIG_H -I. -I.. -DDIC_VERSION=102 -DMECAB_DEFAULT_RC=\\\"/usr/local/etc/mecabrc\\\" -O3 -Wall -c dictionary_compiler.cpp  -fPIC -DPIC -o .libs/dictionary_compiler.o\n",
            "libtool: compile:  g++ -DHAVE_CONFIG_H -I. -I.. -DDIC_VERSION=102 -DMECAB_DEFAULT_RC=\\\"/usr/local/etc/mecabrc\\\" -O3 -Wall -c dictionary_compiler.cpp -o dictionary_compiler.o >/dev/null 2>&1\n",
            "/bin/bash ../libtool --tag=CXX   --mode=compile g++ -DHAVE_CONFIG_H -I. -I.. -DDIC_VERSION=102   -DMECAB_DEFAULT_RC=\"\\\"/usr/local/etc/mecabrc\\\"\"    -O3 -Wall  -c -o context_id.lo context_id.cpp\n",
            "libtool: compile:  g++ -DHAVE_CONFIG_H -I. -I.. -DDIC_VERSION=102 -DMECAB_DEFAULT_RC=\\\"/usr/local/etc/mecabrc\\\" -O3 -Wall -c context_id.cpp  -fPIC -DPIC -o .libs/context_id.o\n",
            "libtool: compile:  g++ -DHAVE_CONFIG_H -I. -I.. -DDIC_VERSION=102 -DMECAB_DEFAULT_RC=\\\"/usr/local/etc/mecabrc\\\" -O3 -Wall -c context_id.cpp -o context_id.o >/dev/null 2>&1\n",
            "/bin/bash ../libtool --tag=CXX   --mode=compile g++ -DHAVE_CONFIG_H -I. -I.. -DDIC_VERSION=102   -DMECAB_DEFAULT_RC=\"\\\"/usr/local/etc/mecabrc\\\"\"    -O3 -Wall  -c -o connector.lo connector.cpp\n",
            "libtool: compile:  g++ -DHAVE_CONFIG_H -I. -I.. -DDIC_VERSION=102 -DMECAB_DEFAULT_RC=\\\"/usr/local/etc/mecabrc\\\" -O3 -Wall -c connector.cpp  -fPIC -DPIC -o .libs/connector.o\n",
            "libtool: compile:  g++ -DHAVE_CONFIG_H -I. -I.. -DDIC_VERSION=102 -DMECAB_DEFAULT_RC=\\\"/usr/local/etc/mecabrc\\\" -O3 -Wall -c connector.cpp -o connector.o >/dev/null 2>&1\n",
            "/bin/bash ../libtool --tag=CXX   --mode=compile g++ -DHAVE_CONFIG_H -I. -I.. -DDIC_VERSION=102   -DMECAB_DEFAULT_RC=\"\\\"/usr/local/etc/mecabrc\\\"\"    -O3 -Wall  -c -o nbest_generator.lo nbest_generator.cpp\n",
            "libtool: compile:  g++ -DHAVE_CONFIG_H -I. -I.. -DDIC_VERSION=102 -DMECAB_DEFAULT_RC=\\\"/usr/local/etc/mecabrc\\\" -O3 -Wall -c nbest_generator.cpp  -fPIC -DPIC -o .libs/nbest_generator.o\n",
            "libtool: compile:  g++ -DHAVE_CONFIG_H -I. -I.. -DDIC_VERSION=102 -DMECAB_DEFAULT_RC=\\\"/usr/local/etc/mecabrc\\\" -O3 -Wall -c nbest_generator.cpp -o nbest_generator.o >/dev/null 2>&1\n",
            "/bin/bash ../libtool --tag=CXX   --mode=compile g++ -DHAVE_CONFIG_H -I. -I.. -DDIC_VERSION=102   -DMECAB_DEFAULT_RC=\"\\\"/usr/local/etc/mecabrc\\\"\"    -O3 -Wall  -c -o writer.lo writer.cpp\n",
            "libtool: compile:  g++ -DHAVE_CONFIG_H -I. -I.. -DDIC_VERSION=102 -DMECAB_DEFAULT_RC=\\\"/usr/local/etc/mecabrc\\\" -O3 -Wall -c writer.cpp  -fPIC -DPIC -o .libs/writer.o\n",
            "libtool: compile:  g++ -DHAVE_CONFIG_H -I. -I.. -DDIC_VERSION=102 -DMECAB_DEFAULT_RC=\\\"/usr/local/etc/mecabrc\\\" -O3 -Wall -c writer.cpp -o writer.o >/dev/null 2>&1\n",
            "/bin/bash ../libtool --tag=CXX   --mode=compile g++ -DHAVE_CONFIG_H -I. -I.. -DDIC_VERSION=102   -DMECAB_DEFAULT_RC=\"\\\"/usr/local/etc/mecabrc\\\"\"    -O3 -Wall  -c -o string_buffer.lo string_buffer.cpp\n",
            "libtool: compile:  g++ -DHAVE_CONFIG_H -I. -I.. -DDIC_VERSION=102 -DMECAB_DEFAULT_RC=\\\"/usr/local/etc/mecabrc\\\" -O3 -Wall -c string_buffer.cpp  -fPIC -DPIC -o .libs/string_buffer.o\n",
            "libtool: compile:  g++ -DHAVE_CONFIG_H -I. -I.. -DDIC_VERSION=102 -DMECAB_DEFAULT_RC=\\\"/usr/local/etc/mecabrc\\\" -O3 -Wall -c string_buffer.cpp -o string_buffer.o >/dev/null 2>&1\n",
            "/bin/bash ../libtool --tag=CXX   --mode=compile g++ -DHAVE_CONFIG_H -I. -I.. -DDIC_VERSION=102   -DMECAB_DEFAULT_RC=\"\\\"/usr/local/etc/mecabrc\\\"\"    -O3 -Wall  -c -o param.lo param.cpp\n",
            "libtool: compile:  g++ -DHAVE_CONFIG_H -I. -I.. -DDIC_VERSION=102 -DMECAB_DEFAULT_RC=\\\"/usr/local/etc/mecabrc\\\" -O3 -Wall -c param.cpp  -fPIC -DPIC -o .libs/param.o\n",
            "libtool: compile:  g++ -DHAVE_CONFIG_H -I. -I.. -DDIC_VERSION=102 -DMECAB_DEFAULT_RC=\\\"/usr/local/etc/mecabrc\\\" -O3 -Wall -c param.cpp -o param.o >/dev/null 2>&1\n",
            "/bin/bash ../libtool --tag=CXX   --mode=compile g++ -DHAVE_CONFIG_H -I. -I.. -DDIC_VERSION=102   -DMECAB_DEFAULT_RC=\"\\\"/usr/local/etc/mecabrc\\\"\"    -O3 -Wall  -c -o tokenizer.lo tokenizer.cpp\n",
            "libtool: compile:  g++ -DHAVE_CONFIG_H -I. -I.. -DDIC_VERSION=102 -DMECAB_DEFAULT_RC=\\\"/usr/local/etc/mecabrc\\\" -O3 -Wall -c tokenizer.cpp  -fPIC -DPIC -o .libs/tokenizer.o\n",
            "libtool: compile:  g++ -DHAVE_CONFIG_H -I. -I.. -DDIC_VERSION=102 -DMECAB_DEFAULT_RC=\\\"/usr/local/etc/mecabrc\\\" -O3 -Wall -c tokenizer.cpp -o tokenizer.o >/dev/null 2>&1\n",
            "/bin/bash ../libtool --tag=CXX   --mode=compile g++ -DHAVE_CONFIG_H -I. -I.. -DDIC_VERSION=102   -DMECAB_DEFAULT_RC=\"\\\"/usr/local/etc/mecabrc\\\"\"    -O3 -Wall  -c -o char_property.lo char_property.cpp\n",
            "libtool: compile:  g++ -DHAVE_CONFIG_H -I. -I.. -DDIC_VERSION=102 -DMECAB_DEFAULT_RC=\\\"/usr/local/etc/mecabrc\\\" -O3 -Wall -c char_property.cpp  -fPIC -DPIC -o .libs/char_property.o\n",
            "libtool: compile:  g++ -DHAVE_CONFIG_H -I. -I.. -DDIC_VERSION=102 -DMECAB_DEFAULT_RC=\\\"/usr/local/etc/mecabrc\\\" -O3 -Wall -c char_property.cpp -o char_property.o >/dev/null 2>&1\n",
            "/bin/bash ../libtool --tag=CXX   --mode=compile g++ -DHAVE_CONFIG_H -I. -I.. -DDIC_VERSION=102   -DMECAB_DEFAULT_RC=\"\\\"/usr/local/etc/mecabrc\\\"\"    -O3 -Wall  -c -o dictionary.lo dictionary.cpp\n",
            "libtool: compile:  g++ -DHAVE_CONFIG_H -I. -I.. -DDIC_VERSION=102 -DMECAB_DEFAULT_RC=\\\"/usr/local/etc/mecabrc\\\" -O3 -Wall -c dictionary.cpp  -fPIC -DPIC -o .libs/dictionary.o\n",
            "libtool: compile:  g++ -DHAVE_CONFIG_H -I. -I.. -DDIC_VERSION=102 -DMECAB_DEFAULT_RC=\\\"/usr/local/etc/mecabrc\\\" -O3 -Wall -c dictionary.cpp -o dictionary.o >/dev/null 2>&1\n",
            "/bin/bash ../libtool --tag=CXX   --mode=compile g++ -DHAVE_CONFIG_H -I. -I.. -DDIC_VERSION=102   -DMECAB_DEFAULT_RC=\"\\\"/usr/local/etc/mecabrc\\\"\"    -O3 -Wall  -c -o feature_index.lo feature_index.cpp\n",
            "libtool: compile:  g++ -DHAVE_CONFIG_H -I. -I.. -DDIC_VERSION=102 -DMECAB_DEFAULT_RC=\\\"/usr/local/etc/mecabrc\\\" -O3 -Wall -c feature_index.cpp  -fPIC -DPIC -o .libs/feature_index.o\n",
            "libtool: compile:  g++ -DHAVE_CONFIG_H -I. -I.. -DDIC_VERSION=102 -DMECAB_DEFAULT_RC=\\\"/usr/local/etc/mecabrc\\\" -O3 -Wall -c feature_index.cpp -o feature_index.o >/dev/null 2>&1\n",
            "/bin/bash ../libtool --tag=CXX   --mode=compile g++ -DHAVE_CONFIG_H -I. -I.. -DDIC_VERSION=102   -DMECAB_DEFAULT_RC=\"\\\"/usr/local/etc/mecabrc\\\"\"    -O3 -Wall  -c -o lbfgs.lo lbfgs.cpp\n",
            "libtool: compile:  g++ -DHAVE_CONFIG_H -I. -I.. -DDIC_VERSION=102 -DMECAB_DEFAULT_RC=\\\"/usr/local/etc/mecabrc\\\" -O3 -Wall -c lbfgs.cpp  -fPIC -DPIC -o .libs/lbfgs.o\n",
            "libtool: compile:  g++ -DHAVE_CONFIG_H -I. -I.. -DDIC_VERSION=102 -DMECAB_DEFAULT_RC=\\\"/usr/local/etc/mecabrc\\\" -O3 -Wall -c lbfgs.cpp -o lbfgs.o >/dev/null 2>&1\n",
            "/bin/bash ../libtool --tag=CXX   --mode=compile g++ -DHAVE_CONFIG_H -I. -I.. -DDIC_VERSION=102   -DMECAB_DEFAULT_RC=\"\\\"/usr/local/etc/mecabrc\\\"\"    -O3 -Wall  -c -o learner_tagger.lo learner_tagger.cpp\n",
            "libtool: compile:  g++ -DHAVE_CONFIG_H -I. -I.. -DDIC_VERSION=102 -DMECAB_DEFAULT_RC=\\\"/usr/local/etc/mecabrc\\\" -O3 -Wall -c learner_tagger.cpp  -fPIC -DPIC -o .libs/learner_tagger.o\n",
            "libtool: compile:  g++ -DHAVE_CONFIG_H -I. -I.. -DDIC_VERSION=102 -DMECAB_DEFAULT_RC=\\\"/usr/local/etc/mecabrc\\\" -O3 -Wall -c learner_tagger.cpp -o learner_tagger.o >/dev/null 2>&1\n",
            "/bin/bash ../libtool --tag=CXX   --mode=compile g++ -DHAVE_CONFIG_H -I. -I.. -DDIC_VERSION=102   -DMECAB_DEFAULT_RC=\"\\\"/usr/local/etc/mecabrc\\\"\"    -O3 -Wall  -c -o learner.lo learner.cpp\n",
            "libtool: compile:  g++ -DHAVE_CONFIG_H -I. -I.. -DDIC_VERSION=102 -DMECAB_DEFAULT_RC=\\\"/usr/local/etc/mecabrc\\\" -O3 -Wall -c learner.cpp  -fPIC -DPIC -o .libs/learner.o\n",
            "libtool: compile:  g++ -DHAVE_CONFIG_H -I. -I.. -DDIC_VERSION=102 -DMECAB_DEFAULT_RC=\\\"/usr/local/etc/mecabrc\\\" -O3 -Wall -c learner.cpp -o learner.o >/dev/null 2>&1\n",
            "/bin/bash ../libtool --tag=CXX   --mode=compile g++ -DHAVE_CONFIG_H -I. -I.. -DDIC_VERSION=102   -DMECAB_DEFAULT_RC=\"\\\"/usr/local/etc/mecabrc\\\"\"    -O3 -Wall  -c -o libmecab.lo libmecab.cpp\n",
            "libtool: compile:  g++ -DHAVE_CONFIG_H -I. -I.. -DDIC_VERSION=102 -DMECAB_DEFAULT_RC=\\\"/usr/local/etc/mecabrc\\\" -O3 -Wall -c libmecab.cpp  -fPIC -DPIC -o .libs/libmecab.o\n",
            "libtool: compile:  g++ -DHAVE_CONFIG_H -I. -I.. -DDIC_VERSION=102 -DMECAB_DEFAULT_RC=\\\"/usr/local/etc/mecabrc\\\" -O3 -Wall -c libmecab.cpp -o libmecab.o >/dev/null 2>&1\n",
            "/bin/bash ../libtool --tag=CXX   --mode=link g++  -O3 -Wall  -no-undefined -version-info 2:0:0  -o libmecab.la -rpath /usr/local/lib viterbi.lo tagger.lo utils.lo eval.lo iconv_utils.lo dictionary_rewriter.lo dictionary_generator.lo dictionary_compiler.lo context_id.lo connector.lo nbest_generator.lo writer.lo string_buffer.lo param.lo tokenizer.lo char_property.lo dictionary.lo feature_index.lo lbfgs.lo learner_tagger.lo learner.lo libmecab.lo  -lpthread -lpthread  -lstdc++ \n",
            "libtool: link: g++  -fPIC -DPIC -shared -nostdlib /usr/lib/gcc/x86_64-linux-gnu/7/../../../x86_64-linux-gnu/crti.o /usr/lib/gcc/x86_64-linux-gnu/7/crtbeginS.o  .libs/viterbi.o .libs/tagger.o .libs/utils.o .libs/eval.o .libs/iconv_utils.o .libs/dictionary_rewriter.o .libs/dictionary_generator.o .libs/dictionary_compiler.o .libs/context_id.o .libs/connector.o .libs/nbest_generator.o .libs/writer.o .libs/string_buffer.o .libs/param.o .libs/tokenizer.o .libs/char_property.o .libs/dictionary.o .libs/feature_index.o .libs/lbfgs.o .libs/learner_tagger.o .libs/learner.o .libs/libmecab.o   -lpthread -L/usr/lib/gcc/x86_64-linux-gnu/7 -L/usr/lib/gcc/x86_64-linux-gnu/7/../../../x86_64-linux-gnu -L/usr/lib/gcc/x86_64-linux-gnu/7/../../../../lib -L/lib/x86_64-linux-gnu -L/lib/../lib -L/usr/lib/x86_64-linux-gnu -L/usr/lib/../lib -L/usr/local/cuda/lib64/stubs -L/usr/lib/gcc/x86_64-linux-gnu/7/../../.. -lstdc++ -lm -lc -lgcc_s /usr/lib/gcc/x86_64-linux-gnu/7/crtendS.o /usr/lib/gcc/x86_64-linux-gnu/7/../../../x86_64-linux-gnu/crtn.o  -O3   -Wl,-soname -Wl,libmecab.so.2 -o .libs/libmecab.so.2.0.0\n",
            "libtool: link: (cd \".libs\" && rm -f \"libmecab.so.2\" && ln -s \"libmecab.so.2.0.0\" \"libmecab.so.2\")\n",
            "libtool: link: (cd \".libs\" && rm -f \"libmecab.so\" && ln -s \"libmecab.so.2.0.0\" \"libmecab.so\")\n",
            "libtool: link: ar cru .libs/libmecab.a  viterbi.o tagger.o utils.o eval.o iconv_utils.o dictionary_rewriter.o dictionary_generator.o dictionary_compiler.o context_id.o connector.o nbest_generator.o writer.o string_buffer.o param.o tokenizer.o char_property.o dictionary.o feature_index.o lbfgs.o learner_tagger.o learner.o libmecab.o\n",
            "libtool: link: ranlib .libs/libmecab.a\n",
            "libtool: link: ( cd \".libs\" && rm -f \"libmecab.la\" && ln -s \"../libmecab.la\" \"libmecab.la\" )\n",
            "g++ -DHAVE_CONFIG_H -I. -I.. -DDIC_VERSION=102   -DMECAB_DEFAULT_RC=\"\\\"/usr/local/etc/mecabrc\\\"\"    -O3 -Wall  -c -o mecab.o mecab.cpp\n",
            "/bin/bash ../libtool --tag=CXX   --mode=link g++  -O3 -Wall    -o mecab mecab.o libmecab.la -lpthread -lpthread  -lstdc++ \n",
            "libtool: link: g++ -O3 -Wall -o .libs/mecab mecab.o  ./.libs/libmecab.so -lpthread -lstdc++\n",
            "g++ -DHAVE_CONFIG_H -I. -I.. -DDIC_VERSION=102   -DMECAB_DEFAULT_RC=\"\\\"/usr/local/etc/mecabrc\\\"\"    -O3 -Wall  -c -o mecab-dict-index.o mecab-dict-index.cpp\n",
            "/bin/bash ../libtool --tag=CXX   --mode=link g++  -O3 -Wall    -o mecab-dict-index mecab-dict-index.o libmecab.la -lpthread -lpthread  -lstdc++ \n",
            "libtool: link: g++ -O3 -Wall -o .libs/mecab-dict-index mecab-dict-index.o  ./.libs/libmecab.so -lpthread -lstdc++\n",
            "g++ -DHAVE_CONFIG_H -I. -I.. -DDIC_VERSION=102   -DMECAB_DEFAULT_RC=\"\\\"/usr/local/etc/mecabrc\\\"\"    -O3 -Wall  -c -o mecab-dict-gen.o mecab-dict-gen.cpp\n",
            "/bin/bash ../libtool --tag=CXX   --mode=link g++  -O3 -Wall    -o mecab-dict-gen mecab-dict-gen.o libmecab.la -lpthread -lpthread  -lstdc++ \n",
            "libtool: link: g++ -O3 -Wall -o .libs/mecab-dict-gen mecab-dict-gen.o  ./.libs/libmecab.so -lpthread -lstdc++\n",
            "g++ -DHAVE_CONFIG_H -I. -I.. -DDIC_VERSION=102   -DMECAB_DEFAULT_RC=\"\\\"/usr/local/etc/mecabrc\\\"\"    -O3 -Wall  -c -o mecab-cost-train.o mecab-cost-train.cpp\n",
            "/bin/bash ../libtool --tag=CXX   --mode=link g++  -O3 -Wall    -o mecab-cost-train mecab-cost-train.o libmecab.la -lpthread -lpthread  -lstdc++ \n",
            "libtool: link: g++ -O3 -Wall -o .libs/mecab-cost-train mecab-cost-train.o  ./.libs/libmecab.so -lpthread -lstdc++\n",
            "g++ -DHAVE_CONFIG_H -I. -I.. -DDIC_VERSION=102   -DMECAB_DEFAULT_RC=\"\\\"/usr/local/etc/mecabrc\\\"\"    -O3 -Wall  -c -o mecab-system-eval.o mecab-system-eval.cpp\n",
            "/bin/bash ../libtool --tag=CXX   --mode=link g++  -O3 -Wall    -o mecab-system-eval mecab-system-eval.o libmecab.la -lpthread -lpthread  -lstdc++ \n",
            "libtool: link: g++ -O3 -Wall -o .libs/mecab-system-eval mecab-system-eval.o  ./.libs/libmecab.so -lpthread -lstdc++\n",
            "g++ -DHAVE_CONFIG_H -I. -I.. -DDIC_VERSION=102   -DMECAB_DEFAULT_RC=\"\\\"/usr/local/etc/mecabrc\\\"\"    -O3 -Wall  -c -o mecab-test-gen.o mecab-test-gen.cpp\n",
            "/bin/bash ../libtool --tag=CXX   --mode=link g++  -O3 -Wall    -o mecab-test-gen mecab-test-gen.o libmecab.la -lpthread -lpthread  -lstdc++ \n",
            "libtool: link: g++ -O3 -Wall -o .libs/mecab-test-gen mecab-test-gen.o  ./.libs/libmecab.so -lpthread -lstdc++\n",
            "make[2]: Leaving directory '/tmp/mecab-0.996-ko-0.9.2/src'\n",
            "Making all in man\n",
            "make[2]: Entering directory '/tmp/mecab-0.996-ko-0.9.2/man'\n",
            "make[2]: Nothing to be done for 'all'.\n",
            "make[2]: Leaving directory '/tmp/mecab-0.996-ko-0.9.2/man'\n",
            "Making all in doc\n",
            "make[2]: Entering directory '/tmp/mecab-0.996-ko-0.9.2/doc'\n",
            "make[2]: Nothing to be done for 'all'.\n",
            "make[2]: Leaving directory '/tmp/mecab-0.996-ko-0.9.2/doc'\n",
            "Making all in tests\n",
            "make[2]: Entering directory '/tmp/mecab-0.996-ko-0.9.2/tests'\n",
            "make[2]: Nothing to be done for 'all'.\n",
            "make[2]: Leaving directory '/tmp/mecab-0.996-ko-0.9.2/tests'\n",
            "make[2]: Entering directory '/tmp/mecab-0.996-ko-0.9.2'\n",
            "make[2]: Leaving directory '/tmp/mecab-0.996-ko-0.9.2'\n",
            "make[1]: Leaving directory '/tmp/mecab-0.996-ko-0.9.2'\n",
            "Making check in src\n",
            "make[1]: Entering directory '/tmp/mecab-0.996-ko-0.9.2/src'\n",
            "make[1]: Nothing to be done for 'check'.\n",
            "make[1]: Leaving directory '/tmp/mecab-0.996-ko-0.9.2/src'\n",
            "Making check in man\n",
            "make[1]: Entering directory '/tmp/mecab-0.996-ko-0.9.2/man'\n",
            "make[1]: Nothing to be done for 'check'.\n",
            "make[1]: Leaving directory '/tmp/mecab-0.996-ko-0.9.2/man'\n",
            "Making check in doc\n",
            "make[1]: Entering directory '/tmp/mecab-0.996-ko-0.9.2/doc'\n",
            "make[1]: Nothing to be done for 'check'.\n",
            "make[1]: Leaving directory '/tmp/mecab-0.996-ko-0.9.2/doc'\n",
            "Making check in tests\n",
            "make[1]: Entering directory '/tmp/mecab-0.996-ko-0.9.2/tests'\n",
            "make  check-TESTS\n",
            "make[2]: Entering directory '/tmp/mecab-0.996-ko-0.9.2/tests'\n",
            "reading ./unk.def ... 2\n",
            "emitting double-array:  50% |#####################                      | \remitting double-array: 100% |###########################################| \n",
            "./model.def is not found. skipped.\n",
            "reading ./dic.csv ... 177\n",
            "emitting double-array:   1% |                                           | \remitting double-array:   3% |#                                          | \remitting double-array:   5% |##                                         | \remitting double-array:   7% |###                                        | \remitting double-array:   9% |###                                        | \remitting double-array:  11% |####                                       | \remitting double-array:  12% |#####                                      | \remitting double-array:  14% |######                                     | \remitting double-array:  16% |#######                                    | \remitting double-array:  18% |#######                                    | \remitting double-array:  20% |########                                   | \remitting double-array:  22% |#########                                  | \remitting double-array:  24% |##########                                 | \remitting double-array:  25% |###########                                | \remitting double-array:  27% |###########                                | \remitting double-array:  29% |############                               | \remitting double-array:  31% |#############                              | \remitting double-array:  33% |##############                             | \remitting double-array:  35% |###############                            | \remitting double-array:  37% |###############                            | \remitting double-array:  38% |################                           | \remitting double-array:  40% |#################                          | \remitting double-array:  42% |##################                         | \remitting double-array:  44% |###################                        | \remitting double-array:  46% |###################                        | \remitting double-array:  48% |####################                       | \remitting double-array:  50% |#####################                      | \remitting double-array:  51% |######################                     | \remitting double-array:  53% |#######################                    | \remitting double-array:  55% |#######################                    | \remitting double-array:  57% |########################                   | \remitting double-array:  59% |#########################                  | \remitting double-array:  61% |##########################                 | \remitting double-array:  62% |###########################                | \remitting double-array:  64% |###########################                | \remitting double-array:  66% |############################               | \remitting double-array:  68% |#############################              | \remitting double-array:  70% |##############################             | \remitting double-array:  72% |###############################            | \remitting double-array:  74% |###############################            | \remitting double-array:  75% |################################           | \remitting double-array:  77% |#################################          | \remitting double-array:  79% |##################################         | \remitting double-array:  81% |###################################        | \remitting double-array:  83% |###################################        | \remitting double-array:  85% |####################################       | \remitting double-array:  87% |#####################################      | \remitting double-array:  88% |######################################     | \remitting double-array:  90% |#######################################    | \remitting double-array:  92% |#######################################    | \remitting double-array:  94% |########################################   | \remitting double-array:  96% |#########################################  | \remitting double-array:  98% |########################################## | \remitting double-array: 100% |###########################################| \n",
            "reading ./matrix.def ... 178x178\n",
            "emitting matrix      :   0% |                                           | \remitting matrix      :   1% |                                           | \remitting matrix      :   2% |                                           | \remitting matrix      :   3% |#                                          | \remitting matrix      :   4% |#                                          | \remitting matrix      :   5% |##                                         | \remitting matrix      :   6% |##                                         | \remitting matrix      :   7% |###                                        | \remitting matrix      :   8% |###                                        | \remitting matrix      :   9% |####                                       | \remitting matrix      :  10% |####                                       | \remitting matrix      :  11% |####                                       | \remitting matrix      :  12% |#####                                      | \remitting matrix      :  13% |#####                                      | \remitting matrix      :  14% |######                                     | \remitting matrix      :  15% |######                                     | \remitting matrix      :  16% |#######                                    | \remitting matrix      :  17% |#######                                    | \remitting matrix      :  18% |#######                                    | \remitting matrix      :  19% |########                                   | \remitting matrix      :  20% |########                                   | \remitting matrix      :  21% |#########                                  | \remitting matrix      :  22% |#########                                  | \remitting matrix      :  23% |#########                                  | \remitting matrix      :  24% |##########                                 | \remitting matrix      :  25% |##########                                 | \remitting matrix      :  26% |###########                                | \remitting matrix      :  27% |###########                                | \remitting matrix      :  28% |############                               | \remitting matrix      :  29% |############                               | \remitting matrix      :  30% |#############                              | \remitting matrix      :  31% |#############                              | \remitting matrix      :  32% |#############                              | \remitting matrix      :  33% |##############                             | \remitting matrix      :  34% |##############                             | \remitting matrix      :  35% |###############                            | \remitting matrix      :  36% |###############                            | \remitting matrix      :  37% |###############                            | \remitting matrix      :  38% |################                           | \remitting matrix      :  39% |################                           | \remitting matrix      :  40% |#################                          | \remitting matrix      :  41% |#################                          | \remitting matrix      :  42% |##################                         | \remitting matrix      :  43% |##################                         | \remitting matrix      :  44% |###################                        | \remitting matrix      :  45% |###################                        | \remitting matrix      :  46% |###################                        | \remitting matrix      :  47% |####################                       | \remitting matrix      :  48% |####################                       | \remitting matrix      :  49% |#####################                      | \remitting matrix      :  50% |#####################                      | \remitting matrix      :  51% |#####################                      | \remitting matrix      :  52% |######################                     | \remitting matrix      :  53% |######################                     | \remitting matrix      :  54% |#######################                    | \remitting matrix      :  55% |#######################                    | \remitting matrix      :  56% |########################                   | \remitting matrix      :  57% |########################                   | \remitting matrix      :  58% |#########################                  | \remitting matrix      :  59% |#########################                  | \remitting matrix      :  60% |#########################                  | \remitting matrix      :  61% |##########################                 | \remitting matrix      :  62% |##########################                 | \remitting matrix      :  63% |###########################                | \remitting matrix      :  64% |###########################                | \remitting matrix      :  65% |############################               | \remitting matrix      :  66% |############################               | \remitting matrix      :  67% |############################               | \remitting matrix      :  68% |#############################              | \remitting matrix      :  69% |#############################              | \remitting matrix      :  70% |##############################             | \remitting matrix      :  71% |##############################             | \remitting matrix      :  72% |###############################            | \remitting matrix      :  73% |###############################            | \remitting matrix      :  74% |###############################            | \remitting matrix      :  75% |################################           | \remitting matrix      :  76% |################################           | \remitting matrix      :  77% |#################################          | \remitting matrix      :  78% |#################################          | \remitting matrix      :  79% |##################################         | \remitting matrix      :  80% |##################################         | \remitting matrix      :  81% |###################################        | \remitting matrix      :  82% |###################################        | \remitting matrix      :  83% |###################################        | \remitting matrix      :  84% |####################################       | \remitting matrix      :  85% |####################################       | \remitting matrix      :  86% |#####################################      | \remitting matrix      :  87% |#####################################      | \remitting matrix      :  88% |#####################################      | \remitting matrix      :  89% |######################################     | \remitting matrix      :  90% |######################################     | \remitting matrix      :  91% |#######################################    | \remitting matrix      :  92% |#######################################    | \remitting matrix      :  93% |########################################   | \remitting matrix      :  94% |########################################   | \remitting matrix      :  95% |#########################################  | \remitting matrix      :  96% |#########################################  | \remitting matrix      :  97% |#########################################  | \remitting matrix      :  98% |########################################## | \remitting matrix      :  99% |########################################## | \remitting matrix      : 100% |###########################################| \n",
            "\n",
            "done!\n",
            "reading ./unk.def ... 2\n",
            "emitting double-array:  50% |#####################                      | \remitting double-array: 100% |###########################################| \n",
            "./model.def is not found. skipped.\n",
            "reading ./dic.csv ... 83\n",
            "emitting double-array:  10% |####                                       | \remitting double-array:  20% |########                                   | \remitting double-array:  30% |############                               | \remitting double-array:  40% |#################                          | \remitting double-array:  50% |#####################                      | \remitting double-array:  60% |#########################                  | \remitting double-array:  70% |##############################             | \remitting double-array:  80% |##################################         | \remitting double-array:  90% |######################################     | \remitting double-array: 100% |###########################################| \n",
            "reading ./matrix.def ... 84x84\n",
            "emitting matrix      :   1% |                                           | \remitting matrix      :   2% |#                                          | \remitting matrix      :   3% |#                                          | \remitting matrix      :   4% |##                                         | \remitting matrix      :   5% |##                                         | \remitting matrix      :   7% |###                                        | \remitting matrix      :   8% |###                                        | \remitting matrix      :   9% |####                                       | \remitting matrix      :  10% |####                                       | \remitting matrix      :  11% |#####                                      | \remitting matrix      :  13% |#####                                      | \remitting matrix      :  14% |######                                     | \remitting matrix      :  15% |######                                     | \remitting matrix      :  16% |#######                                    | \remitting matrix      :  17% |#######                                    | \remitting matrix      :  19% |########                                   | \remitting matrix      :  20% |########                                   | \remitting matrix      :  21% |#########                                  | \remitting matrix      :  22% |#########                                  | \remitting matrix      :  23% |##########                                 | \remitting matrix      :  25% |##########                                 | \remitting matrix      :  26% |###########                                | \remitting matrix      :  27% |###########                                | \remitting matrix      :  28% |############                               | \remitting matrix      :  29% |############                               | \remitting matrix      :  30% |#############                              | \remitting matrix      :  32% |#############                              | \remitting matrix      :  33% |##############                             | \remitting matrix      :  34% |##############                             | \remitting matrix      :  35% |###############                            | \remitting matrix      :  36% |###############                            | \remitting matrix      :  38% |################                           | \remitting matrix      :  39% |################                           | \remitting matrix      :  40% |#################                          | \remitting matrix      :  41% |#################                          | \remitting matrix      :  42% |##################                         | \remitting matrix      :  44% |##################                         | \remitting matrix      :  45% |###################                        | \remitting matrix      :  46% |###################                        | \remitting matrix      :  47% |####################                       | \remitting matrix      :  48% |####################                       | \remitting matrix      :  50% |#####################                      | \remitting matrix      :  51% |######################                     | \remitting matrix      :  52% |######################                     | \remitting matrix      :  53% |#######################                    | \remitting matrix      :  54% |#######################                    | \remitting matrix      :  55% |########################                   | \remitting matrix      :  57% |########################                   | \remitting matrix      :  58% |#########################                  | \remitting matrix      :  59% |#########################                  | \remitting matrix      :  60% |##########################                 | \remitting matrix      :  61% |##########################                 | \remitting matrix      :  63% |###########################                | \remitting matrix      :  64% |###########################                | \remitting matrix      :  65% |############################               | \remitting matrix      :  66% |############################               | \remitting matrix      :  67% |#############################              | \remitting matrix      :  69% |#############################              | \remitting matrix      :  70% |##############################             | \remitting matrix      :  71% |##############################             | \remitting matrix      :  72% |###############################            | \remitting matrix      :  73% |###############################            | \remitting matrix      :  75% |################################           | \remitting matrix      :  76% |################################           | \remitting matrix      :  77% |#################################          | \remitting matrix      :  78% |#################################          | \remitting matrix      :  79% |##################################         | \remitting matrix      :  80% |##################################         | \remitting matrix      :  82% |###################################        | \remitting matrix      :  83% |###################################        | \remitting matrix      :  84% |####################################       | \remitting matrix      :  85% |####################################       | \remitting matrix      :  86% |#####################################      | \remitting matrix      :  88% |#####################################      | \remitting matrix      :  89% |######################################     | \remitting matrix      :  90% |######################################     | \remitting matrix      :  91% |#######################################    | \remitting matrix      :  92% |#######################################    | \remitting matrix      :  94% |########################################   | \remitting matrix      :  95% |########################################   | \remitting matrix      :  96% |#########################################  | \remitting matrix      :  97% |#########################################  | \remitting matrix      :  98% |########################################## | \remitting matrix      : 100% |###########################################| \n",
            "\n",
            "done!\n",
            "reading ./unk.def ... 2\n",
            "emitting double-array:  50% |#####################                      | \remitting double-array: 100% |###########################################| \n",
            "./model.def is not found. skipped.\n",
            "reading ./dic.csv ... 450\n",
            "emitting double-array:   0% |                                           | \remitting double-array:   1% |                                           | \remitting double-array:   2% |                                           | \remitting double-array:   3% |#                                          | \remitting double-array:   4% |#                                          | \remitting double-array:   5% |##                                         | \remitting double-array:   6% |##                                         | \remitting double-array:   7% |###                                        | \remitting double-array:   8% |###                                        | \remitting double-array:   9% |###                                        | \remitting double-array:  10% |####                                       | \remitting double-array:  11% |####                                       | \remitting double-array:  12% |#####                                      | \remitting double-array:  13% |#####                                      | \remitting double-array:  14% |######                                     | \remitting double-array:  15% |######                                     | \remitting double-array:  16% |######                                     | \remitting double-array:  17% |#######                                    | \remitting double-array:  18% |#######                                    | \remitting double-array:  19% |########                                   | \remitting double-array:  20% |########                                   | \remitting double-array:  21% |#########                                  | \remitting double-array:  22% |#########                                  | \remitting double-array:  23% |#########                                  | \remitting double-array:  24% |##########                                 | \remitting double-array:  25% |##########                                 | \remitting double-array:  26% |###########                                | \remitting double-array:  27% |###########                                | \remitting double-array:  28% |############                               | \remitting double-array:  29% |############                               | \remitting double-array:  30% |############                               | \remitting double-array:  31% |#############                              | \remitting double-array:  32% |#############                              | \remitting double-array:  33% |##############                             | \remitting double-array:  34% |##############                             | \remitting double-array:  35% |###############                            | \remitting double-array:  36% |###############                            | \remitting double-array:  37% |###############                            | \remitting double-array:  38% |################                           | \remitting double-array:  39% |################                           | \remitting double-array:  40% |#################                          | \remitting double-array:  41% |#################                          | \remitting double-array:  42% |##################                         | \remitting double-array:  43% |##################                         | \remitting double-array:  44% |##################                         | \remitting double-array:  45% |###################                        | \remitting double-array:  46% |###################                        | \remitting double-array:  47% |####################                       | \remitting double-array:  48% |####################                       | \remitting double-array:  49% |#####################                      | \remitting double-array:  50% |#####################                      | \remitting double-array:  51% |#####################                      | \remitting double-array:  52% |######################                     | \remitting double-array:  53% |######################                     | \remitting double-array:  54% |#######################                    | \remitting double-array:  55% |#######################                    | \remitting double-array:  56% |########################                   | \remitting double-array:  57% |########################                   | \remitting double-array:  58% |#########################                  | \remitting double-array:  59% |#########################                  | \remitting double-array:  60% |#########################                  | \remitting double-array:  61% |##########################                 | \remitting double-array:  62% |##########################                 | \remitting double-array:  63% |###########################                | \remitting double-array:  64% |###########################                | \remitting double-array:  65% |###########################                | \remitting double-array:  66% |############################               | \remitting double-array:  67% |############################               | \remitting double-array:  68% |#############################              | \remitting double-array:  69% |#############################              | \remitting double-array:  70% |##############################             | \remitting double-array:  71% |##############################             | \remitting double-array:  72% |##############################             | \remitting double-array:  73% |###############################            | \remitting double-array:  74% |###############################            | \remitting double-array:  75% |################################           | \remitting double-array:  76% |################################           | \remitting double-array:  77% |#################################          | \remitting double-array:  78% |#################################          | \remitting double-array:  79% |##################################         | \remitting double-array:  80% |##################################         | \remitting double-array:  81% |##################################         | \remitting double-array:  82% |###################################        | \remitting double-array:  83% |###################################        | \remitting double-array:  84% |####################################       | \remitting double-array:  85% |####################################       | \remitting double-array:  86% |#####################################      | \remitting double-array:  87% |#####################################      | \remitting double-array:  88% |#####################################      | \remitting double-array:  89% |######################################     | \remitting double-array:  90% |######################################     | \remitting double-array:  91% |#######################################    | \remitting double-array:  92% |#######################################    | \remitting double-array:  93% |########################################   | \remitting double-array:  94% |########################################   | \remitting double-array:  95% |########################################   | \remitting double-array:  96% |#########################################  | \remitting double-array:  97% |#########################################  | \remitting double-array:  98% |########################################## | \remitting double-array:  99% |########################################## | \remitting double-array: 100% |###########################################| \n",
            "reading ./matrix.def ... 1x1\n",
            "\n",
            "done!\n",
            "reading ./unk.def ... 2\n",
            "emitting double-array:  50% |#####################                      | \remitting double-array: 100% |###########################################| \n",
            "./model.def is not found. skipped.\n",
            "reading ./dic.csv ... 162\n",
            "emitting double-array:   1% |                                           | \remitting double-array:   2% |#                                          | \remitting double-array:   3% |#                                          | \remitting double-array:   4% |##                                         | \remitting double-array:   6% |##                                         | \remitting double-array:   7% |###                                        | \remitting double-array:   8% |###                                        | \remitting double-array:   9% |####                                       | \remitting double-array:  11% |####                                       | \remitting double-array:  12% |#####                                      | \remitting double-array:  13% |#####                                      | \remitting double-array:  14% |######                                     | \remitting double-array:  16% |######                                     | \remitting double-array:  17% |#######                                    | \remitting double-array:  18% |#######                                    | \remitting double-array:  19% |########                                   | \remitting double-array:  20% |#########                                  | \remitting double-array:  22% |#########                                  | \remitting double-array:  23% |##########                                 | \remitting double-array:  24% |##########                                 | \remitting double-array:  25% |###########                                | \remitting double-array:  27% |###########                                | \remitting double-array:  28% |############                               | \remitting double-array:  29% |############                               | \remitting double-array:  30% |#############                              | \remitting double-array:  32% |#############                              | \remitting double-array:  33% |##############                             | \remitting double-array:  34% |##############                             | \remitting double-array:  35% |###############                            | \remitting double-array:  37% |###############                            | \remitting double-array:  38% |################                           | \remitting double-array:  39% |################                           | \remitting double-array:  40% |#################                          | \remitting double-array:  41% |##################                         | \remitting double-array:  43% |##################                         | \remitting double-array:  44% |###################                        | \remitting double-array:  45% |###################                        | \remitting double-array:  46% |####################                       | \remitting double-array:  48% |####################                       | \remitting double-array:  49% |#####################                      | \remitting double-array:  50% |#####################                      | \remitting double-array:  51% |######################                     | \remitting double-array:  53% |######################                     | \remitting double-array:  54% |#######################                    | \remitting double-array:  55% |#######################                    | \remitting double-array:  56% |########################                   | \remitting double-array:  58% |########################                   | \remitting double-array:  59% |#########################                  | \remitting double-array:  60% |##########################                 | \remitting double-array:  61% |##########################                 | \remitting double-array:  62% |###########################                | \remitting double-array:  64% |###########################                | \remitting double-array:  65% |############################               | \remitting double-array:  66% |############################               | \remitting double-array:  67% |#############################              | \remitting double-array:  69% |#############################              | \remitting double-array:  70% |##############################             | \remitting double-array:  71% |##############################             | \remitting double-array:  72% |###############################            | \remitting double-array:  74% |###############################            | \remitting double-array:  75% |################################           | \remitting double-array:  76% |################################           | \remitting double-array:  77% |#################################          | \remitting double-array:  79% |#################################          | \remitting double-array:  80% |##################################         | \remitting double-array:  81% |###################################        | \remitting double-array:  82% |###################################        | \remitting double-array:  83% |####################################       | \remitting double-array:  85% |####################################       | \remitting double-array:  86% |#####################################      | \remitting double-array:  87% |#####################################      | \remitting double-array:  88% |######################################     | \remitting double-array:  90% |######################################     | \remitting double-array:  91% |#######################################    | \remitting double-array:  92% |#######################################    | \remitting double-array:  93% |########################################   | \remitting double-array:  95% |########################################   | \remitting double-array:  96% |#########################################  | \remitting double-array:  97% |#########################################  | \remitting double-array:  98% |########################################## | \remitting double-array: 100% |###########################################| \n",
            "reading ./matrix.def ... 3x3\n",
            "emitting matrix      :  33% |##############                             | \remitting matrix      :  66% |############################               | \remitting matrix      : 100% |###########################################| \n",
            "\n",
            "done!\n",
            "reading ./unk.def ... 2\n",
            "emitting double-array:  50% |#####################                      | \remitting double-array: 100% |###########################################| \n",
            "./model.def is not found. skipped.\n",
            "reading ./dic.csv ... 4\n",
            "emitting double-array:  25% |##########                                 | \remitting double-array:  50% |#####################                      | \remitting double-array:  75% |################################           | \remitting double-array: 100% |###########################################| \n",
            "reading ./matrix.def ... 1x1\n",
            "\n",
            "done!\n",
            "reading ./unk.def ... 11\n",
            "emitting double-array:   9% |###                                        | \remitting double-array:  18% |#######                                    | \remitting double-array:  27% |###########                                | \remitting double-array:  36% |###############                            | \remitting double-array:  45% |###################                        | \remitting double-array:  54% |#######################                    | \remitting double-array:  63% |###########################                | \remitting double-array:  72% |###############################            | \remitting double-array:  81% |###################################        | \remitting double-array:  90% |#######################################    | \remitting double-array: 100% |###########################################| \n",
            "./model.def is not found. skipped.\n",
            "reading ./dic.csv ... 1\n",
            "reading ./matrix.def ... 1x1\n",
            "\n",
            "done!\n",
            "reading ./unk.def ... 2\n",
            "emitting double-array:  50% |#####################                      | \remitting double-array: 100% |###########################################| \n",
            "./model.def is not found. skipped.\n",
            "reading ./dic.csv ... 1\n",
            "reading ./matrix.def ... 1x1\n",
            "\n",
            "done!\n",
            "PASS: run-dics.sh\n",
            "PASS: run-eval.sh\n",
            "reading seed/unk.def ... 40\n",
            "emitting double-array:   9% |###                                        | \remitting double-array:  18% |#######                                    | \remitting double-array:  27% |###########                                | \remitting double-array:  36% |###############                            | \remitting double-array:  45% |###################                        | \remitting double-array:  54% |#######################                    | \remitting double-array:  63% |###########################                | \remitting double-array:  72% |###############################            | \remitting double-array:  81% |###################################        | \remitting double-array:  90% |#######################################    | \remitting double-array: 100% |###########################################| \n",
            "seed/model.def is not found. skipped.\n",
            "reading seed/dic.csv ... 4335\n",
            "emitting double-array:   0% |                                           | \remitting double-array:   1% |                                           | \remitting double-array:   2% |                                           | \remitting double-array:   3% |#                                          | \remitting double-array:   4% |#                                          | \remitting double-array:   5% |##                                         | \remitting double-array:   6% |##                                         | \remitting double-array:   7% |###                                        | \remitting double-array:   8% |###                                        | \remitting double-array:   9% |###                                        | \remitting double-array:  10% |####                                       | \remitting double-array:  11% |####                                       | \remitting double-array:  12% |#####                                      | \remitting double-array:  13% |#####                                      | \remitting double-array:  14% |######                                     | \remitting double-array:  15% |######                                     | \remitting double-array:  16% |######                                     | \remitting double-array:  17% |#######                                    | \remitting double-array:  18% |#######                                    | \remitting double-array:  19% |########                                   | \remitting double-array:  20% |########                                   | \remitting double-array:  21% |#########                                  | \remitting double-array:  22% |#########                                  | \remitting double-array:  23% |#########                                  | \remitting double-array:  24% |##########                                 | \remitting double-array:  25% |##########                                 | \remitting double-array:  26% |###########                                | \remitting double-array:  27% |###########                                | \remitting double-array:  28% |############                               | \remitting double-array:  29% |############                               | \remitting double-array:  30% |############                               | \remitting double-array:  31% |#############                              | \remitting double-array:  32% |#############                              | \remitting double-array:  33% |##############                             | \remitting double-array:  34% |##############                             | \remitting double-array:  35% |###############                            | \remitting double-array:  36% |###############                            | \remitting double-array:  37% |###############                            | \remitting double-array:  38% |################                           | \remitting double-array:  39% |################                           | \remitting double-array:  40% |#################                          | \remitting double-array:  41% |#################                          | \remitting double-array:  42% |##################                         | \remitting double-array:  43% |##################                         | \remitting double-array:  44% |##################                         | \remitting double-array:  45% |###################                        | \remitting double-array:  46% |###################                        | \remitting double-array:  47% |####################                       | \remitting double-array:  48% |####################                       | \remitting double-array:  49% |#####################                      | \remitting double-array:  50% |#####################                      | \remitting double-array:  51% |#####################                      | \remitting double-array:  52% |######################                     | \remitting double-array:  53% |######################                     | \remitting double-array:  54% |#######################                    | \remitting double-array:  55% |#######################                    | \remitting double-array:  56% |########################                   | \remitting double-array:  57% |########################                   | \remitting double-array:  58% |########################                   | \remitting double-array:  59% |#########################                  | \remitting double-array:  60% |#########################                  | \remitting double-array:  61% |##########################                 | \remitting double-array:  62% |##########################                 | \remitting double-array:  63% |###########################                | \remitting double-array:  64% |###########################                | \remitting double-array:  65% |###########################                | \remitting double-array:  66% |############################               | \remitting double-array:  67% |############################               | \remitting double-array:  68% |#############################              | \remitting double-array:  69% |#############################              | \remitting double-array:  70% |##############################             | \remitting double-array:  71% |##############################             | \remitting double-array:  72% |##############################             | \remitting double-array:  73% |###############################            | \remitting double-array:  74% |###############################            | \remitting double-array:  75% |################################           | \remitting double-array:  76% |################################           | \remitting double-array:  77% |#################################          | \remitting double-array:  78% |#################################          | \remitting double-array:  79% |#################################          | \remitting double-array:  80% |##################################         | \remitting double-array:  81% |##################################         | \remitting double-array:  82% |###################################        | \remitting double-array:  83% |###################################        | \remitting double-array:  84% |####################################       | \remitting double-array:  85% |####################################       | \remitting double-array:  86% |#####################################      | \remitting double-array:  87% |#####################################      | \remitting double-array:  88% |#####################################      | \remitting double-array:  89% |######################################     | \remitting double-array:  90% |######################################     | \remitting double-array:  91% |#######################################    | \remitting double-array:  92% |#######################################    | \remitting double-array:  93% |########################################   | \remitting double-array:  94% |########################################   | \remitting double-array:  95% |########################################   | \remitting double-array:  96% |#########################################  | \remitting double-array:  97% |#########################################  | \remitting double-array:  98% |########################################## | \remitting double-array:  99% |########################################## | \remitting double-array: 100% |###########################################| \n",
            "reading seed/matrix.def ... 1x1\n",
            "\n",
            "done!\n",
            "reading corpus ...\n",
            "Number of sentences: 34\n",
            "Number of features:  64108\n",
            "eta:                 0.00005\n",
            "freq:                1\n",
            "eval-size:           6\n",
            "unk-eval-size:       4\n",
            "threads:             1\n",
            "charset:             EUC-JP\n",
            "C(sigma^2):          1.00000\n",
            "\n",
            "iter=0 err=1.00000 F=0.35771 target=2406.28355 diff=1.00000\n",
            "iter=1 err=0.97059 F=0.65652 target=1484.25231 diff=0.38318\n",
            "iter=2 err=0.91176 F=0.79331 target=863.32765 diff=0.41834\n",
            "iter=3 err=0.85294 F=0.89213 target=596.72480 diff=0.30881\n",
            "iter=4 err=0.61765 F=0.95467 target=336.30744 diff=0.43641\n",
            "iter=5 err=0.50000 F=0.96702 target=246.53039 diff=0.26695\n",
            "iter=6 err=0.35294 F=0.95472 target=188.93963 diff=0.23361\n",
            "iter=7 err=0.20588 F=0.99106 target=168.62665 diff=0.10751\n",
            "iter=8 err=0.05882 F=0.99777 target=158.64865 diff=0.05917\n",
            "iter=9 err=0.08824 F=0.99665 target=154.14530 diff=0.02839\n",
            "iter=10 err=0.08824 F=0.99665 target=151.94257 diff=0.01429\n",
            "iter=11 err=0.02941 F=0.99888 target=147.20825 diff=0.03116\n",
            "iter=12 err=0.00000 F=1.00000 target=147.34956 diff=0.00096\n",
            "iter=13 err=0.02941 F=0.99888 target=146.32592 diff=0.00695\n",
            "iter=14 err=0.00000 F=1.00000 target=145.77299 diff=0.00378\n",
            "iter=15 err=0.02941 F=0.99888 target=145.24641 diff=0.00361\n",
            "iter=16 err=0.00000 F=1.00000 target=144.96490 diff=0.00194\n",
            "iter=17 err=0.02941 F=0.99888 target=144.90246 diff=0.00043\n",
            "iter=18 err=0.00000 F=1.00000 target=144.75959 diff=0.00099\n",
            "iter=19 err=0.00000 F=1.00000 target=144.71727 diff=0.00029\n",
            "iter=20 err=0.00000 F=1.00000 target=144.66337 diff=0.00037\n",
            "iter=21 err=0.00000 F=1.00000 target=144.61349 diff=0.00034\n",
            "iter=22 err=0.00000 F=1.00000 target=144.62987 diff=0.00011\n",
            "iter=23 err=0.00000 F=1.00000 target=144.60060 diff=0.00020\n",
            "iter=24 err=0.00000 F=1.00000 target=144.59125 diff=0.00006\n",
            "iter=25 err=0.00000 F=1.00000 target=144.58619 diff=0.00004\n",
            "iter=26 err=0.00000 F=1.00000 target=144.58219 diff=0.00003\n",
            "iter=27 err=0.00000 F=1.00000 target=144.58059 diff=0.00001\n",
            "\n",
            "Done! writing model file ... \n",
            "model-ipadic.c1.0.f1.model is not a binary model. reopen it as text mode...\n",
            "reading seed/unk.def ... 40\n",
            "reading seed/dic.csv ... 4335\n",
            "emitting model-ipadic.c1.0.f1.dic/left-id.def/ model-ipadic.c1.0.f1.dic/right-id.def\n",
            "emitting model-ipadic.c1.0.f1.dic/unk.def ... 40\n",
            "emitting model-ipadic.c1.0.f1.dic/dic.csv ... 4335\n",
            "emitting matrix      :   1% |                                           | \remitting matrix      :   2% |                                           | \remitting matrix      :   3% |#                                          | \remitting matrix      :   4% |#                                          | \remitting matrix      :   5% |##                                         | \remitting matrix      :   6% |##                                         | \remitting matrix      :   7% |###                                        | \remitting matrix      :   8% |###                                        | \remitting matrix      :   9% |###                                        | \remitting matrix      :  10% |####                                       | \remitting matrix      :  11% |####                                       | \remitting matrix      :  12% |#####                                      | \remitting matrix      :  13% |#####                                      | \remitting matrix      :  14% |######                                     | \remitting matrix      :  15% |######                                     | \remitting matrix      :  16% |######                                     | \remitting matrix      :  17% |#######                                    | \remitting matrix      :  18% |#######                                    | \remitting matrix      :  19% |########                                   | \remitting matrix      :  20% |########                                   | \remitting matrix      :  21% |#########                                  | \remitting matrix      :  22% |#########                                  | \remitting matrix      :  23% |#########                                  | \remitting matrix      :  24% |##########                                 | \remitting matrix      :  25% |##########                                 | \remitting matrix      :  26% |###########                                | \remitting matrix      :  27% |###########                                | \remitting matrix      :  28% |############                               | \remitting matrix      :  29% |############                               | \remitting matrix      :  30% |############                               | \remitting matrix      :  31% |#############                              | \remitting matrix      :  32% |#############                              | \remitting matrix      :  33% |##############                             | \remitting matrix      :  34% |##############                             | \remitting matrix      :  35% |###############                            | \remitting matrix      :  36% |###############                            | \remitting matrix      :  37% |################                           | \remitting matrix      :  38% |################                           | \remitting matrix      :  39% |################                           | \remitting matrix      :  40% |#################                          | \remitting matrix      :  41% |#################                          | \remitting matrix      :  42% |##################                         | \remitting matrix      :  43% |##################                         | \remitting matrix      :  44% |###################                        | \remitting matrix      :  45% |###################                        | \remitting matrix      :  46% |###################                        | \remitting matrix      :  47% |####################                       | \remitting matrix      :  48% |####################                       | \remitting matrix      :  49% |#####################                      | \remitting matrix      :  50% |#####################                      | \remitting matrix      :  51% |#####################                      | \remitting matrix      :  52% |######################                     | \remitting matrix      :  53% |######################                     | \remitting matrix      :  54% |#######################                    | \remitting matrix      :  55% |#######################                    | \remitting matrix      :  56% |########################                   | \remitting matrix      :  57% |########################                   | \remitting matrix      :  58% |########################                   | \remitting matrix      :  59% |#########################                  | \remitting matrix      :  60% |#########################                  | \remitting matrix      :  61% |##########################                 | \remitting matrix      :  62% |##########################                 | \remitting matrix      :  63% |###########################                | \remitting matrix      :  64% |###########################                | \remitting matrix      :  65% |###########################                | \remitting matrix      :  66% |############################               | \remitting matrix      :  67% |############################               | \remitting matrix      :  68% |#############################              | \remitting matrix      :  69% |#############################              | \remitting matrix      :  70% |##############################             | \remitting matrix      :  71% |##############################             | \remitting matrix      :  72% |###############################            | \remitting matrix      :  73% |###############################            | \remitting matrix      :  74% |###############################            | \remitting matrix      :  75% |################################           | \remitting matrix      :  76% |################################           | \remitting matrix      :  77% |#################################          | \remitting matrix      :  78% |#################################          | \remitting matrix      :  79% |##################################         | \remitting matrix      :  80% |##################################         | \remitting matrix      :  81% |##################################         | \remitting matrix      :  82% |###################################        | \remitting matrix      :  83% |###################################        | \remitting matrix      :  84% |####################################       | \remitting matrix      :  85% |####################################       | \remitting matrix      :  86% |#####################################      | \remitting matrix      :  87% |#####################################      | \remitting matrix      :  88% |#####################################      | \remitting matrix      :  89% |######################################     | \remitting matrix      :  90% |######################################     | \remitting matrix      :  91% |#######################################    | \remitting matrix      :  92% |#######################################    | \remitting matrix      :  93% |########################################   | \remitting matrix      :  94% |########################################   | \remitting matrix      :  95% |########################################   | \remitting matrix      :  96% |#########################################  | \remitting matrix      :  97% |#########################################  | \remitting matrix      :  98% |########################################## | \remitting matrix      :  99% |########################################## | \remitting matrix      : 100% |###########################################| \n",
            "copying seed/char.def to model-ipadic.c1.0.f1.dic/char.def\n",
            "copying seed/rewrite.def to model-ipadic.c1.0.f1.dic/rewrite.def\n",
            "copying seed/dicrc to model-ipadic.c1.0.f1.dic/dicrc\n",
            "copying seed/feature.def to model-ipadic.c1.0.f1.dic/feature.def\n",
            "copying model-ipadic.c1.0.f1.model to model-ipadic.c1.0.f1.dic/model.def\n",
            "\n",
            "done!\n",
            "reading model-ipadic.c1.0.f1.dic/unk.def ... 40\n",
            "emitting double-array:   9% |###                                        | \remitting double-array:  18% |#######                                    | \remitting double-array:  27% |###########                                | \remitting double-array:  36% |###############                            | \remitting double-array:  45% |###################                        | \remitting double-array:  54% |#######################                    | \remitting double-array:  63% |###########################                | \remitting double-array:  72% |###############################            | \remitting double-array:  81% |###################################        | \remitting double-array:  90% |#######################################    | \remitting double-array: 100% |###########################################| \n",
            "reading model-ipadic.c1.0.f1.dic/dic.csv ... 4335\n",
            "emitting double-array:   0% |                                           | \remitting double-array:   1% |                                           | \remitting double-array:   2% |                                           | \remitting double-array:   3% |#                                          | \remitting double-array:   4% |#                                          | \remitting double-array:   5% |##                                         | \remitting double-array:   6% |##                                         | \remitting double-array:   7% |###                                        | \remitting double-array:   8% |###                                        | \remitting double-array:   9% |###                                        | \remitting double-array:  10% |####                                       | \remitting double-array:  11% |####                                       | \remitting double-array:  12% |#####                                      | \remitting double-array:  13% |#####                                      | \remitting double-array:  14% |######                                     | \remitting double-array:  15% |######                                     | \remitting double-array:  16% |######                                     | \remitting double-array:  17% |#######                                    | \remitting double-array:  18% |#######                                    | \remitting double-array:  19% |########                                   | \remitting double-array:  20% |########                                   | \remitting double-array:  21% |#########                                  | \remitting double-array:  22% |#########                                  | \remitting double-array:  23% |#########                                  | \remitting double-array:  24% |##########                                 | \remitting double-array:  25% |##########                                 | \remitting double-array:  26% |###########                                | \remitting double-array:  27% |###########                                | \remitting double-array:  28% |############                               | \remitting double-array:  29% |############                               | \remitting double-array:  30% |############                               | \remitting double-array:  31% |#############                              | \remitting double-array:  32% |#############                              | \remitting double-array:  33% |##############                             | \remitting double-array:  34% |##############                             | \remitting double-array:  35% |###############                            | \remitting double-array:  36% |###############                            | \remitting double-array:  37% |###############                            | \remitting double-array:  38% |################                           | \remitting double-array:  39% |################                           | \remitting double-array:  40% |#################                          | \remitting double-array:  41% |#################                          | \remitting double-array:  42% |##################                         | \remitting double-array:  43% |##################                         | \remitting double-array:  44% |##################                         | \remitting double-array:  45% |###################                        | \remitting double-array:  46% |###################                        | \remitting double-array:  47% |####################                       | \remitting double-array:  48% |####################                       | \remitting double-array:  49% |#####################                      | \remitting double-array:  50% |#####################                      | \remitting double-array:  51% |#####################                      | \remitting double-array:  52% |######################                     | \remitting double-array:  53% |######################                     | \remitting double-array:  54% |#######################                    | \remitting double-array:  55% |#######################                    | \remitting double-array:  56% |########################                   | \remitting double-array:  57% |########################                   | \remitting double-array:  58% |########################                   | \remitting double-array:  59% |#########################                  | \remitting double-array:  60% |#########################                  | \remitting double-array:  61% |##########################                 | \remitting double-array:  62% |##########################                 | \remitting double-array:  63% |###########################                | \remitting double-array:  64% |###########################                | \remitting double-array:  65% |###########################                | \remitting double-array:  66% |############################               | \remitting double-array:  67% |############################               | \remitting double-array:  68% |#############################              | \remitting double-array:  69% |#############################              | \remitting double-array:  70% |##############################             | \remitting double-array:  71% |##############################             | \remitting double-array:  72% |##############################             | \remitting double-array:  73% |###############################            | \remitting double-array:  74% |###############################            | \remitting double-array:  75% |################################           | \remitting double-array:  76% |################################           | \remitting double-array:  77% |#################################          | \remitting double-array:  78% |#################################          | \remitting double-array:  79% |#################################          | \remitting double-array:  80% |##################################         | \remitting double-array:  81% |##################################         | \remitting double-array:  82% |###################################        | \remitting double-array:  83% |###################################        | \remitting double-array:  84% |####################################       | \remitting double-array:  85% |####################################       | \remitting double-array:  86% |#####################################      | \remitting double-array:  87% |#####################################      | \remitting double-array:  88% |#####################################      | \remitting double-array:  89% |######################################     | \remitting double-array:  90% |######################################     | \remitting double-array:  91% |#######################################    | \remitting double-array:  92% |#######################################    | \remitting double-array:  93% |########################################   | \remitting double-array:  94% |########################################   | \remitting double-array:  95% |########################################   | \remitting double-array:  96% |#########################################  | \remitting double-array:  97% |#########################################  | \remitting double-array:  98% |########################################## | \remitting double-array:  99% |########################################## | \remitting double-array: 100% |###########################################| \n",
            "reading model-ipadic.c1.0.f1.dic/matrix.def ... 346x346\n",
            "emitting matrix      :   0% |                                           | \remitting matrix      :   1% |                                           | \remitting matrix      :   2% |                                           | \remitting matrix      :   3% |#                                          | \remitting matrix      :   4% |#                                          | \remitting matrix      :   5% |##                                         | \remitting matrix      :   6% |##                                         | \remitting matrix      :   7% |###                                        | \remitting matrix      :   8% |###                                        | \remitting matrix      :   9% |###                                        | \remitting matrix      :  10% |####                                       | \remitting matrix      :  11% |####                                       | \remitting matrix      :  12% |#####                                      | \remitting matrix      :  13% |#####                                      | \remitting matrix      :  14% |######                                     | \remitting matrix      :  15% |######                                     | \remitting matrix      :  16% |######                                     | \remitting matrix      :  17% |#######                                    | \remitting matrix      :  18% |#######                                    | \remitting matrix      :  19% |########                                   | \remitting matrix      :  20% |########                                   | \remitting matrix      :  21% |#########                                  | \remitting matrix      :  22% |#########                                  | \remitting matrix      :  23% |#########                                  | \remitting matrix      :  24% |##########                                 | \remitting matrix      :  25% |##########                                 | \remitting matrix      :  26% |###########                                | \remitting matrix      :  27% |###########                                | \remitting matrix      :  28% |############                               | \remitting matrix      :  29% |############                               | \remitting matrix      :  30% |############                               | \remitting matrix      :  31% |#############                              | \remitting matrix      :  32% |#############                              | \remitting matrix      :  33% |##############                             | \remitting matrix      :  34% |##############                             | \remitting matrix      :  35% |###############                            | \remitting matrix      :  36% |###############                            | \remitting matrix      :  37% |################                           | \remitting matrix      :  38% |################                           | \remitting matrix      :  39% |################                           | \remitting matrix      :  40% |#################                          | \remitting matrix      :  41% |#################                          | \remitting matrix      :  42% |##################                         | \remitting matrix      :  43% |##################                         | \remitting matrix      :  44% |###################                        | \remitting matrix      :  45% |###################                        | \remitting matrix      :  46% |###################                        | \remitting matrix      :  47% |####################                       | \remitting matrix      :  48% |####################                       | \remitting matrix      :  49% |#####################                      | \remitting matrix      :  50% |#####################                      | \remitting matrix      :  51% |#####################                      | \remitting matrix      :  52% |######################                     | \remitting matrix      :  53% |######################                     | \remitting matrix      :  54% |#######################                    | \remitting matrix      :  55% |#######################                    | \remitting matrix      :  56% |########################                   | \remitting matrix      :  57% |########################                   | \remitting matrix      :  58% |########################                   | \remitting matrix      :  59% |#########################                  | \remitting matrix      :  60% |#########################                  | \remitting matrix      :  61% |##########################                 | \remitting matrix      :  62% |##########################                 | \remitting matrix      :  63% |###########################                | \remitting matrix      :  64% |###########################                | \remitting matrix      :  65% |###########################                | \remitting matrix      :  66% |############################               | \remitting matrix      :  67% |############################               | \remitting matrix      :  68% |#############################              | \remitting matrix      :  69% |#############################              | \remitting matrix      :  70% |##############################             | \remitting matrix      :  71% |##############################             | \remitting matrix      :  72% |###############################            | \remitting matrix      :  73% |###############################            | \remitting matrix      :  74% |###############################            | \remitting matrix      :  75% |################################           | \remitting matrix      :  76% |################################           | \remitting matrix      :  77% |#################################          | \remitting matrix      :  78% |#################################          | \remitting matrix      :  79% |##################################         | \remitting matrix      :  80% |##################################         | \remitting matrix      :  81% |##################################         | \remitting matrix      :  82% |###################################        | \remitting matrix      :  83% |###################################        | \remitting matrix      :  84% |####################################       | \remitting matrix      :  85% |####################################       | \remitting matrix      :  86% |#####################################      | \remitting matrix      :  87% |#####################################      | \remitting matrix      :  88% |#####################################      | \remitting matrix      :  89% |######################################     | \remitting matrix      :  90% |######################################     | \remitting matrix      :  91% |#######################################    | \remitting matrix      :  92% |#######################################    | \remitting matrix      :  93% |########################################   | \remitting matrix      :  94% |########################################   | \remitting matrix      :  95% |########################################   | \remitting matrix      :  96% |#########################################  | \remitting matrix      :  97% |#########################################  | \remitting matrix      :  98% |########################################## | \remitting matrix      :  99% |########################################## | \remitting matrix      : 100% |###########################################| \n",
            "\n",
            "done!\n",
            "              precision          recall         F\n",
            "LEVEL 0:    12.8959(57/442) 11.8998(57/479) 12.3779\n",
            "LEVEL 1:    12.2172(54/442) 11.2735(54/479) 11.7264\n",
            "LEVEL 2:    11.7647(52/442) 10.8559(52/479) 11.2921\n",
            "LEVEL 4:    11.7647(52/442) 10.8559(52/479) 11.2921\n",
            "PASS: run-cost-train.sh\n",
            "==================\n",
            "All 3 tests passed\n",
            "==================\n",
            "make[2]: Leaving directory '/tmp/mecab-0.996-ko-0.9.2/tests'\n",
            "make[1]: Leaving directory '/tmp/mecab-0.996-ko-0.9.2/tests'\n",
            "make[1]: Entering directory '/tmp/mecab-0.996-ko-0.9.2'\n",
            "make[1]: Leaving directory '/tmp/mecab-0.996-ko-0.9.2'\n",
            "Making install in src\n",
            "make[1]: Entering directory '/tmp/mecab-0.996-ko-0.9.2/src'\n",
            "make[2]: Entering directory '/tmp/mecab-0.996-ko-0.9.2/src'\n",
            "test -z \"/usr/local/lib\" || /bin/mkdir -p \"/usr/local/lib\"\n",
            " /bin/bash ../libtool   --mode=install /usr/bin/install -c   libmecab.la '/usr/local/lib'\n",
            "libtool: install: /usr/bin/install -c .libs/libmecab.so.2.0.0 /usr/local/lib/libmecab.so.2.0.0\n",
            "libtool: install: (cd /usr/local/lib && { ln -s -f libmecab.so.2.0.0 libmecab.so.2 || { rm -f libmecab.so.2 && ln -s libmecab.so.2.0.0 libmecab.so.2; }; })\n",
            "libtool: install: (cd /usr/local/lib && { ln -s -f libmecab.so.2.0.0 libmecab.so || { rm -f libmecab.so && ln -s libmecab.so.2.0.0 libmecab.so; }; })\n",
            "libtool: install: /usr/bin/install -c .libs/libmecab.lai /usr/local/lib/libmecab.la\n",
            "libtool: install: /usr/bin/install -c .libs/libmecab.a /usr/local/lib/libmecab.a\n",
            "libtool: install: chmod 644 /usr/local/lib/libmecab.a\n",
            "libtool: install: ranlib /usr/local/lib/libmecab.a\n",
            "libtool: finish: PATH=\"/usr/local/sbin:/usr/local/bin:/usr/sbin:/usr/bin:/sbin:/bin:/snap/bin:/sbin\" ldconfig -n /usr/local/lib\n",
            "----------------------------------------------------------------------\n",
            "Libraries have been installed in:\n",
            "   /usr/local/lib\n",
            "\n",
            "If you ever happen to want to link against installed libraries\n",
            "in a given directory, LIBDIR, you must either use libtool, and\n",
            "specify the full pathname of the library, or use the `-LLIBDIR'\n",
            "flag during linking and do at least one of the following:\n",
            "   - add LIBDIR to the `LD_LIBRARY_PATH' environment variable\n",
            "     during execution\n",
            "   - add LIBDIR to the `LD_RUN_PATH' environment variable\n",
            "     during linking\n",
            "   - use the `-Wl,-rpath -Wl,LIBDIR' linker flag\n",
            "   - have your system administrator add LIBDIR to `/etc/ld.so.conf'\n",
            "\n",
            "See any operating system documentation about shared libraries for\n",
            "more information, such as the ld(1) and ld.so(8) manual pages.\n",
            "----------------------------------------------------------------------\n",
            "test -z \"/usr/local/bin\" || /bin/mkdir -p \"/usr/local/bin\"\n",
            "  /bin/bash ../libtool   --mode=install /usr/bin/install -c mecab '/usr/local/bin'\n",
            "libtool: install: /usr/bin/install -c .libs/mecab /usr/local/bin/mecab\n",
            "test -z \"/usr/local/libexec/mecab\" || /bin/mkdir -p \"/usr/local/libexec/mecab\"\n",
            "  /bin/bash ../libtool   --mode=install /usr/bin/install -c mecab-dict-index mecab-dict-gen mecab-cost-train mecab-system-eval mecab-test-gen '/usr/local/libexec/mecab'\n",
            "libtool: install: /usr/bin/install -c .libs/mecab-dict-index /usr/local/libexec/mecab/mecab-dict-index\n",
            "libtool: install: /usr/bin/install -c .libs/mecab-dict-gen /usr/local/libexec/mecab/mecab-dict-gen\n",
            "libtool: install: /usr/bin/install -c .libs/mecab-cost-train /usr/local/libexec/mecab/mecab-cost-train\n",
            "libtool: install: /usr/bin/install -c .libs/mecab-system-eval /usr/local/libexec/mecab/mecab-system-eval\n",
            "libtool: install: /usr/bin/install -c .libs/mecab-test-gen /usr/local/libexec/mecab/mecab-test-gen\n",
            "test -z \"/usr/local/include\" || /bin/mkdir -p \"/usr/local/include\"\n",
            " /usr/bin/install -c -m 644 mecab.h '/usr/local/include'\n",
            "make[2]: Leaving directory '/tmp/mecab-0.996-ko-0.9.2/src'\n",
            "make[1]: Leaving directory '/tmp/mecab-0.996-ko-0.9.2/src'\n",
            "Making install in man\n",
            "make[1]: Entering directory '/tmp/mecab-0.996-ko-0.9.2/man'\n",
            "make[2]: Entering directory '/tmp/mecab-0.996-ko-0.9.2/man'\n",
            "make[2]: Nothing to be done for 'install-exec-am'.\n",
            "test -z \"/usr/local/share/man/man1\" || /bin/mkdir -p \"/usr/local/share/man/man1\"\n",
            " /usr/bin/install -c -m 644 mecab.1 '/usr/local/share/man/man1'\n",
            "make[2]: Leaving directory '/tmp/mecab-0.996-ko-0.9.2/man'\n",
            "make[1]: Leaving directory '/tmp/mecab-0.996-ko-0.9.2/man'\n",
            "Making install in doc\n",
            "make[1]: Entering directory '/tmp/mecab-0.996-ko-0.9.2/doc'\n",
            "make[2]: Entering directory '/tmp/mecab-0.996-ko-0.9.2/doc'\n",
            "make[2]: Nothing to be done for 'install-exec-am'.\n",
            "make[2]: Nothing to be done for 'install-data-am'.\n",
            "make[2]: Leaving directory '/tmp/mecab-0.996-ko-0.9.2/doc'\n",
            "make[1]: Leaving directory '/tmp/mecab-0.996-ko-0.9.2/doc'\n",
            "Making install in tests\n",
            "make[1]: Entering directory '/tmp/mecab-0.996-ko-0.9.2/tests'\n",
            "make[2]: Entering directory '/tmp/mecab-0.996-ko-0.9.2/tests'\n",
            "make[2]: Nothing to be done for 'install-exec-am'.\n",
            "make[2]: Nothing to be done for 'install-data-am'.\n",
            "make[2]: Leaving directory '/tmp/mecab-0.996-ko-0.9.2/tests'\n",
            "make[1]: Leaving directory '/tmp/mecab-0.996-ko-0.9.2/tests'\n",
            "make[1]: Entering directory '/tmp/mecab-0.996-ko-0.9.2'\n",
            "make[2]: Entering directory '/tmp/mecab-0.996-ko-0.9.2'\n",
            "test -z \"/usr/local/bin\" || /bin/mkdir -p \"/usr/local/bin\"\n",
            " /usr/bin/install -c mecab-config '/usr/local/bin'\n",
            "test -z \"/usr/local/etc\" || /bin/mkdir -p \"/usr/local/etc\"\n",
            " /usr/bin/install -c -m 644 mecabrc '/usr/local/etc'\n",
            "make[2]: Leaving directory '/tmp/mecab-0.996-ko-0.9.2'\n",
            "make[1]: Leaving directory '/tmp/mecab-0.996-ko-0.9.2'\n",
            "Install mecab-ko-dic\n",
            "Install mecab-ko-dic\n",
            "mecab-ko-dic-2.1.1-20180720/\n",
            "mecab-ko-dic-2.1.1-20180720/configure\n",
            "mecab-ko-dic-2.1.1-20180720/COPYING\n",
            "mecab-ko-dic-2.1.1-20180720/autogen.sh\n",
            "mecab-ko-dic-2.1.1-20180720/Place-station.csv\n",
            "mecab-ko-dic-2.1.1-20180720/NNG.csv\n",
            "mecab-ko-dic-2.1.1-20180720/README\n",
            "mecab-ko-dic-2.1.1-20180720/EF.csv\n",
            "mecab-ko-dic-2.1.1-20180720/MAG.csv\n",
            "mecab-ko-dic-2.1.1-20180720/Preanalysis.csv\n",
            "mecab-ko-dic-2.1.1-20180720/NNB.csv\n",
            "mecab-ko-dic-2.1.1-20180720/Person-actor.csv\n",
            "mecab-ko-dic-2.1.1-20180720/VV.csv\n",
            "mecab-ko-dic-2.1.1-20180720/Makefile.in\n",
            "mecab-ko-dic-2.1.1-20180720/matrix.def\n",
            "mecab-ko-dic-2.1.1-20180720/EC.csv\n",
            "mecab-ko-dic-2.1.1-20180720/NNBC.csv\n",
            "mecab-ko-dic-2.1.1-20180720/clean\n",
            "mecab-ko-dic-2.1.1-20180720/ChangeLog\n",
            "mecab-ko-dic-2.1.1-20180720/J.csv\n",
            "mecab-ko-dic-2.1.1-20180720/.keep\n",
            "mecab-ko-dic-2.1.1-20180720/feature.def\n",
            "mecab-ko-dic-2.1.1-20180720/Foreign.csv\n",
            "mecab-ko-dic-2.1.1-20180720/XPN.csv\n",
            "mecab-ko-dic-2.1.1-20180720/EP.csv\n",
            "mecab-ko-dic-2.1.1-20180720/NR.csv\n",
            "mecab-ko-dic-2.1.1-20180720/left-id.def\n",
            "mecab-ko-dic-2.1.1-20180720/Place.csv\n",
            "mecab-ko-dic-2.1.1-20180720/Symbol.csv\n",
            "mecab-ko-dic-2.1.1-20180720/dicrc\n",
            "mecab-ko-dic-2.1.1-20180720/NP.csv\n",
            "mecab-ko-dic-2.1.1-20180720/ETM.csv\n",
            "mecab-ko-dic-2.1.1-20180720/IC.csv\n",
            "mecab-ko-dic-2.1.1-20180720/Place-address.csv\n",
            "mecab-ko-dic-2.1.1-20180720/Group.csv\n",
            "mecab-ko-dic-2.1.1-20180720/model.def\n",
            "mecab-ko-dic-2.1.1-20180720/XSN.csv\n",
            "mecab-ko-dic-2.1.1-20180720/INSTALL\n",
            "mecab-ko-dic-2.1.1-20180720/rewrite.def\n",
            "mecab-ko-dic-2.1.1-20180720/Inflect.csv\n",
            "mecab-ko-dic-2.1.1-20180720/configure.ac\n",
            "mecab-ko-dic-2.1.1-20180720/NNP.csv\n",
            "mecab-ko-dic-2.1.1-20180720/CoinedWord.csv\n",
            "mecab-ko-dic-2.1.1-20180720/XSV.csv\n",
            "mecab-ko-dic-2.1.1-20180720/pos-id.def\n",
            "mecab-ko-dic-2.1.1-20180720/Makefile.am\n",
            "mecab-ko-dic-2.1.1-20180720/unk.def\n",
            "mecab-ko-dic-2.1.1-20180720/missing\n",
            "mecab-ko-dic-2.1.1-20180720/VCP.csv\n",
            "mecab-ko-dic-2.1.1-20180720/install-sh\n",
            "mecab-ko-dic-2.1.1-20180720/Hanja.csv\n",
            "mecab-ko-dic-2.1.1-20180720/MAJ.csv\n",
            "mecab-ko-dic-2.1.1-20180720/XSA.csv\n",
            "mecab-ko-dic-2.1.1-20180720/Wikipedia.csv\n",
            "mecab-ko-dic-2.1.1-20180720/tools/\n",
            "mecab-ko-dic-2.1.1-20180720/tools/add-userdic.sh\n",
            "mecab-ko-dic-2.1.1-20180720/tools/mecab-bestn.sh\n",
            "mecab-ko-dic-2.1.1-20180720/tools/convert_for_using_store.sh\n",
            "mecab-ko-dic-2.1.1-20180720/user-dic/\n",
            "mecab-ko-dic-2.1.1-20180720/user-dic/nnp.csv\n",
            "mecab-ko-dic-2.1.1-20180720/user-dic/place.csv\n",
            "mecab-ko-dic-2.1.1-20180720/user-dic/person.csv\n",
            "mecab-ko-dic-2.1.1-20180720/user-dic/README.md\n",
            "mecab-ko-dic-2.1.1-20180720/NorthKorea.csv\n",
            "mecab-ko-dic-2.1.1-20180720/VX.csv\n",
            "mecab-ko-dic-2.1.1-20180720/right-id.def\n",
            "mecab-ko-dic-2.1.1-20180720/VA.csv\n",
            "mecab-ko-dic-2.1.1-20180720/char.def\n",
            "mecab-ko-dic-2.1.1-20180720/NEWS\n",
            "mecab-ko-dic-2.1.1-20180720/MM.csv\n",
            "mecab-ko-dic-2.1.1-20180720/ETN.csv\n",
            "mecab-ko-dic-2.1.1-20180720/AUTHORS\n",
            "mecab-ko-dic-2.1.1-20180720/Person.csv\n",
            "mecab-ko-dic-2.1.1-20180720/XR.csv\n",
            "mecab-ko-dic-2.1.1-20180720/VCN.csv\n",
            "Looking in current directory for macros.\n",
            "checking for a BSD-compatible install... /usr/bin/install -c\n",
            "checking whether build environment is sane... yes\n",
            "checking for a thread-safe mkdir -p... /bin/mkdir -p\n",
            "checking for gawk... no\n",
            "checking for mawk... mawk\n",
            "checking whether make sets $(MAKE)... yes\n",
            "checking whether make supports nested variables... yes\n",
            "checking for mecab-config... /usr/local/bin/mecab-config\n",
            "checking that generated files are newer than configure... done\n",
            "configure: creating ./config.status\n",
            "config.status: creating Makefile\n",
            "/usr/local/lib\n",
            "/usr/local/libexec/mecab/mecab-dict-index -d . -o . -f UTF-8 -t UTF-8\n",
            "reading ./unk.def ... 13\n",
            "emitting double-array:   7% |###                                        | \remitting double-array:  15% |######                                     | \remitting double-array:  23% |#########                                  | \remitting double-array:  30% |#############                              | \remitting double-array:  38% |################                           | \remitting double-array:  46% |###################                        | \remitting double-array:  53% |#######################                    | \remitting double-array:  61% |##########################                 | \remitting double-array:  69% |#############################              | \remitting double-array:  76% |#################################          | \remitting double-array:  84% |####################################       | \remitting double-array:  92% |#######################################    | \remitting double-array: 100% |###########################################| \n",
            "reading ./XR.csv ... 3637\n",
            "reading ./Place-address.csv ... 19301\n",
            "reading ./XSN.csv ... 124\n",
            "reading ./MAJ.csv ... 240\n",
            "reading ./MAG.csv ... 14242\n",
            "reading ./VCN.csv ... 7\n",
            "reading ./VCP.csv ... 9\n",
            "reading ./NP.csv ... 342\n",
            "reading ./XSA.csv ... 19\n",
            "reading ./J.csv ... 416\n",
            "reading ./VX.csv ... 125\n",
            "reading ./Preanalysis.csv ... 5\n",
            "reading ./Group.csv ... 3176\n",
            "reading ./Wikipedia.csv ... 36762\n",
            "reading ./Hanja.csv ... 125750\n",
            "reading ./IC.csv ... 1305\n",
            "reading ./Person-actor.csv ... 99230\n",
            "reading ./VV.csv ... 7331\n",
            "reading ./MM.csv ... 453\n",
            "reading ./XPN.csv ... 83\n",
            "reading ./VA.csv ... 2360\n",
            "reading ./XSV.csv ... 23\n",
            "reading ./ETM.csv ... 133\n",
            "reading ./EF.csv ... 1820\n",
            "reading ./NNB.csv ... 140\n",
            "reading ./Symbol.csv ... 16\n",
            "reading ./Place.csv ... 30303\n",
            "reading ./NNG.csv ... 208524\n",
            "reading ./Foreign.csv ... 11690\n",
            "reading ./NNP.csv ... 2371\n",
            "reading ./ETN.csv ... 14\n",
            "reading ./EC.csv ... 2547\n",
            "reading ./Place-station.csv ... 1145\n",
            "reading ./Person.csv ... 196459\n",
            "reading ./NorthKorea.csv ... 3\n",
            "reading ./CoinedWord.csv ... 148\n",
            "reading ./EP.csv ... 51\n",
            "reading ./Inflect.csv ... 44820\n",
            "reading ./NR.csv ... 482\n",
            "reading ./NNBC.csv ... 677\n",
            "emitting double-array:   0% |                                           | \remitting double-array:   1% |                                           | \remitting double-array:   2% |                                           | \remitting double-array:   3% |#                                          | \remitting double-array:   4% |#                                          | \remitting double-array:   5% |##                                         | \remitting double-array:   6% |##                                         | \remitting double-array:   7% |###                                        | \remitting double-array:   8% |###                                        | \remitting double-array:   9% |###                                        | \remitting double-array:  10% |####                                       | \remitting double-array:  11% |####                                       | \remitting double-array:  12% |#####                                      | \remitting double-array:  13% |#####                                      | \remitting double-array:  14% |######                                     | \remitting double-array:  15% |######                                     | \remitting double-array:  16% |######                                     | \remitting double-array:  17% |#######                                    | \remitting double-array:  18% |#######                                    | \remitting double-array:  19% |########                                   | \remitting double-array:  20% |########                                   | \remitting double-array:  21% |#########                                  | \remitting double-array:  22% |#########                                  | \remitting double-array:  23% |#########                                  | \remitting double-array:  24% |##########                                 | \remitting double-array:  25% |##########                                 | \remitting double-array:  26% |###########                                | \remitting double-array:  27% |###########                                | \remitting double-array:  28% |############                               | \remitting double-array:  29% |############                               | \remitting double-array:  30% |############                               | \remitting double-array:  31% |#############                              | \remitting double-array:  32% |#############                              | \remitting double-array:  33% |##############                             | \remitting double-array:  34% |##############                             | \remitting double-array:  35% |###############                            | \remitting double-array:  36% |###############                            | \remitting double-array:  37% |###############                            | \remitting double-array:  38% |################                           | \remitting double-array:  39% |################                           | \remitting double-array:  40% |#################                          | \remitting double-array:  41% |#################                          | \remitting double-array:  42% |##################                         | \remitting double-array:  43% |##################                         | \remitting double-array:  44% |##################                         | \remitting double-array:  45% |###################                        | \remitting double-array:  46% |###################                        | \remitting double-array:  47% |####################                       | \remitting double-array:  48% |####################                       | \remitting double-array:  49% |#####################                      | \remitting double-array:  50% |#####################                      | \remitting double-array:  51% |#####################                      | \remitting double-array:  52% |######################                     | \remitting double-array:  53% |######################                     | \remitting double-array:  54% |#######################                    | \remitting double-array:  55% |#######################                    | \remitting double-array:  56% |########################                   | \remitting double-array:  57% |########################                   | \remitting double-array:  58% |########################                   | \remitting double-array:  59% |#########################                  | \remitting double-array:  60% |#########################                  | \remitting double-array:  61% |##########################                 | \remitting double-array:  62% |##########################                 | \remitting double-array:  63% |###########################                | \remitting double-array:  64% |###########################                | \remitting double-array:  65% |###########################                | \remitting double-array:  66% |############################               | \remitting double-array:  67% |############################               | \remitting double-array:  68% |#############################              | \remitting double-array:  69% |#############################              | \remitting double-array:  70% |##############################             | \remitting double-array:  71% |##############################             | \remitting double-array:  72% |##############################             | \remitting double-array:  73% |###############################            | \remitting double-array:  74% |###############################            | \remitting double-array:  75% |################################           | \remitting double-array:  76% |################################           | \remitting double-array:  77% |#################################          | \remitting double-array:  78% |#################################          | \remitting double-array:  79% |#################################          | \remitting double-array:  80% |##################################         | \remitting double-array:  81% |##################################         | \remitting double-array:  82% |###################################        | \remitting double-array:  83% |###################################        | \remitting double-array:  84% |####################################       | \remitting double-array:  85% |####################################       | \remitting double-array:  86% |####################################       | \remitting double-array:  87% |#####################################      | \remitting double-array:  88% |#####################################      | \remitting double-array:  89% |######################################     | \remitting double-array:  90% |######################################     | \remitting double-array:  91% |#######################################    | \remitting double-array:  92% |#######################################    | \remitting double-array:  93% |#######################################    | \remitting double-array:  94% |########################################   | \remitting double-array:  95% |########################################   | \remitting double-array:  96% |#########################################  | \remitting double-array:  97% |#########################################  | \remitting double-array:  98% |########################################## | \remitting double-array:  99% |########################################## | \remitting double-array: 100% |###########################################| \n",
            "reading ./matrix.def ... 3822x2693\n",
            "emitting matrix      :   0% |                                           | \remitting matrix      :   1% |                                           | \remitting matrix      :   2% |                                           | \remitting matrix      :   3% |#                                          | \remitting matrix      :   4% |#                                          | \remitting matrix      :   5% |##                                         | \remitting matrix      :   6% |##                                         | \remitting matrix      :   7% |###                                        | \remitting matrix      :   8% |###                                        | \remitting matrix      :   9% |###                                        | \remitting matrix      :  10% |####                                       | \remitting matrix      :  11% |####                                       | \remitting matrix      :  12% |#####                                      | \remitting matrix      :  13% |#####                                      | \remitting matrix      :  14% |######                                     | \remitting matrix      :  15% |######                                     | \remitting matrix      :  16% |######                                     | \remitting matrix      :  17% |#######                                    | \remitting matrix      :  18% |#######                                    | \remitting matrix      :  19% |########                                   | \remitting matrix      :  20% |########                                   | \remitting matrix      :  21% |#########                                  | \remitting matrix      :  22% |#########                                  | \remitting matrix      :  23% |#########                                  | \remitting matrix      :  24% |##########                                 | \remitting matrix      :  25% |##########                                 | \remitting matrix      :  26% |###########                                | \remitting matrix      :  27% |###########                                | \remitting matrix      :  28% |############                               | \remitting matrix      :  29% |############                               | \remitting matrix      :  30% |############                               | \remitting matrix      :  31% |#############                              | \remitting matrix      :  32% |#############                              | \remitting matrix      :  33% |##############                             | \remitting matrix      :  34% |##############                             | \remitting matrix      :  35% |###############                            | \remitting matrix      :  36% |###############                            | \remitting matrix      :  37% |###############                            | \remitting matrix      :  38% |################                           | \remitting matrix      :  39% |################                           | \remitting matrix      :  40% |#################                          | \remitting matrix      :  41% |#################                          | \remitting matrix      :  42% |##################                         | \remitting matrix      :  43% |##################                         | \remitting matrix      :  44% |##################                         | \remitting matrix      :  45% |###################                        | \remitting matrix      :  46% |###################                        | \remitting matrix      :  47% |####################                       | \remitting matrix      :  48% |####################                       | \remitting matrix      :  49% |#####################                      | \remitting matrix      :  50% |#####################                      | \remitting matrix      :  51% |#####################                      | \remitting matrix      :  52% |######################                     | \remitting matrix      :  53% |######################                     | \remitting matrix      :  54% |#######################                    | \remitting matrix      :  55% |#######################                    | \remitting matrix      :  56% |########################                   | \remitting matrix      :  57% |########################                   | \remitting matrix      :  58% |########################                   | \remitting matrix      :  59% |#########################                  | \remitting matrix      :  60% |#########################                  | \remitting matrix      :  61% |##########################                 | \remitting matrix      :  62% |##########################                 | \remitting matrix      :  63% |###########################                | \remitting matrix      :  64% |###########################                | \remitting matrix      :  65% |###########################                | \remitting matrix      :  66% |############################               | \remitting matrix      :  67% |############################               | \remitting matrix      :  68% |#############################              | \remitting matrix      :  69% |#############################              | \remitting matrix      :  70% |##############################             | \remitting matrix      :  71% |##############################             | \remitting matrix      :  72% |##############################             | \remitting matrix      :  73% |###############################            | \remitting matrix      :  74% |###############################            | \remitting matrix      :  75% |################################           | \remitting matrix      :  76% |################################           | \remitting matrix      :  77% |#################################          | \remitting matrix      :  78% |#################################          | \remitting matrix      :  79% |#################################          | \remitting matrix      :  80% |##################################         | \remitting matrix      :  81% |##################################         | \remitting matrix      :  82% |###################################        | \remitting matrix      :  83% |###################################        | \remitting matrix      :  84% |####################################       | \remitting matrix      :  85% |####################################       | \remitting matrix      :  86% |####################################       | \remitting matrix      :  87% |#####################################      | \remitting matrix      :  88% |#####################################      | \remitting matrix      :  89% |######################################     | \remitting matrix      :  90% |######################################     | \remitting matrix      :  91% |#######################################    | \remitting matrix      :  92% |#######################################    | \remitting matrix      :  93% |#######################################    | \remitting matrix      :  94% |########################################   | \remitting matrix      :  95% |########################################   | \remitting matrix      :  96% |#########################################  | \remitting matrix      :  97% |#########################################  | \remitting matrix      :  98% |########################################## | \remitting matrix      :  99% |########################################## | \remitting matrix      : 100% |###########################################| \n",
            "\n",
            "done!\n",
            "echo To enable dictionary, rewrite /usr/local/etc/mecabrc as \\\"dicdir = /usr/local/lib/mecab/dic/mecab-ko-dic\\\"\n",
            "To enable dictionary, rewrite /usr/local/etc/mecabrc as \"dicdir = /usr/local/lib/mecab/dic/mecab-ko-dic\"\n",
            "make[1]: Entering directory '/tmp/mecab-ko-dic-2.1.1-20180720'\n",
            "make[1]: Nothing to be done for 'install-exec-am'.\n",
            " /bin/mkdir -p '/usr/local/lib/mecab/dic/mecab-ko-dic'\n",
            " /usr/bin/install -c -m 644 model.bin matrix.bin char.bin sys.dic unk.dic left-id.def right-id.def rewrite.def pos-id.def dicrc '/usr/local/lib/mecab/dic/mecab-ko-dic'\n",
            "make[1]: Leaving directory '/tmp/mecab-ko-dic-2.1.1-20180720'\n",
            "Install mecab-python\n",
            "/tmp /tmp/mecab-ko-dic-2.1.1-20180720\n",
            "/tmp/mecab-ko-dic-2.1.1-20180720\n",
            "Processing /tmp/mecab-python-0.996\n",
            "Building wheels for collected packages: mecab-python\n",
            "  Building wheel for mecab-python (setup.py): started\n",
            "  Building wheel for mecab-python (setup.py): finished with status 'done'\n",
            "  Created wheel for mecab-python: filename=mecab_python-0.996_ko_0.9.2-cp37-cp37m-linux_x86_64.whl size=141809 sha256=e2171ad7976a46532c32f55e61e91623c6188d6270666c477c3dcde62f15659c\n",
            "  Stored in directory: /root/.cache/pip/wheels/40/7b/9f/2922869bef86c3354ae7034f7a3647c573ee1997c2dad0290a\n",
            "Failed to build mecab-python\n",
            "Installing collected packages: mecab-python\n",
            "    Running setup.py install for mecab-python: started\n",
            "    Running setup.py install for mecab-python: finished with status 'done'\n",
            "Successfully installed mecab-python-0.996-ko-0.9.2\n",
            "Done.\n",
            "Processing /tmp/mecab-python-0.996\n",
            "Building wheels for collected packages: mecab-python\n",
            "  Building wheel for mecab-python (setup.py): started\n",
            "  Building wheel for mecab-python (setup.py): finished with status 'done'\n",
            "  Created wheel for mecab-python: filename=mecab_python-0.996_ko_0.9.2-cp37-cp37m-linux_x86_64.whl size=141810 sha256=3992a0462f692053a3ebca14c291e0ae1e8ad628a0660a9ca5d55d8449073643\n",
            "  Stored in directory: /root/.cache/pip/wheels/40/7b/9f/2922869bef86c3354ae7034f7a3647c573ee1997c2dad0290a\n",
            "Failed to build mecab-python\n",
            "Installing collected packages: mecab-python\n",
            "  Attempting uninstall: mecab-python\n",
            "    Found existing installation: mecab-python 0.996-ko-0.9.2\n",
            "    Uninstalling mecab-python-0.996-ko-0.9.2:\n",
            "      Successfully uninstalled mecab-python-0.996-ko-0.9.2\n",
            "    Running setup.py install for mecab-python: started\n",
            "    Running setup.py install for mecab-python: finished with status 'done'\n",
            "Successfully installed mecab-python-0.996-ko-0.9.2\n"
          ]
        },
        {
          "output_type": "stream",
          "name": "stderr",
          "text": [
            "debconf: unable to initialize frontend: Dialog\n",
            "debconf: (No usable dialog-like program is installed, so the dialog based frontend cannot be used. at /usr/share/perl5/Debconf/FrontEnd/Dialog.pm line 76, <> line 5.)\n",
            "debconf: falling back to frontend: Readline\n",
            "debconf: unable to initialize frontend: Readline\n",
            "debconf: (This frontend requires a controlling tty.)\n",
            "debconf: falling back to frontend: Teletype\n",
            "dpkg-preconfigure: unable to re-open stdin: \n",
            "  % Total    % Received % Xferd  Average Speed   Time    Time     Time  Current\n",
            "                                 Dload  Upload   Total   Spent    Left  Speed\n",
            "\r  0     0    0     0    0     0      0      0 --:--:-- --:--:-- --:--:--     0\r  0     0    0     0    0     0      0      0 --:--:-- --:--:-- --:--:--     0\r  0     0    0     0    0     0      0      0 --:--:-- --:--:-- --:--:--     0\n",
            "\r100 1381k  100 1381k    0     0  1309k      0  0:00:01  0:00:01 --:--:-- 1309k\n",
            "./configure: line 7378: /usr/bin/file: No such file or directory\n",
            "In file included from viterbi.cpp:14:0:\n",
            "param.h:30:13: warning: 'Target {anonymous}::lexical_cast(Source) [with Target = std::__cxx11::basic_string<char>; Source = std::__cxx11::basic_string<char>]' defined but not used [-Wunused-function]\n",
            " std::string lexical_cast<std::string, std::string>(std::string arg) {\n",
            "             ^~~~~~~~~~~~~~~~~~~~~~~~~~~~~~~~~~~~~~\n",
            "learner_tagger.cpp:25:7: warning: 'char* MeCab::{anonymous}::mystrdup(const string&)' defined but not used [-Wunused-function]\n",
            " char *mystrdup(const std::string &str) {\n",
            "       ^~~~~~~~\n",
            "ar: `u' modifier ignored since `D' is the default (see `U')\n",
            "./pos-id.def is not found. minimum setting is used\n",
            "./pos-id.def is not found. minimum setting is used\n",
            "./pos-id.def is not found. minimum setting is used\n",
            "./pos-id.def is not found. minimum setting is used\n",
            "./pos-id.def is not found. minimum setting is used\n",
            "./pos-id.def is not found. minimum setting is used\n",
            "./pos-id.def is not found. minimum setting is used\n",
            "./pos-id.def is not found. minimum setting is used\n",
            "./pos-id.def is not found. minimum setting is used\n",
            "./pos-id.def is not found. minimum setting is used\n",
            "./pos-id.def is not found. minimum setting is used\n",
            "./pos-id.def is not found. minimum setting is used\n",
            "./pos-id.def is not found. minimum setting is used\n",
            "./pos-id.def is not found. minimum setting is used\n",
            "seed/pos-id.def is not found. minimum setting is used\n",
            "seed/pos-id.def is not found. minimum setting is used\n",
            "model-ipadic.c1.0.f1.dic/pos-id.def is not found. minimum setting is used\n",
            "model-ipadic.c1.0.f1.dic/pos-id.def is not found. minimum setting is used\n",
            "  % Total    % Received % Xferd  Average Speed   Time    Time     Time  Current\n",
            "                                 Dload  Upload   Total   Spent    Left  Speed\n",
            "\r  0     0    0     0    0     0      0      0 --:--:-- --:--:-- --:--:--     0\r  0     0    0     0    0     0      0      0 --:--:-- --:--:-- --:--:--     0\r  0     0    0     0    0     0      0      0 --:--:-- --:--:-- --:--:--     0\n",
            "\r  0 47.4M    0  388k    0     0   365k      0  0:02:13  0:00:01  0:02:12  365k\r 83 47.4M   83 39.7M    0     0  19.2M      0  0:00:02  0:00:02 --:--:-- 39.2M\r100 47.4M  100 47.4M    0     0  21.5M      0  0:00:02  0:00:02 --:--:-- 41.5M\n",
            "configure.ac:2: warning: AM_INIT_AUTOMAKE: two- and three-arguments forms are deprecated.  For more info, see:\n",
            "configure.ac:2: http://www.gnu.org/software/automake/manual/automake.html#Modernize-AM_005fINIT_005fAUTOMAKE-invocation\n",
            "/tmp/mecab-ko-dic-2.1.1-20180720/missing: Unknown `--is-lightweight' option\n",
            "Try `/tmp/mecab-ko-dic-2.1.1-20180720/missing --help' for more information\n",
            "configure: WARNING: 'missing' script is too old or missing\n",
            "/sbin/ldconfig.real: /usr/local/lib/python3.7/dist-packages/ideep4py/lib/libmkldnn.so.0 is not a symbolic link\n",
            "\n",
            "Cloning into 'mecab-python-0.996'...\n",
            "  DEPRECATION: A future pip version will change local packages to be built in-place without first copying to a temporary directory. We recommend you use --use-feature=in-tree-build to test your packages with this new behavior before it becomes the default.\n",
            "   pip 21.3 will remove support for this functionality. You can find discussion regarding this at https://github.com/pypa/pip/issues/7555.\n",
            "  WARNING: Built wheel for mecab-python is invalid: Metadata 1.2 mandates PEP 440 version, but '0.996-ko-0.9.2' is not\n",
            "  DEPRECATION: mecab-python was installed using the legacy 'setup.py install' method, because a wheel could not be built for it. A possible replacement is to fix the wheel build issue reported above. You can find discussion regarding this at https://github.com/pypa/pip/issues/8368.\n",
            "  DEPRECATION: A future pip version will change local packages to be built in-place without first copying to a temporary directory. We recommend you use --use-feature=in-tree-build to test your packages with this new behavior before it becomes the default.\n",
            "   pip 21.3 will remove support for this functionality. You can find discussion regarding this at https://github.com/pypa/pip/issues/7555.\n",
            "  WARNING: Built wheel for mecab-python is invalid: Metadata 1.2 mandates PEP 440 version, but '0.996-ko-0.9.2' is not\n",
            "  DEPRECATION: mecab-python was installed using the legacy 'setup.py install' method, because a wheel could not be built for it. A possible replacement is to fix the wheel build issue reported above. You can find discussion regarding this at https://github.com/pypa/pip/issues/8368.\n"
          ]
        }
      ]
    },
    {
      "cell_type": "code",
      "metadata": {
        "id": "fYGdCu4geME1"
      },
      "source": [
        "import pandas as pd\n",
        "import numpy as np\n",
        "import matplotlib.pyplot as plt\n",
        "import json\n",
        "import os\n",
        "import random\n",
        "import math\n",
        "import copy\n",
        "import gc\n",
        "from tqdm import tqdm         # 작업 진행률 표시 ex) tqdm(range(3))\n",
        "from glob import glob\n",
        "from konlpy.tag import Mecab  # 한국어 형태소 분석기(Tokenizing)\n",
        "\n",
        "import torch\n",
        "from torch import nn\n",
        "from torch.utils.data import Dataset, DataLoader\n",
        "\n",
        "import warnings\n",
        "warnings.filterwarnings(action='ignore')"
      ],
      "id": "fYGdCu4geME1",
      "execution_count": 46,
      "outputs": []
    },
    {
      "cell_type": "markdown",
      "metadata": {
        "id": "VoPoQub-eME2"
      },
      "source": [
        "## 랜덤 시드 고정"
      ],
      "id": "VoPoQub-eME2"
    },
    {
      "cell_type": "code",
      "metadata": {
        "id": "JZPbUyPpeME2"
      },
      "source": [
        "def seed_everything(seed: int = 42):\n",
        "    random.seed(seed)\n",
        "    np.random.seed(seed)\n",
        "    os.environ[\"PYTHONHASHSEED\"] = str(seed)\n",
        "    torch.manual_seed(seed)\n",
        "    torch.cuda.manual_seed(seed)  # type: ignore\n",
        "    torch.backends.cudnn.deterministic = True  # type: ignore\n",
        "    torch.backends.cudnn.benchmark = True  # type: ignore"
      ],
      "id": "JZPbUyPpeME2",
      "execution_count": 47,
      "outputs": []
    },
    {
      "cell_type": "code",
      "metadata": {
        "id": "wK82B0yreME2"
      },
      "source": [
        "seed_everything(42)"
      ],
      "id": "wK82B0yreME2",
      "execution_count": 48,
      "outputs": []
    },
    {
      "cell_type": "markdown",
      "metadata": {
        "id": "F1Tb1uqleME3"
      },
      "source": [
        "# 데이터 로드"
      ],
      "id": "F1Tb1uqleME3"
    },
    {
      "cell_type": "code",
      "metadata": {
        "id": "Xthel3tQeME3"
      },
      "source": [
        "DIR = \"/content/drive/MyDrive/데이콘AI요약대회!/[private]AI요약대회/data\"\n",
        "TRAIN_SOURCE = os.path.join(DIR, \"train.json\")\n",
        "TEST_SOURCE = os.path.join(DIR, \"test.json\")"
      ],
      "id": "Xthel3tQeME3",
      "execution_count": 49,
      "outputs": []
    },
    {
      "cell_type": "code",
      "metadata": {
        "id": "HJZvDi52eME4"
      },
      "source": [
        "#json 파일 읽어오기\n",
        "\n",
        "with open(TRAIN_SOURCE) as f:\n",
        "    TRAIN_DATA = json.loads(f.read()) \n",
        "    \n",
        "with open(TEST_SOURCE) as f:\n",
        "    TEST_DATA = json.loads(f.read())"
      ],
      "id": "HJZvDi52eME4",
      "execution_count": 50,
      "outputs": []
    },
    {
      "cell_type": "code",
      "metadata": {
        "colab": {
          "base_uri": "https://localhost:8080/"
        },
        "id": "lk0ZOYVjkQU-",
        "outputId": "47154399-053c-47be-b7f8-6174e80c94ce"
      },
      "source": [
        "len(TRAIN_DATA), len(TEST_DATA)"
      ],
      "id": "lk0ZOYVjkQU-",
      "execution_count": 51,
      "outputs": [
        {
          "output_type": "execute_result",
          "data": {
            "text/plain": [
              "(463, 78)"
            ]
          },
          "metadata": {},
          "execution_count": 51
        }
      ]
    },
    {
      "cell_type": "markdown",
      "metadata": {
        "id": "GJBNp2qVeR0E"
      },
      "source": [
        "![image.png](data:image/png;base64,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)"
      ],
      "id": "GJBNp2qVeR0E"
    },
    {
      "cell_type": "code",
      "metadata": {
        "id": "vrfNvIjFm2Ie"
      },
      "source": [
        "def print_json_tree(data, indent=\"\"):\n",
        "    for key, value in data.items():\n",
        "        if type(value) == list:     # list 형태의 item은 첫번째 item만 출력\n",
        "            print(f'{indent}- {key}: [{len(value)}]')\n",
        "            print_json_tree(value[0], indent + \"  \")\n",
        "        else:\n",
        "            print(f'{indent}- {key}: {value}')"
      ],
      "id": "vrfNvIjFm2Ie",
      "execution_count": 52,
      "outputs": []
    },
    {
      "cell_type": "code",
      "metadata": {
        "colab": {
          "base_uri": "https://localhost:8080/"
        },
        "id": "tqvgRCG-jR5S",
        "outputId": "59e99791-a6a6-435d-c8e5-d926cd7fbfa6"
      },
      "source": [
        "TRAIN_DATA[0]"
      ],
      "id": "tqvgRCG-jR5S",
      "execution_count": 53,
      "outputs": [
        {
          "output_type": "execute_result",
          "data": {
            "text/plain": [
              "{'context': {'AGENDA_1': {'0': '의석을 정돈하여 주시기 바랍니다. 성원이 되었으므로 제207회 완주군의회 임시회 제1차 본회의 개의를 선포합니다. 먼저 의사팀장으로부터 의회 관련 사항에 대한 보고가 있겠습니다. 의사팀장은 보고하여 주시기 바랍니다.',\n",
              "   '1': '의사팀장 이은미 입니다. 의회관련 사항을 보고 드리겠습니다. 먼저 제207회 완주군의회 임시회 소집경위를 보고 드리겠습니다. 지방자치법 제45조 제2항의 규정에 의거 서남용 의원님 외 4인의 의원님으로부터 임시회 집회 요구가 있어 지난 8월6일 집회 공고를 하고 오늘 집회를 갖게 되었습니다. 다음은 의안접수 및 회부사항입니다. 먼저 의원발의 안건입니다. 완주군의회 의원 의정활동비등 지급에 관한 조례 일부개정 조례안, 완주군 향토문화유산 보호 및 관리 조례안, 완주군 싸움소 육성 지원에 관한 조례안 등 총 3건으로, 해당 상임의원회로 회부 하였습니다. 다음은 완주군수로부터 제출된 안건입니다. 삼례문화예술촌 설치 및 운영조례 일부개정 조례안 등 총 40건으로 해당 상임의원회로 회부하였습니다. 자세한 내용은 배부해 드린 유인물을 참조하여 주시기 바랍니다. 이상 보고를 마치겠습니다.'},\n",
              "  'AGENDA_2': {'0': '의사팀장 수고하셨습니다. 먼저 의사일정 제1항 제207회 완주군의회 임시회 회기 결정의 건을 상정합니다. 제207회 완주군의회 임시회 회기 결정의 건에 대하여는 서남용 의원님 외 4인의 의원님이 발의한대로 8월 26일부터 9월 4일까지 10일간의 회기를 결정하고자 합니다. 의원 여러분 이의 있으십니까?',\n",
              "   '1': '(『없습니다』하는 의원 있음)',\n",
              "   '2': '이의가 없으므로 가결되었음을 선포합니다.'},\n",
              "  'AGENDA_3': {'0': '다음은 의사일정 제2항 제207회 완주군의회 임시회 회의록 서명의원 선출의 건을 상정합니다. 회의록 서명의원으로는 최등원 의원님과 박웅배 의원님을 선출하고자 하는데 의원여러분 이의 있습니까?',\n",
              "   '1': '(『없습니다』하는 의원 있음)',\n",
              "   '2': '이의가 없으므로 가결되었음을 선포합니다. 그럼 두 분 의원님께서는 본 회기동안 수고하여 주시기 바랍니다.'},\n",
              "  'AGENDA_4': {'0': '다음은 의사일정 제3항 본회의 휴회의 건을 상정합니다. 상임의원회 의정활동을 위하여 8월 27일부터 9월 3일까지 8일간 본회를 휴회 하고자 합니다. 의원여러분 이의 있으십니까?',\n",
              "   '1': '(『없습니다』하는 의원 있음)',\n",
              "   '2': '이의가 없으므로 가결되었음을 선포합니다. 이상으로 제207회 완주군의회 임시회 제1차 본회의를 마치겠습니다. 다음 제2차 본회의는 9월 4일 오전 10시에 개의하겠습니다. 의원여러분 수고 많으셨습니다. 산회를 선포합니다.'}},\n",
              " 'id': 1000,\n",
              " 'label': {'AGENDA_1': {'evidence': {'0': ['의석을 정돈하여 주시기 바랍니다.',\n",
              "     '성원이 되었으므로 제207회 완주군의회 임시회 제1차 본회의 개의를 선포합니다.']},\n",
              "   'summary': '제207회 완주군의회 임시회 제1차 본회의 개의 선포.'},\n",
              "  'AGENDA_2': {'evidence': {'0': ['먼저 의사일정 제1항 제207회 완주군의회 임시회 회기 결정의 건을 상정합니다.',\n",
              "     '제207회 완주군의회 임시회 회기 결정의 건에 대하여는 서남용 의원님 외 4인의 의원님이 발의한대로 8월 26일부터 9월 4일까지 10일간의 회기를 결정하고자 합니다.',\n",
              "     '의원 여러분 이의 있으십니까?'],\n",
              "    '2': ['이의가 없으므로 가결되었음을 선포합니다.']},\n",
              "   'summary': '제207회 완주군의회 임시회 회기는 8월 26일부터 9월 4일까지 10일간으로 가결됨.'},\n",
              "  'AGENDA_3': {'evidence': {'0': ['다음은 의사일정 제2항 제207회 완주군의회 임시회 회의록 서명의원 선출의 건을 상정합니다.',\n",
              "     '회의록 서명의원으로는 최등원 의원님과 박웅배 의원님을 선출하고자 하는데 의원여러분 이의 있습니까?'],\n",
              "    '2': ['이의가 없으므로 가결되었음을 선포합니다.']},\n",
              "   'summary': '제207회 완주군의회 임시회 회의록 서명의원으로 최등원 의원과 박웅배 의원이 선출됨.'},\n",
              "  'AGENDA_4': {'evidence': {'0': ['다음은 의사일정 제3항 본회의 휴회의 건을 상정합니다.',\n",
              "     '상임의원회 의정활동을 위하여 8월 27일부터 9월 3일까지 8일간 본회를 휴회 하고자 합니다.',\n",
              "     '의원여러분 이의 있으십니까?'],\n",
              "    '2': ['이의가 없으므로 가결되었음을 선포합니다.', '다음 제2차 본회의는 9월 4일 오전 10시에 개의하겠습니다.']},\n",
              "   'summary': '8월 27일부터 9월 3일까지 8일간 휴회가 가결됨. 제2차 본회의는 9월 4일 오전 10시에 개의.'}},\n",
              " 'num_agenda': 4,\n",
              " 'region': '완주',\n",
              " 'title': '제207회 완주군의회(임시회) 제 1 차 본회의회의록'}"
            ]
          },
          "metadata": {},
          "execution_count": 53
        }
      ]
    },
    {
      "cell_type": "code",
      "metadata": {
        "colab": {
          "base_uri": "https://localhost:8080/"
        },
        "id": "USo2euj2m-Q8",
        "outputId": "30ed32f4-b089-4bba-9eb7-51dfc569358b"
      },
      "source": [
        "print_json_tree(TRAIN_DATA[0])"
      ],
      "id": "USo2euj2m-Q8",
      "execution_count": 54,
      "outputs": [
        {
          "output_type": "stream",
          "name": "stdout",
          "text": [
            "- id: 1000\n",
            "- title: 제207회 완주군의회(임시회) 제 1 차 본회의회의록\n",
            "- region: 완주\n",
            "- num_agenda: 4\n",
            "- context: {'AGENDA_1': {'0': '의석을 정돈하여 주시기 바랍니다. 성원이 되었으므로 제207회 완주군의회 임시회 제1차 본회의 개의를 선포합니다. 먼저 의사팀장으로부터 의회 관련 사항에 대한 보고가 있겠습니다. 의사팀장은 보고하여 주시기 바랍니다.', '1': '의사팀장 이은미 입니다. 의회관련 사항을 보고 드리겠습니다. 먼저 제207회 완주군의회 임시회 소집경위를 보고 드리겠습니다. 지방자치법 제45조 제2항의 규정에 의거 서남용 의원님 외 4인의 의원님으로부터 임시회 집회 요구가 있어 지난 8월6일 집회 공고를 하고 오늘 집회를 갖게 되었습니다. 다음은 의안접수 및 회부사항입니다. 먼저 의원발의 안건입니다. 완주군의회 의원 의정활동비등 지급에 관한 조례 일부개정 조례안, 완주군 향토문화유산 보호 및 관리 조례안, 완주군 싸움소 육성 지원에 관한 조례안 등 총 3건으로, 해당 상임의원회로 회부 하였습니다. 다음은 완주군수로부터 제출된 안건입니다. 삼례문화예술촌 설치 및 운영조례 일부개정 조례안 등 총 40건으로 해당 상임의원회로 회부하였습니다. 자세한 내용은 배부해 드린 유인물을 참조하여 주시기 바랍니다. 이상 보고를 마치겠습니다.'}, 'AGENDA_2': {'0': '의사팀장 수고하셨습니다. 먼저 의사일정 제1항 제207회 완주군의회 임시회 회기 결정의 건을 상정합니다. 제207회 완주군의회 임시회 회기 결정의 건에 대하여는 서남용 의원님 외 4인의 의원님이 발의한대로 8월 26일부터 9월 4일까지 10일간의 회기를 결정하고자 합니다. 의원 여러분 이의 있으십니까?', '1': '(『없습니다』하는 의원 있음)', '2': '이의가 없으므로 가결되었음을 선포합니다.'}, 'AGENDA_3': {'0': '다음은 의사일정 제2항 제207회 완주군의회 임시회 회의록 서명의원 선출의 건을 상정합니다. 회의록 서명의원으로는 최등원 의원님과 박웅배 의원님을 선출하고자 하는데 의원여러분 이의 있습니까?', '1': '(『없습니다』하는 의원 있음)', '2': '이의가 없으므로 가결되었음을 선포합니다. 그럼 두 분 의원님께서는 본 회기동안 수고하여 주시기 바랍니다.'}, 'AGENDA_4': {'0': '다음은 의사일정 제3항 본회의 휴회의 건을 상정합니다. 상임의원회 의정활동을 위하여 8월 27일부터 9월 3일까지 8일간 본회를 휴회 하고자 합니다. 의원여러분 이의 있으십니까?', '1': '(『없습니다』하는 의원 있음)', '2': '이의가 없으므로 가결되었음을 선포합니다. 이상으로 제207회 완주군의회 임시회 제1차 본회의를 마치겠습니다. 다음 제2차 본회의는 9월 4일 오전 10시에 개의하겠습니다. 의원여러분 수고 많으셨습니다. 산회를 선포합니다.'}}\n",
            "- label: {'AGENDA_1': {'evidence': {'0': ['의석을 정돈하여 주시기 바랍니다.', '성원이 되었으므로 제207회 완주군의회 임시회 제1차 본회의 개의를 선포합니다.']}, 'summary': '제207회 완주군의회 임시회 제1차 본회의 개의 선포.'}, 'AGENDA_2': {'evidence': {'0': ['먼저 의사일정 제1항 제207회 완주군의회 임시회 회기 결정의 건을 상정합니다.', '제207회 완주군의회 임시회 회기 결정의 건에 대하여는 서남용 의원님 외 4인의 의원님이 발의한대로 8월 26일부터 9월 4일까지 10일간의 회기를 결정하고자 합니다.', '의원 여러분 이의 있으십니까?'], '2': ['이의가 없으므로 가결되었음을 선포합니다.']}, 'summary': '제207회 완주군의회 임시회 회기는 8월 26일부터 9월 4일까지 10일간으로 가결됨.'}, 'AGENDA_3': {'evidence': {'0': ['다음은 의사일정 제2항 제207회 완주군의회 임시회 회의록 서명의원 선출의 건을 상정합니다.', '회의록 서명의원으로는 최등원 의원님과 박웅배 의원님을 선출하고자 하는데 의원여러분 이의 있습니까?'], '2': ['이의가 없으므로 가결되었음을 선포합니다.']}, 'summary': '제207회 완주군의회 임시회 회의록 서명의원으로 최등원 의원과 박웅배 의원이 선출됨.'}, 'AGENDA_4': {'evidence': {'0': ['다음은 의사일정 제3항 본회의 휴회의 건을 상정합니다.', '상임의원회 의정활동을 위하여 8월 27일부터 9월 3일까지 8일간 본회를 휴회 하고자 합니다.', '의원여러분 이의 있으십니까?'], '2': ['이의가 없으므로 가결되었음을 선포합니다.', '다음 제2차 본회의는 9월 4일 오전 10시에 개의하겠습니다.']}, 'summary': '8월 27일부터 9월 3일까지 8일간 휴회가 가결됨. 제2차 본회의는 9월 4일 오전 10시에 개의.'}}\n"
          ]
        }
      ]
    },
    {
      "cell_type": "code",
      "metadata": {
        "colab": {
          "base_uri": "https://localhost:8080/"
        },
        "id": "j1Y9MM3anhJ1",
        "outputId": "cd3abfe9-b7c2-4067-85cc-c869b10dd57f"
      },
      "source": [
        "print_json_tree(TRAIN_DATA[0]['context'])"
      ],
      "id": "j1Y9MM3anhJ1",
      "execution_count": 55,
      "outputs": [
        {
          "output_type": "stream",
          "name": "stdout",
          "text": [
            "- AGENDA_1: {'0': '의석을 정돈하여 주시기 바랍니다. 성원이 되었으므로 제207회 완주군의회 임시회 제1차 본회의 개의를 선포합니다. 먼저 의사팀장으로부터 의회 관련 사항에 대한 보고가 있겠습니다. 의사팀장은 보고하여 주시기 바랍니다.', '1': '의사팀장 이은미 입니다. 의회관련 사항을 보고 드리겠습니다. 먼저 제207회 완주군의회 임시회 소집경위를 보고 드리겠습니다. 지방자치법 제45조 제2항의 규정에 의거 서남용 의원님 외 4인의 의원님으로부터 임시회 집회 요구가 있어 지난 8월6일 집회 공고를 하고 오늘 집회를 갖게 되었습니다. 다음은 의안접수 및 회부사항입니다. 먼저 의원발의 안건입니다. 완주군의회 의원 의정활동비등 지급에 관한 조례 일부개정 조례안, 완주군 향토문화유산 보호 및 관리 조례안, 완주군 싸움소 육성 지원에 관한 조례안 등 총 3건으로, 해당 상임의원회로 회부 하였습니다. 다음은 완주군수로부터 제출된 안건입니다. 삼례문화예술촌 설치 및 운영조례 일부개정 조례안 등 총 40건으로 해당 상임의원회로 회부하였습니다. 자세한 내용은 배부해 드린 유인물을 참조하여 주시기 바랍니다. 이상 보고를 마치겠습니다.'}\n",
            "- AGENDA_2: {'0': '의사팀장 수고하셨습니다. 먼저 의사일정 제1항 제207회 완주군의회 임시회 회기 결정의 건을 상정합니다. 제207회 완주군의회 임시회 회기 결정의 건에 대하여는 서남용 의원님 외 4인의 의원님이 발의한대로 8월 26일부터 9월 4일까지 10일간의 회기를 결정하고자 합니다. 의원 여러분 이의 있으십니까?', '1': '(『없습니다』하는 의원 있음)', '2': '이의가 없으므로 가결되었음을 선포합니다.'}\n",
            "- AGENDA_3: {'0': '다음은 의사일정 제2항 제207회 완주군의회 임시회 회의록 서명의원 선출의 건을 상정합니다. 회의록 서명의원으로는 최등원 의원님과 박웅배 의원님을 선출하고자 하는데 의원여러분 이의 있습니까?', '1': '(『없습니다』하는 의원 있음)', '2': '이의가 없으므로 가결되었음을 선포합니다. 그럼 두 분 의원님께서는 본 회기동안 수고하여 주시기 바랍니다.'}\n",
            "- AGENDA_4: {'0': '다음은 의사일정 제3항 본회의 휴회의 건을 상정합니다. 상임의원회 의정활동을 위하여 8월 27일부터 9월 3일까지 8일간 본회를 휴회 하고자 합니다. 의원여러분 이의 있으십니까?', '1': '(『없습니다』하는 의원 있음)', '2': '이의가 없으므로 가결되었음을 선포합니다. 이상으로 제207회 완주군의회 임시회 제1차 본회의를 마치겠습니다. 다음 제2차 본회의는 9월 4일 오전 10시에 개의하겠습니다. 의원여러분 수고 많으셨습니다. 산회를 선포합니다.'}\n"
          ]
        }
      ]
    },
    {
      "cell_type": "code",
      "metadata": {
        "colab": {
          "base_uri": "https://localhost:8080/"
        },
        "id": "2moCy9VHnxTu",
        "outputId": "94c35c76-b454-4951-8e37-24ce8c1da5a8"
      },
      "source": [
        "print_json_tree(TRAIN_DATA[0]['label'])"
      ],
      "id": "2moCy9VHnxTu",
      "execution_count": 56,
      "outputs": [
        {
          "output_type": "stream",
          "name": "stdout",
          "text": [
            "- AGENDA_1: {'evidence': {'0': ['의석을 정돈하여 주시기 바랍니다.', '성원이 되었으므로 제207회 완주군의회 임시회 제1차 본회의 개의를 선포합니다.']}, 'summary': '제207회 완주군의회 임시회 제1차 본회의 개의 선포.'}\n",
            "- AGENDA_2: {'evidence': {'0': ['먼저 의사일정 제1항 제207회 완주군의회 임시회 회기 결정의 건을 상정합니다.', '제207회 완주군의회 임시회 회기 결정의 건에 대하여는 서남용 의원님 외 4인의 의원님이 발의한대로 8월 26일부터 9월 4일까지 10일간의 회기를 결정하고자 합니다.', '의원 여러분 이의 있으십니까?'], '2': ['이의가 없으므로 가결되었음을 선포합니다.']}, 'summary': '제207회 완주군의회 임시회 회기는 8월 26일부터 9월 4일까지 10일간으로 가결됨.'}\n",
            "- AGENDA_3: {'evidence': {'0': ['다음은 의사일정 제2항 제207회 완주군의회 임시회 회의록 서명의원 선출의 건을 상정합니다.', '회의록 서명의원으로는 최등원 의원님과 박웅배 의원님을 선출하고자 하는데 의원여러분 이의 있습니까?'], '2': ['이의가 없으므로 가결되었음을 선포합니다.']}, 'summary': '제207회 완주군의회 임시회 회의록 서명의원으로 최등원 의원과 박웅배 의원이 선출됨.'}\n",
            "- AGENDA_4: {'evidence': {'0': ['다음은 의사일정 제3항 본회의 휴회의 건을 상정합니다.', '상임의원회 의정활동을 위하여 8월 27일부터 9월 3일까지 8일간 본회를 휴회 하고자 합니다.', '의원여러분 이의 있으십니까?'], '2': ['이의가 없으므로 가결되었음을 선포합니다.', '다음 제2차 본회의는 9월 4일 오전 10시에 개의하겠습니다.']}, 'summary': '8월 27일부터 9월 3일까지 8일간 휴회가 가결됨. 제2차 본회의는 9월 4일 오전 10시에 개의.'}\n"
          ]
        }
      ]
    },
    {
      "cell_type": "code",
      "metadata": {
        "id": "xUJhPPJFn7ge",
        "colab": {
          "base_uri": "https://localhost:8080/"
        },
        "outputId": "1c74d867-92bd-4030-a2c6-d87d80043a00"
      },
      "source": [
        "print_json_tree(TRAIN_DATA[0]['label']['AGENDA_1'])"
      ],
      "id": "xUJhPPJFn7ge",
      "execution_count": 57,
      "outputs": [
        {
          "output_type": "stream",
          "name": "stdout",
          "text": [
            "- evidence: {'0': ['의석을 정돈하여 주시기 바랍니다.', '성원이 되었으므로 제207회 완주군의회 임시회 제1차 본회의 개의를 선포합니다.']}\n",
            "- summary: 제207회 완주군의회 임시회 제1차 본회의 개의 선포.\n"
          ]
        }
      ]
    },
    {
      "cell_type": "markdown",
      "metadata": {
        "id": "FotTVPDbSnKX"
      },
      "source": [
        "> DataFrame에 evidence는 뭐지? "
      ],
      "id": "FotTVPDbSnKX"
    },
    {
      "cell_type": "code",
      "metadata": {
        "id": "sa-RmkboeME5"
      },
      "source": [
        "## trainset dataframe화\n",
        "\n",
        "train = pd.DataFrame(columns=['uid', 'title', 'region', 'context', 'summary']) # column 설정\n",
        "uid = 1000\n",
        "for data in TRAIN_DATA: ## 각 데이터 단위\n",
        "    for agenda in data['context'].keys():  # 각 AGENDA별로\n",
        "        context = ''\n",
        "        for line in data['context'][agenda]: # 각 문장별로\n",
        "            context += data['context'][agenda][line]\n",
        "            context += ' '\n",
        "        # data index를 하나 하나 흝어가면서 해당하는 항목들을 dataframe에 채워넣음\n",
        "        train.loc[uid, 'uid'] = uid \n",
        "        train.loc[uid, 'title'] = data['title']\n",
        "        train.loc[uid, 'region'] = data['region']\n",
        "        train.loc[uid, 'context'] = context[:-1]\n",
        "        train.loc[uid, 'summary'] = data['label'][agenda]['summary']\n",
        "        uid += 1\n",
        "\n",
        "## testset dataframe화\n",
        "\n",
        "test = pd.DataFrame(columns=['uid', 'title', 'region', 'context']) # summary(label에 해당하는 data)가 빠져있음\n",
        "uid = 2000\n",
        "for data in TEST_DATA:\n",
        "    for agenda in data['context'].keys():\n",
        "        context = ''\n",
        "        for line in data['context'][agenda]:\n",
        "            context += data['context'][agenda][line]\n",
        "            context += ' '\n",
        "        test.loc[uid, 'uid'] = uid\n",
        "        test.loc[uid, 'title'] = data['title']\n",
        "        test.loc[uid, 'region'] = data['region']\n",
        "        test.loc[uid, 'context'] = context[:-1]\n",
        "        uid += 1"
      ],
      "id": "sa-RmkboeME5",
      "execution_count": 58,
      "outputs": []
    },
    {
      "cell_type": "markdown",
      "metadata": {
        "id": "CMkRU3koTzRe"
      },
      "source": [
        "> Total을 넣는 이유는?"
      ],
      "id": "CMkRU3koTzRe"
    },
    {
      "cell_type": "code",
      "metadata": {
        "id": "eyFf7ru2eME5"
      },
      "source": [
        "train['total'] = train.title + ' ' + train.region + ' ' + train.context\n",
        "test['total'] = test.title + ' ' + test.region + ' ' + test.context"
      ],
      "id": "eyFf7ru2eME5",
      "execution_count": 59,
      "outputs": []
    },
    {
      "cell_type": "code",
      "metadata": {
        "id": "Rm8HIS6ieME6",
        "colab": {
          "base_uri": "https://localhost:8080/",
          "height": 534
        },
        "outputId": "7f9e8c88-b5b2-4f1f-8210-c3c8df389fca"
      },
      "source": [
        "train.head()"
      ],
      "id": "Rm8HIS6ieME6",
      "execution_count": 60,
      "outputs": [
        {
          "output_type": "execute_result",
          "data": {
            "text/html": [
              "<div>\n",
              "<style scoped>\n",
              "    .dataframe tbody tr th:only-of-type {\n",
              "        vertical-align: middle;\n",
              "    }\n",
              "\n",
              "    .dataframe tbody tr th {\n",
              "        vertical-align: top;\n",
              "    }\n",
              "\n",
              "    .dataframe thead th {\n",
              "        text-align: right;\n",
              "    }\n",
              "</style>\n",
              "<table border=\"1\" class=\"dataframe\">\n",
              "  <thead>\n",
              "    <tr style=\"text-align: right;\">\n",
              "      <th></th>\n",
              "      <th>uid</th>\n",
              "      <th>title</th>\n",
              "      <th>region</th>\n",
              "      <th>context</th>\n",
              "      <th>summary</th>\n",
              "      <th>total</th>\n",
              "    </tr>\n",
              "  </thead>\n",
              "  <tbody>\n",
              "    <tr>\n",
              "      <th>1000</th>\n",
              "      <td>1000</td>\n",
              "      <td>제207회 완주군의회(임시회) 제 1 차 본회의회의록</td>\n",
              "      <td>완주</td>\n",
              "      <td>의석을 정돈하여 주시기 바랍니다. 성원이 되었으므로 제207회 완주군의회 임시회 제...</td>\n",
              "      <td>제207회 완주군의회 임시회 제1차 본회의 개의 선포.</td>\n",
              "      <td>제207회 완주군의회(임시회) 제 1 차 본회의회의록 완주 의석을 정돈하여 주시기 ...</td>\n",
              "    </tr>\n",
              "    <tr>\n",
              "      <th>1001</th>\n",
              "      <td>1001</td>\n",
              "      <td>제207회 완주군의회(임시회) 제 1 차 본회의회의록</td>\n",
              "      <td>완주</td>\n",
              "      <td>의사팀장 수고하셨습니다. 먼저 의사일정 제1항 제207회 완주군의회 임시회 회기 결...</td>\n",
              "      <td>제207회 완주군의회 임시회 회기는 8월 26일부터 9월 4일까지 10일간으로 가결됨.</td>\n",
              "      <td>제207회 완주군의회(임시회) 제 1 차 본회의회의록 완주 의사팀장 수고하셨습니다....</td>\n",
              "    </tr>\n",
              "    <tr>\n",
              "      <th>1002</th>\n",
              "      <td>1002</td>\n",
              "      <td>제207회 완주군의회(임시회) 제 1 차 본회의회의록</td>\n",
              "      <td>완주</td>\n",
              "      <td>다음은 의사일정 제2항 제207회 완주군의회 임시회 회의록 서명의원 선출의 건을 상...</td>\n",
              "      <td>제207회 완주군의회 임시회 회의록 서명의원으로 최등원 의원과 박웅배 의원이 선출됨.</td>\n",
              "      <td>제207회 완주군의회(임시회) 제 1 차 본회의회의록 완주 다음은 의사일정 제2항 ...</td>\n",
              "    </tr>\n",
              "    <tr>\n",
              "      <th>1003</th>\n",
              "      <td>1003</td>\n",
              "      <td>제207회 완주군의회(임시회) 제 1 차 본회의회의록</td>\n",
              "      <td>완주</td>\n",
              "      <td>다음은 의사일정 제3항 본회의 휴회의 건을 상정합니다. 상임의원회 의정활동을 위하여...</td>\n",
              "      <td>8월 27일부터 9월 3일까지 8일간 휴회가 가결됨. 제2차 본회의는 9월 4일 오...</td>\n",
              "      <td>제207회 완주군의회(임시회) 제 1 차 본회의회의록 완주 다음은 의사일정 제3항 ...</td>\n",
              "    </tr>\n",
              "    <tr>\n",
              "      <th>1004</th>\n",
              "      <td>1004</td>\n",
              "      <td>제251회 완주군의회(제1차 정례회) 제1차 본 회 의 회 의 록</td>\n",
              "      <td>완주</td>\n",
              "      <td>의석을 정돈하여 주시기 바랍니다. 성원이 되었으므로 제251회 완주군의회 제1차 정...</td>\n",
              "      <td>제251회 완주군의회 제1차 정례회 제1차 본회의 개의 선포.</td>\n",
              "      <td>제251회 완주군의회(제1차 정례회) 제1차 본 회 의 회 의 록 완주 의석을 정돈...</td>\n",
              "    </tr>\n",
              "  </tbody>\n",
              "</table>\n",
              "</div>"
            ],
            "text/plain": [
              "       uid  ...                                              total\n",
              "1000  1000  ...  제207회 완주군의회(임시회) 제 1 차 본회의회의록 완주 의석을 정돈하여 주시기 ...\n",
              "1001  1001  ...  제207회 완주군의회(임시회) 제 1 차 본회의회의록 완주 의사팀장 수고하셨습니다....\n",
              "1002  1002  ...  제207회 완주군의회(임시회) 제 1 차 본회의회의록 완주 다음은 의사일정 제2항 ...\n",
              "1003  1003  ...  제207회 완주군의회(임시회) 제 1 차 본회의회의록 완주 다음은 의사일정 제3항 ...\n",
              "1004  1004  ...  제251회 완주군의회(제1차 정례회) 제1차 본 회 의 회 의 록 완주 의석을 정돈...\n",
              "\n",
              "[5 rows x 6 columns]"
            ]
          },
          "metadata": {},
          "execution_count": 60
        }
      ]
    },
    {
      "cell_type": "code",
      "metadata": {
        "id": "VgofNM1TeME7",
        "colab": {
          "base_uri": "https://localhost:8080/"
        },
        "outputId": "22fddacf-c478-4313-f205-272f19ae8142"
      },
      "source": [
        "# summary 추가로 칼럼개수 6개\n",
        "train.shape"
      ],
      "id": "VgofNM1TeME7",
      "execution_count": 61,
      "outputs": [
        {
          "output_type": "execute_result",
          "data": {
            "text/plain": [
              "(2994, 6)"
            ]
          },
          "metadata": {},
          "execution_count": 61
        }
      ]
    },
    {
      "cell_type": "code",
      "metadata": {
        "id": "OyKx2oTjeME8",
        "colab": {
          "base_uri": "https://localhost:8080/",
          "height": 378
        },
        "outputId": "5b798a8f-4ce3-4f77-a811-de5acf361102"
      },
      "source": [
        "test.head()"
      ],
      "id": "OyKx2oTjeME8",
      "execution_count": 62,
      "outputs": [
        {
          "output_type": "execute_result",
          "data": {
            "text/html": [
              "<div>\n",
              "<style scoped>\n",
              "    .dataframe tbody tr th:only-of-type {\n",
              "        vertical-align: middle;\n",
              "    }\n",
              "\n",
              "    .dataframe tbody tr th {\n",
              "        vertical-align: top;\n",
              "    }\n",
              "\n",
              "    .dataframe thead th {\n",
              "        text-align: right;\n",
              "    }\n",
              "</style>\n",
              "<table border=\"1\" class=\"dataframe\">\n",
              "  <thead>\n",
              "    <tr style=\"text-align: right;\">\n",
              "      <th></th>\n",
              "      <th>uid</th>\n",
              "      <th>title</th>\n",
              "      <th>region</th>\n",
              "      <th>context</th>\n",
              "      <th>total</th>\n",
              "    </tr>\n",
              "  </thead>\n",
              "  <tbody>\n",
              "    <tr>\n",
              "      <th>2000</th>\n",
              "      <td>2000</td>\n",
              "      <td>제235회    본회의 제1차(2012.06.21.)</td>\n",
              "      <td>음성</td>\n",
              "      <td>의석을 정돈하여 주시기 바랍니다. 성원이 되었으므로 지금부터 음성군의회 제235회 ...</td>\n",
              "      <td>제235회    본회의 제1차(2012.06.21.) 음성 의석을 정돈하여 주시기 ...</td>\n",
              "    </tr>\n",
              "    <tr>\n",
              "      <th>2001</th>\n",
              "      <td>2001</td>\n",
              "      <td>제235회    본회의 제1차(2012.06.21.)</td>\n",
              "      <td>음성</td>\n",
              "      <td>의사일정 제1항, 음성군의회 제235회 제1차 정례회 회기결정의 건을 상정합니다. ...</td>\n",
              "      <td>제235회    본회의 제1차(2012.06.21.) 음성 의사일정 제1항, 음성군...</td>\n",
              "    </tr>\n",
              "    <tr>\n",
              "      <th>2002</th>\n",
              "      <td>2002</td>\n",
              "      <td>제235회    본회의 제1차(2012.06.21.)</td>\n",
              "      <td>음성</td>\n",
              "      <td>의사일정 제2항, 회의록 서명의원 선출의 건을 상정합니다. 제235회 제1차 정례회...</td>\n",
              "      <td>제235회    본회의 제1차(2012.06.21.) 음성 의사일정 제2항, 회의록...</td>\n",
              "    </tr>\n",
              "    <tr>\n",
              "      <th>2003</th>\n",
              "      <td>2003</td>\n",
              "      <td>제235회    본회의 제1차(2012.06.21.)</td>\n",
              "      <td>음성</td>\n",
              "      <td>의사일정 제3항, 예산결산특별위원회 구성의 건을 상정합니다. 예산결산특별위원회 구성...</td>\n",
              "      <td>제235회    본회의 제1차(2012.06.21.) 음성 의사일정 제3항, 예산결...</td>\n",
              "    </tr>\n",
              "    <tr>\n",
              "      <th>2004</th>\n",
              "      <td>2004</td>\n",
              "      <td>제235회    본회의 제1차(2012.06.21.)</td>\n",
              "      <td>음성</td>\n",
              "      <td>의사일정 제4항, 환경분야 현지확인 특별위원회 구성결의안을 상정합니다. 대표발의하신...</td>\n",
              "      <td>제235회    본회의 제1차(2012.06.21.) 음성 의사일정 제4항, 환경분...</td>\n",
              "    </tr>\n",
              "  </tbody>\n",
              "</table>\n",
              "</div>"
            ],
            "text/plain": [
              "       uid  ...                                              total\n",
              "2000  2000  ...  제235회    본회의 제1차(2012.06.21.) 음성 의석을 정돈하여 주시기 ...\n",
              "2001  2001  ...  제235회    본회의 제1차(2012.06.21.) 음성 의사일정 제1항, 음성군...\n",
              "2002  2002  ...  제235회    본회의 제1차(2012.06.21.) 음성 의사일정 제2항, 회의록...\n",
              "2003  2003  ...  제235회    본회의 제1차(2012.06.21.) 음성 의사일정 제3항, 예산결...\n",
              "2004  2004  ...  제235회    본회의 제1차(2012.06.21.) 음성 의사일정 제4항, 환경분...\n",
              "\n",
              "[5 rows x 5 columns]"
            ]
          },
          "metadata": {},
          "execution_count": 62
        }
      ]
    },
    {
      "cell_type": "code",
      "metadata": {
        "id": "LBdHUbfmeME9",
        "colab": {
          "base_uri": "https://localhost:8080/"
        },
        "outputId": "227aea66-d3da-416a-dbb9-8effa214fbe9"
      },
      "source": [
        "test.shape"
      ],
      "id": "LBdHUbfmeME9",
      "execution_count": 63,
      "outputs": [
        {
          "output_type": "execute_result",
          "data": {
            "text/plain": [
              "(506, 5)"
            ]
          },
          "metadata": {},
          "execution_count": 63
        }
      ]
    },
    {
      "cell_type": "markdown",
      "metadata": {
        "id": "r5S_iR0MeME9"
      },
      "source": [
        "## 하이퍼파라미터"
      ],
      "id": "r5S_iR0MeME9"
    },
    {
      "cell_type": "code",
      "metadata": {
        "id": "Yd1f8a2geME9"
      },
      "source": [
        "encoder_len = 500\n",
        "decoder_len = 50\n",
        "max_vocab_size = 20000\n",
        "batch_size = 32\n",
        "num_layers = 6\n",
        "d_model = 512\n",
        "dff = 2048\n",
        "num_heads = 8\n",
        "dropout_rate = 0.2 # 0.1 -> 0.2\n",
        "epochs = 15        # 20 -> 15\n",
        "learning_rate = 1e-4\n",
        "device = torch.device(\"cuda:0\")"
      ],
      "id": "Yd1f8a2geME9",
      "execution_count": 64,
      "outputs": []
    },
    {
      "cell_type": "markdown",
      "metadata": {
        "id": "m_g6ZYrheME-"
      },
      "source": [
        "## train, validation 분리"
      ],
      "id": "m_g6ZYrheME-"
    },
    {
      "cell_type": "code",
      "metadata": {
        "id": "71Qur9XZeME-"
      },
      "source": [
        "df_train = train.iloc[:-200]\n",
        "df_val = train.iloc[-200:]"
      ],
      "id": "71Qur9XZeME-",
      "execution_count": 65,
      "outputs": []
    },
    {
      "cell_type": "markdown",
      "metadata": {
        "id": "ItspHa8MeME_"
      },
      "source": [
        "# 토크나이징"
      ],
      "id": "ItspHa8MeME_"
    },
    {
      "cell_type": "markdown",
      "metadata": {
        "id": "56CR6bTBWB8x"
      },
      "source": [
        "> - 띄어쓰기를 찾기 위한 태그 목록: 품사 리스트\n",
        ">  단어들의 정체는 뭐고 어떤 원리로 띄어쓰기를 찾는거지?\n",
        "->>\n",
        "[품사 표현](https://datascienceschool.net/03%20machine%20learning/03.01.02%20KoNLPy%20%ED%95%9C%EA%B5%AD%EC%96%B4%20%EC%B2%98%EB%A6%AC%20%ED%8C%A8%ED%82%A4%EC%A7%80.html) 관련한 내용 참고<br>\n",
        "self.mode에서 encoder, decoder"
      ],
      "id": "56CR6bTBWB8x"
    },
    {
      "cell_type": "code",
      "metadata": {
        "id": "FTlI6Q_HeME_"
      },
      "source": [
        "class Mecab_Tokenizer():\n",
        "    def __init__(self, max_length, mode, max_vocab_size=-1):\n",
        "        self.text_tokenizer = Mecab()       # konlpy 형태소 분석기 소환\n",
        "        self.mode = mode                    # class 생성시 2nd input (encoder 또는 decoder)\n",
        "        self.txt2idx = {'pad_':0, 'unk_':1} # {형태소:index} 로 이루어진 dic \n",
        "        self.idx2txt = {0:'pad_', 1:'unk_'} # {index:형태소} 로 이루어진 dic \n",
        "        self.max_length = max_length        # class 생성시 1st input\n",
        "        self.word_count = {}                # 형태소 개수가 담긴 dic\n",
        "        self.max_vocab_size = max_vocab_size # class 생성시 input 3 // default로 -1은 생성되는대로 다 생성해 보겠다는 이야기\n",
        "        \n",
        "        # 띄어쓰기를 찾기 위한 태그 목록\n",
        "        self.font_blank_tag = [\n",
        "            '', 'EC', 'EC+JKO', 'EF', 'EP+EC', 'EP+EP+EC', 'EP+ETM', 'EP+ETN+JKO', 'ETM', 'ETN', 'ETN+JKO', 'ETN+JX', 'IC', 'JC', 'JKB', 'JKB+JX', 'JKO',\n",
        "            'JKQ', 'JKS', 'JX', 'MAG', 'MAG+JX', 'MAG+XSV+EP+EC', 'MAJ','MM', 'MM+EC', 'NNB', 'NNB+JKB', 'NNB+JKO', 'NNB+VCP+EC', 'NNBC', 'NNG', 'NNG+JX+JKO',\n",
        "            'NNG+VCP+EC', 'NNP', 'NNP+JX', 'NP', 'NP+JKO', 'NP+JKS', 'NP+JX', 'NP+VCP+EC', 'NR', 'SC', 'SF', 'SL', 'SN', 'SSC', 'SSO', 'SY', 'UNKNOWN',\n",
        "            'VA+EC', 'VA+EC+VX+ETM', 'VA+ETM', 'VA+ETN+JKB+JX', 'VCN+EC', 'VCN+ETM', 'VCP', 'VCP+EC', 'VCP+EP+EC', 'VCP+EP+ETM', 'VCP+ETM', 'VCP+ETN',\n",
        "            'VV+EC', 'VV+EC+JX', 'VV+EC+VX+EC', 'VV+EC+VX+ETM', 'VV+EP+EC', 'VV+EP+ETM', 'VV+ETM', 'VV+ETN', 'VX+EC', 'VX+EC+VX+EP+EC', 'VX+EP+ETM',\n",
        "            'VX+ETM', 'XPN', 'XR', 'XSA+EC', 'XSA+EC+VX+ETM', 'XSA+ETM', 'XSN', 'XSV+EC', 'XSV+EP+EC', 'XSV+ETM', 'XSV+ETN', 'XSV+JKO'\n",
        "        ]\n",
        "        self.back_blank_tag = [\n",
        "            '', 'IC', 'MAG', 'MAG+JX', 'MAG+XSV+EP+EC', 'MAJ', 'MM', 'MM+EC', 'NNB', 'NNB+JKB', 'NNB+VCP', 'NNB+VCP+EC', 'NNB+VCP+EF', 'NNBC', 'NNBC+VCP+EC',\n",
        "            'NNG', 'NNG+JC', 'NNG+JX+JKO', 'NNG+VCP', 'NNG+VCP+EC', 'NNG+VCP+ETM', 'NNP', 'NNP+JX', 'NP', 'NP+JKG', 'NP+JKO', 'NP+JKS', 'NP+JX', 'NP+VCP+EC', 'NP+VCP+EF',\n",
        "            'NR', 'SC', 'SL', 'SN', 'SSC', 'SSO', 'SY', 'VA', 'VA+EC', 'VA+EC+VX+ETM', 'VA+EF', 'VA+ETM', 'VA+ETN', 'VA+ETN+JKB+JX', 'VCN', 'VCN+EC', 'VCN+EF', 'VCN+ETM',\n",
        "            'VCN+ETN', 'VCP', 'VCP+EF', 'VV', 'VV+EC', 'VV+EC+JX', 'VV+EC+VX', 'VV+EC+VX+EC', 'VV+EC+VX+EF', 'VV+EC+VX+EP+EC', 'VV+EC+VX+ETM', 'VV+EF', 'VV+EP', 'VV+EP+EC',\n",
        "            'VV+EP+ETM', 'VV+ETM', 'VV+ETN', 'VV+ETN+VCP+EF', 'VX', 'VX+ETM', 'XPN', 'XR', 'XSA+ETN+VCP+EF', 'XSN'\n",
        "        ]\n",
        "        \n",
        "    def morpheme(self, sentence_list):\n",
        "        new_sentence = []\n",
        "        for i, sentence in tqdm(enumerate(sentence_list)):\n",
        "            temp = []\n",
        "            if self.mode == 'dec':\n",
        "                temp.append('sos_')\n",
        "            for t in self.text_tokenizer.pos(sentence): #mecab으로 생성한 tokenizer로 텍스트에 품사정보 부착하여 반환 (pos())\n",
        "                temp.append('_'.join(t))\n",
        "            if self.mode == 'dec':\n",
        "                temp.append('eos_')\n",
        "            new_sentence.append(' '.join(temp))\n",
        "            \n",
        "        return new_sentence\n",
        "    \n",
        "    def fit(self, sentence_list): #text로부터 단어 개수 세서 txt2idx, idx2txt 에 저장(단어장 만들기)\n",
        "        for sentence in tqdm(sentence_list):\n",
        "            for word in sentence.split(' '): #띄어쓰기 기준으로 split하고\n",
        "                try:\n",
        "                    self.word_count[word] += 1 # 단어별로 count를 계산한다!\n",
        "                except:\n",
        "                    self.word_count[word] = 1\n",
        "        self.word_count = dict(sorted(self.word_count.items(), key=self.sort_target, reverse=True)) #count가 많은 순으로 wordcount dic를 배열\n",
        "        \n",
        "        self.txt2idx = {'pad_':0, 'unk_':1}\n",
        "        self.idx2txt = {0:'pad_', 1:'unk_'}\n",
        "        if self.max_vocab_size == -1:\n",
        "            for i, word in enumerate(list(self.word_count.keys())): # count말고 단어 정보만 매핑을 위해 key 고름\n",
        "                self.txt2idx[word]=i+2 # 이미 만들어진 두 리스트에 추가를 위해서 i + 2 \n",
        "                self.idx2txt[i+2]=word # 마찬가지\n",
        "        else:\n",
        "            for i, word in enumerate(list(self.word_count.keys())[:self.max_vocab_size]): #\n",
        "                self.txt2idx[word]=i+2\n",
        "                self.idx2txt[i+2]=word\n",
        "        \n",
        "    def sort_target(self, x):  # target이 x[1]에 있나보네\n",
        "        return x[1]\n",
        "            \n",
        "    def txt2token(self, sentence_list): #text를 token으로 변환하는 과정\n",
        "        tokens = []\n",
        "        for sentence in tqdm(sentence_list):\n",
        "            token = [0]*self.max_length\n",
        "            for i, w in enumerate(sentence.split(' ')):\n",
        "                if i == self.max_length:\n",
        "                    break\n",
        "                try:\n",
        "                    token[i] = self.txt2idx[w]  # txt2idx에 있는 단어면 token에 추가\n",
        "                except:\n",
        "                    token[i] = self.txt2idx['unk_'] #아니면 unknown token 으로 감\n",
        "            tokens.append(token)\n",
        "        return np.array(tokens) # token의 arrray 반환\n",
        "    \n",
        "    ## 아래 과정은 enc, dec 모드 에 대한 이해 완료 후 재확인\n",
        "    def convert(self, token): \n",
        "        sentence = []\n",
        "        for j, i in enumerate(token):\n",
        "            if self.mode == 'enc':\n",
        "                if i != self.txt2idx['pad_']: \n",
        "                    sentence.append(self.idx2txt[i].split('_')[0])\n",
        "            elif self.mode == 'dec':\n",
        "                if i == self.txt2idx['eos_'] or i == self.txt2idx['pad_']:\n",
        "                    break\n",
        "                elif i != 0:\n",
        "                    sentence.append(self.idx2txt[i].split('_')[0])\n",
        "                    # 앞뒤 태그를 확인하여 띄어쓰기 추가\n",
        "                    if self.idx2txt[i].split('_')[1] in self.font_blank_tag:\n",
        "                        try:\n",
        "                            if self.idx2txt[token[j+1]].split('_')[1] in self.back_blank_tag:\n",
        "                                sentence.append(' ')\n",
        "                        except:\n",
        "                            pass\n",
        "        sentence = \"\".join(sentence)\n",
        "        if self.mode == 'enc':\n",
        "            sentence = sentence[:-1]\n",
        "        elif self.mode == 'dec':\n",
        "            sentence = sentence[3:-1]\n",
        "            \n",
        "        return sentence"
      ],
      "id": "FTlI6Q_HeME_",
      "execution_count": 66,
      "outputs": []
    },
    {
      "cell_type": "markdown",
      "metadata": {
        "id": "MwobtDo5ctuO"
      },
      "source": [
        "> src, tar : source, target\n",
        "## 각 method의 역할\n",
        "\n",
        "- morpheme : 문장 리스트에서 품사정보 튜플형태로 부착 후 반환  \n",
        "- fit : 단어별로 dic형태로 count {word:count}\n",
        "- txt2token : max length 형태로 0벡터에 sentence tokenizing\n",
        "- convert : token -> 문장으로 \n"
      ],
      "id": "MwobtDo5ctuO"
    },
    {
      "cell_type": "code",
      "metadata": {
        "id": "0DvIbWnGeMFA"
      },
      "source": [
        "src_tokenizer = Mecab_Tokenizer(encoder_len, mode='enc', max_vocab_size=max_vocab_size) # encoder_len = 500 ,decoder_len = 50\n",
        "tar_tokenizer = Mecab_Tokenizer(decoder_len, mode='dec', max_vocab_size=max_vocab_size) # max_vocab_size = 20000"
      ],
      "id": "0DvIbWnGeMFA",
      "execution_count": 67,
      "outputs": []
    },
    {
      "cell_type": "code",
      "metadata": {
        "id": "bgBFucgheMFA",
        "colab": {
          "base_uri": "https://localhost:8080/"
        },
        "outputId": "570a8d2b-5f12-45d4-ff61-9d3570f49a0f"
      },
      "source": [
        "train_src = src_tokenizer.morpheme(df_train.total) #dataframe의 total(title, region, context) 를 입력으로 받음\n",
        "val_src = src_tokenizer.morpheme(df_val.total)\n",
        "test_src = src_tokenizer.morpheme(test.total)\n",
        "\n",
        "train_tar = tar_tokenizer.morpheme(df_train.summary) #요약정보 들어있음\n",
        "val_tar = tar_tokenizer.morpheme(df_val.summary)"
      ],
      "id": "bgBFucgheMFA",
      "execution_count": 68,
      "outputs": [
        {
          "output_type": "stream",
          "name": "stderr",
          "text": [
            "2794it [00:08, 349.08it/s]\n",
            "200it [00:00, 378.45it/s]\n",
            "506it [00:01, 339.79it/s]\n",
            "2794it [00:00, 6547.74it/s]\n",
            "200it [00:00, 6982.30it/s]\n"
          ]
        }
      ]
    },
    {
      "cell_type": "code",
      "metadata": {
        "colab": {
          "base_uri": "https://localhost:8080/",
          "height": 254
        },
        "id": "UasJIzMfKIhf",
        "outputId": "91a1200f-b22e-4a8a-9181-0af5bb2a6b08"
      },
      "source": [
        "train_src[0] # 품사정보 확인"
      ],
      "id": "UasJIzMfKIhf",
      "execution_count": 69,
      "outputs": [
        {
          "output_type": "execute_result",
          "data": {
            "application/vnd.google.colaboratory.intrinsic+json": {
              "type": "string"
            },
            "text/plain": [
              "'제_XPN 207_SN 회_NNBC 완주군_NNG 의회_NNG (_SSO 임시회_NNG )_SSC 제_XPN 1_SN 차_NNBC 본회_NNG 의_JKG 회의록_NNG 완주_NNG 의석_NNG 을_JKO 정돈_NNG 하_XSV 여_EC 주_VX 시_EP 기_ETN 바랍니다_VV+EF ._SF 성원_NNG 이_JKS 되_VV 었_EP 으므로_EC 제_XPN 207_SN 회_NNBC 완주군_NNG 의회_NNG 임시회_NNG 제_XPN 1_SN 차_NNBC 본회_NNG 의_JKG 개의_NNG 를_JKO 선포_NNG 합니다_XSV+EF ._SF 먼저_MAG 의사_NNG 팀장_NNG 으로부터_JKB 의회_NNG 관련_NNG 사항_NNG 에_JKB 대한_VV+ETM 보고_NNG 가_JKS 있_VA 겠_EP 습니다_EF ._SF 의사_NNG 팀장_NNG 은_JX 보고_NNG 하_XSV 여_EC 주_VX 시_EP 기_ETN 바랍니다_VV+EF ._SF 의사_NNG 팀장_NNG 이은미_NNP 입니다_VCP+EF ._SF 의회_NNG 관련_NNG 사항_NNG 을_JKO 보_VV 고_EC 드리_VX 겠_EP 습니다_EF ._SF 먼저_MAG 제_XPN 207_SN 회_NNBC 완주군_NNG 의회_NNG 임시회_NNG 소집_NNG 경위_NNG 를_JKO 보_VV 고_EC 드리_VX 겠_EP 습니다_EF ._SF 지방_NNG 자치_NNG 법_NNG 제_XPN 45_SN 조_NR 제_XPN 2_SN 항_NNG 의_JKG 규정_NNG 에_JKB 의거_NNG 서남용_NNP 의원_NNG 님_XSN 외_NNB 4_SN 인_NNG 의_JKG 의원_NNG 님_XSN 으로부터_JKB 임시회_NNG 집회_NNG 요구_NNG 가_JKS 있_VA 어_EC 지난_VV+ETM 8_SN 월_NNBC 6_SN 일_NNBC 집회_NNG 공고_NNG 를_JKO 하_VV 고_EC 오늘_MAG 집회_NNG 를_JKO 갖_VV 게_EC 되_VV 었_EP 습니다_EF ._SF 다음_NNG 은_JX 의안_NNG 접수_NNG 및_MAJ 회부_NNG 사항_NNG 입니다_VCP+EF ._SF 먼저_MAG 의원_NNG 발_NNG 의_JKG 안건_NNG 입니다_VCP+EF ._SF 완주군_NNG 의회_NNG 의원_NNG 의정_NNG 활동비_NNG 등_NNB 지급_NNG 에_JKB 관한_VV+ETM 조례_NNG 일부_NNG 개정_NNG 조례_NNG 안_MAG ,_SC 완주군_NNG 향토_NNG 문화유산_NNG 보호_NNG 및_MAJ 관리_NNG 조례_NNG 안_MAG ,_SC 완주군_NNG 싸움소_NNG 육성_NNG 지원_NNG 에_JKB 관한_VV+ETM 조례_NNG 안_NNG 등_NNB 총_MM 3_SN 건_NNBC 으로_JKB ,_SC 해당_NNG 상임_NNG 의_JKG 원회_NNG 로_JKB 회부_NNG 하_XSV 였_EP 습니다_EF ._SF 다음_NNG 은_JX 완주_NNG 군수_NNG 로부터_JKB 제출_NNG 된_XSV+ETM 안건_NNG 입니다_VCP+EF ._SF 삼례_NNP 문화예술_NNP 촌_NNG 설치_NNG 및_MAJ 운영_NNG 조례_NNG 일부_NNG 개정_NNG 조례_NNG 안_NNG 등_NNB 총_MM 40_SN 건_NNBC 으로_JKB 해당_NNG 상임_NNG 의_JKG 원회_NNG 로_JKB 회부_NNG 하_XSV 였_EP 습니다_EF ._SF 자세_XR 한_XSA+ETM 내용_NNG 은_JX 배부_NNG 해_XSV+EC 드린_VX+ETM 유인물_NNG 을_JKO 참조_NNG 하_XSV 여_EC 주_VX 시_EP 기_ETN 바랍니다_VV+EF ._SF 이상_NNG 보고_NNG 를_JKO 마치_VV 겠_EP 습니다_EF ._SF'"
            ]
          },
          "metadata": {},
          "execution_count": 69
        }
      ]
    },
    {
      "cell_type": "code",
      "metadata": {
        "id": "_2paCnT_eMFA",
        "colab": {
          "base_uri": "https://localhost:8080/",
          "height": 549
        },
        "outputId": "c7537f00-4cae-4672-8645-9990f5ab9668"
      },
      "source": [
        "# 문장 길이에 관한 histogram 출력\n",
        "\n",
        "train_src_len = []\n",
        "for m in train_src:\n",
        "    m_len = len(m.split(' ')) # 띄어쓰기에 따라 split 후 \n",
        "    train_src_len.append(m_len) # 길이를 train-src_len에 append\n",
        "print('train_src_max_len :', max(train_src_len))\n",
        "plt.hist(train_src_len, bins=30)\n",
        "plt.show()\n",
        "\n",
        "train_tar_len = []\n",
        "for m in train_tar:\n",
        "    m_len = len(m.split(' '))\n",
        "    train_tar_len.append(m_len)\n",
        "print('train_tar_max_len :', max(train_tar_len))\n",
        "plt.hist(train_tar_len, bins=30)\n",
        "plt.show()"
      ],
      "id": "_2paCnT_eMFA",
      "execution_count": 70,
      "outputs": [
        {
          "output_type": "stream",
          "name": "stdout",
          "text": [
            "train_src_max_len : 6476\n"
          ]
        },
        {
          "output_type": "display_data",
          "data": {
            "image/png": "[encoded data removed]",
            "text/plain": [
              "<Figure size 432x288 with 1 Axes>"
            ]
          },
          "metadata": {
            "needs_background": "light"
          }
        },
        {
          "output_type": "stream",
          "name": "stdout",
          "text": [
            "train_tar_max_len : 342\n"
          ]
        },
        {
          "output_type": "display_data",
          "data": {
            "image/png": "[encoded data removed]",
            "text/plain": [
              "<Figure size 432x288 with 1 Axes>"
            ]
          },
          "metadata": {
            "needs_background": "light"
          }
        }
      ]
    },
    {
      "cell_type": "markdown",
      "metadata": {
        "id": "xqVgumOTNOFk"
      },
      "source": [
        "context 최대 길이 : 약 6000단어\n",
        "\n",
        "target 최대 길이 : 약 350단어"
      ],
      "id": "xqVgumOTNOFk"
    },
    {
      "cell_type": "code",
      "metadata": {
        "id": "nD1PUleTeMFB",
        "colab": {
          "base_uri": "https://localhost:8080/"
        },
        "outputId": "e46234d2-c1fa-48e2-953c-8877837dc890"
      },
      "source": [
        "src_tokenizer.fit(train_src)\n",
        "tar_tokenizer.fit(train_tar)"
      ],
      "id": "nD1PUleTeMFB",
      "execution_count": 71,
      "outputs": [
        {
          "output_type": "stream",
          "name": "stderr",
          "text": [
            "100%|██████████| 2794/2794 [00:00<00:00, 5573.61it/s]\n",
            "100%|██████████| 2794/2794 [00:00<00:00, 81996.69it/s]\n"
          ]
        }
      ]
    },
    {
      "cell_type": "code",
      "metadata": {
        "colab": {
          "base_uri": "https://localhost:8080/"
        },
        "id": "vKEA535UUOhF",
        "outputId": "3238a567-4a54-4caa-9d8f-5fa979b4ad9b"
      },
      "source": [
        "src_tokenizer.txt2idx"
      ],
      "id": "vKEA535UUOhF",
      "execution_count": 72,
      "outputs": [
        {
          "output_type": "execute_result",
          "data": {
            "text/plain": [
              "{'pad_': 0,\n",
              " 'unk_': 1,\n",
              " '._SF': 2,\n",
              " '하_XSV': 3,\n",
              " '을_JKO': 4,\n",
              " '에_JKB': 5,\n",
              " ',_SC': 6,\n",
              " '의_JKG': 7,\n",
              " '습니다_EF': 8,\n",
              " '를_JKO': 9,\n",
              " '이_JKS': 10,\n",
              " '제_XPN': 11,\n",
              " '고_EC': 12,\n",
              " '의원_NNG': 13,\n",
              " '는_ETM': 14,\n",
              " '여_EC': 15,\n",
              " '으로_JKB': 16,\n",
              " '은_JX': 17,\n",
              " '는_JX': 18,\n",
              " '겠_EP': 19,\n",
              " '가_JKS': 20,\n",
              " '하_VV': 21,\n",
              " '님_XSN': 22,\n",
              " '조례_NNG': 23,\n",
              " '기_ETN': 24,\n",
              " '입니다_VCP+EF': 25,\n",
              " '없_VA': 26,\n",
              " '1_SN': 27,\n",
              " '주_VX': 28,\n",
              " '도_JX': 29,\n",
              " '시_EP': 30,\n",
              " '있_VV': 31,\n",
              " '것_NNB': 32,\n",
              " '로_JKB': 33,\n",
              " '및_MAJ': 34,\n",
              " '에서_JKB': 35,\n",
              " '사업_NNG': 36,\n",
              " '되_XSV': 37,\n",
              " '년_NNBC': 38,\n",
              " '2_SN': 39,\n",
              " '원_NNBC': 40,\n",
              " '과_JC': 41,\n",
              " '바랍니다_VV+EF': 42,\n",
              " '한_XSA+ETM': 43,\n",
              " '회_NNBC': 44,\n",
              " ')_SSC': 45,\n",
              " '(_SSO': 46,\n",
              " '음성군_NNG': 47,\n",
              " '었_EP': 48,\n",
              " '월_NNBC': 49,\n",
              " '안_NNG': 50,\n",
              " '있_VX': 51,\n",
              " '일_NNBC': 52,\n",
              " '되_VV': 53,\n",
              " '의회_NNG': 54,\n",
              " '억_NR': 55,\n",
              " '들_XSN': 56,\n",
              " '?_SF': 57,\n",
              " '개정_NNG': 58,\n",
              " '적_XSN': 59,\n",
              " '고자_EC': 60,\n",
              " '등_NNB': 61,\n",
              " '도록_EC': 62,\n",
              " '위원회_NNG': 63,\n",
              " '3_SN': 64,\n",
              " '._SY': 65,\n",
              " '음_ETN': 66,\n",
              " '만_NR': 67,\n",
              " '차_NNBC': 68,\n",
              " '항_NNG': 69,\n",
              " '질의_NNG': 70,\n",
              " '안_MAG': 71,\n",
              " '다음_NNG': 72,\n",
              " '사항_NNG': 73,\n",
              " '계획_NNG': 74,\n",
              " '면_EC': 75,\n",
              " '예산_NNG': 76,\n",
              " '는데_EC': 77,\n",
              " '설명_NNG': 78,\n",
              " '수_NNB': 79,\n",
              " '운영_NNG': 80,\n",
              " '드리_VV': 81,\n",
              " '4_SN': 82,\n",
              " '어_EC': 83,\n",
              " '대하_VV': 84,\n",
              " '합니다_XSV+EF': 85,\n",
              " '5_SN': 86,\n",
              " '의사일정_NNG': 87,\n",
              " '지원_NNG': 88,\n",
              " '게_EC': 89,\n",
              " '인_VCP+ETM': 90,\n",
              " '와_JC': 91,\n",
              " '이상_NNG': 92,\n",
              " '보고_NNG': 93,\n",
              " '음성_NNG': 94,\n",
              " '」_SSC': 95,\n",
              " '「_SSO': 96,\n",
              " '완주군_NNG': 97,\n",
              " '관리_NNG': 98,\n",
              " '이_VCP': 99,\n",
              " '지역_NNG': 100,\n",
              " '감사_NNG': 101,\n",
              " '결과_NNG': 102,\n",
              " '대한_VV+ETM': 103,\n",
              " '의결_NNG': 104,\n",
              " '해_XSV+EC': 105,\n",
              " '본_VV+ETM': 106,\n",
              " '였_EP': 107,\n",
              " '하_XSA': 108,\n",
              " '지방_NNG': 109,\n",
              " '행정_NNG': 110,\n",
              " '추진_NNG': 111,\n",
              " '있_VA': 112,\n",
              " '시설_NNG': 113,\n",
              " '위원_NNG': 114,\n",
              " '보_VV': 115,\n",
              " '검토_NNG': 116,\n",
              " '할_XSV+ETM': 117,\n",
              " '6_SN': 118,\n",
              " '과장_NNG': 119,\n",
              " '은_ETM': 120,\n",
              " '까지_JX': 121,\n",
              " '된_XSV+ETM': 122,\n",
              " '제안_NNG': 123,\n",
              " '규정_NNG': 124,\n",
              " '으므로_EC': 125,\n",
              " '중_NNB': 126,\n",
              " '실_EP+ETM': 127,\n",
              " '선포_NNG': 128,\n",
              " '마치_VV': 129,\n",
              " '임시회_NNG': 130,\n",
              " '여러분_NP': 131,\n",
              " '대로_JX': 132,\n",
              " '일부_NNG': 133,\n",
              " '말씀_NNG': 134,\n",
              " '의견_NNG': 135,\n",
              " '7_SN': 136,\n",
              " '원안_NNG': 137,\n",
              " '부터_JX': 138,\n",
              " '특별_NNG': 139,\n",
              " '하_VX': 140,\n",
              " '관한_VV+ETM': 141,\n",
              " '께서_JKS': 142,\n",
              " '셨_EP+EP': 143,\n",
              " '10_SN': 144,\n",
              " '8_SN': 145,\n",
              " '이의_NNG': 146,\n",
              " '본회_NNG': 147,\n",
              " '지_EC': 148,\n",
              " '합니다_XSA+EF': 149,\n",
              " '상정_NNG': 150,\n",
              " '9_SN': 151,\n",
              " '페이지_NNG': 152,\n",
              " '수고_NNG': 153,\n",
              " '합니다_VX+EF': 154,\n",
              " '주민_NNG': 155,\n",
              " '며_EC': 156,\n",
              " '주요_NNG': 157,\n",
              " '한_XSV+ETM': 158,\n",
              " '사무_NNG': 159,\n",
              " '조_NNG': 160,\n",
              " '대해서_VV+EC': 161,\n",
              " '그_MM': 162,\n",
              " '내용_NNG': 163,\n",
              " '신_EP+ETM': 164,\n",
              " '우리_NP': 165,\n",
              " '건_NNG': 166,\n",
              " '자치_NNG': 167,\n",
              " '한_MM': 168,\n",
              " '12_SN': 169,\n",
              " '보_VX': 170,\n",
              " '먼저_MAG': 171,\n",
              " '설치_NNG': 172,\n",
              " '11_SN': 173,\n",
              " '가결_NNG': 174,\n",
              " '않_VX': 175,\n",
              " '으십니까_EP+EP+EF': 176,\n",
              " '해_VV+EC': 177,\n",
              " '관련_NNG': 178,\n",
              " '번_NNBC': 179,\n",
              " '셔서_EP+EC': 180,\n",
              " '조_NR': 181,\n",
              " '화_XSN': 182,\n",
              " '!_SF': 183,\n",
              " '같_VA': 184,\n",
              " '변경_NNG': 185,\n",
              " '법_NNG': 186,\n",
              " '회의_NNG': 187,\n",
              " '이_NP': 188,\n",
              " '결산_NNG': 189,\n",
              " '건_NNBC': 190,\n",
              " '세입_NNG': 191,\n",
              " '심사_NNG': 192,\n",
              " '위원장_NNG': 193,\n",
              " '따라_VV+EC': 194,\n",
              " '재산_NNG': 195,\n",
              " '도시_NNG': 196,\n",
              " '분_NNBC': 197,\n",
              " '받_VV': 198,\n",
              " '나오_VV': 199,\n",
              " '만_JX': 200,\n",
              " '그리고_MAJ': 201,\n",
              " '위한_VV+ETM': 202,\n",
              " '제출_NNG': 203,\n",
              " '해서_XSV+EC': 204,\n",
              " '투표_NNG': 205,\n",
              " '본_VX+ETM': 206,\n",
              " '으로부터_JKB': 207,\n",
              " '호_NNBC': 208,\n",
              " '부분_NNG': 209,\n",
              " '으며_EC': 210,\n",
              " '성_XSN': 211,\n",
              " '드리_VX': 212,\n",
              " '본회의_NNG': 213,\n",
              " '복지_NNG': 214,\n",
              " '해서_VV+EC': 215,\n",
              " '확인_NNG': 216,\n",
              " '구성_NNG': 217,\n",
              " '개_NNBC': 218,\n",
              " '군_NNG': 219,\n",
              " '지금_MAG': 220,\n",
              " '결정_NNG': 221,\n",
              " '·_SC': 222,\n",
              " '또_MAG': 223,\n",
              " '다고_EC': 224,\n",
              " '전문_NNG': 225,\n",
              " '군민_NNG': 226,\n",
              " '안건_NNG': 227,\n",
              " '이_MM': 228,\n",
              " '때_NNG': 229,\n",
              " '천_NR': 230,\n",
              " '참고_NNG': 231,\n",
              " '명_NNBC': 232,\n",
              " '저희_NP': 233,\n",
              " '심의_NNG': 234,\n",
              " '공무원_NNG': 235,\n",
              " '처리_NNG': 236,\n",
              " '예_IC': 237,\n",
              " '위하_VV': 238,\n",
              " '다_MAG': 239,\n",
              " '업무_NNG': 240,\n",
              " '의장_NNG': 241,\n",
              " '기금_NNG': 242,\n",
              " '예산안_NNG': 243,\n",
              " '그런_MM': 244,\n",
              " '함_XSV+ETN': 245,\n",
              " '그러면_MAJ': 246,\n",
              " '을_ETM': 247,\n",
              " '군수_NNG': 248,\n",
              " '과_JKB': 249,\n",
              " '%_SY': 250,\n",
              " '활동_NNG': 251,\n",
              " '실시_NNG': 252,\n",
              " '회_NNG': 253,\n",
              " '회기_NNG': 254,\n",
              " '그래서_MAJ': 255,\n",
              " '총_MM': 256,\n",
              " '생각_NNG': 257,\n",
              " '회의록_NNG': 258,\n",
              " '계시_VV': 259,\n",
              " '요구_NNG': 260,\n",
              " '바_NNB': 261,\n",
              " '회계_NNG': 262,\n",
              " '문화_NNG': 263,\n",
              " '승인_NNG': 264,\n",
              " '아니_VCN': 265,\n",
              " '지난_VV+ETM': 266,\n",
              " '조성_NNG': 267,\n",
              " '편성_NNG': 268,\n",
              " '완주_NNG': 269,\n",
              " '사전_NNG': 270,\n",
              " '필요_NNG': 271,\n",
              " '추가_NNG': 272,\n",
              " '…_SE': 273,\n",
              " '협의_NNG': 274,\n",
              " '특별회계_NNP': 275,\n",
              " '사회_NNG': 276,\n",
              " '거_NNB': 277,\n",
              " '이유_NNG': 278,\n",
              " '데_NNB': 279,\n",
              " '이런_MM': 280,\n",
              " '때문_NNB': 281,\n",
              " '환경_NNG': 282,\n",
              " '같이_MAG': 283,\n",
              " '경우_NNG': 284,\n",
              " '개발_NNG': 285,\n",
              " '일반_NNG': 286,\n",
              " '기관_NNG': 287,\n",
              " '관계_NNG': 288,\n",
              " '별_XSN': 289,\n",
              " '노력_NNG': 290,\n",
              " '군정_NNG': 291,\n",
              " '므로_EC': 292,\n",
              " '많_VA': 293,\n",
              " '경제_NNG': 294,\n",
              " '알_VV': 295,\n",
              " '생활_NNG': 296,\n",
              " '규칙_NNG': 297,\n",
              " '그것_NP': 298,\n",
              " '따른_VV+ETM': 299,\n",
              " '정례회_NNG': 300,\n",
              " '조사_NNG': 301,\n",
              " '시_NNG': 302,\n",
              " '운용_NNG': 303,\n",
              " '면서_EC': 304,\n",
              " '이것_NP': 305,\n",
              " '세출_NNG': 306,\n",
              " '계획안_NNG': 307,\n",
              " '째_XSN': 308,\n",
              " '했_VV+EP': 309,\n",
              " '집행_NNG': 310,\n",
              " '현지_NNG': 311,\n",
              " '개선_NNG': 312,\n",
              " '사용_NNG': 313,\n",
              " '에게_JKB': 314,\n",
              " '선출_NNG': 315,\n",
              " '조정_NNG': 316,\n",
              " '시행_NNG': 317,\n",
              " '많이_MAG': 318,\n",
              " '제정_NNG': 319,\n",
              " '반영_NNG': 320,\n",
              " '대상_NNG': 321,\n",
              " '위해_VV+EC': 322,\n",
              " '의안_NNG': 323,\n",
              " '20_SN': 324,\n",
              " '또한_MAJ': 325,\n",
              " '할_VV+ETM': 326,\n",
              " '어서_EC': 327,\n",
              " '증가_NNG': 328,\n",
              " '규모_NNG': 329,\n",
              " '단체_NNG': 330,\n",
              " '기간_NNG': 331,\n",
              " '문제_NNG': 332,\n",
              " '의사_NNG': 333,\n",
              " '공사_NNG': 334,\n",
              " '청주시_NNP': 335,\n",
              " '분야_NNG': 336,\n",
              " '외_NNB': 337,\n",
              " '였으며_EP+EC': 338,\n",
              " '잘_MAG': 339,\n",
              " '다는_ETM': 340,\n",
              " '현재_MAG': 341,\n",
              " '조치_NNG': 342,\n",
              " '서명_NNG': 343,\n",
              " '발생_NNG': 344,\n",
              " '센터_NNG': 345,\n",
              " '인_NNG': 346,\n",
              " '발전_NNG': 347,\n",
              " '비_XPN': 348,\n",
              " '니까_EC': 349,\n",
              " '이_NR': 350,\n",
              " '유인물_NNG': 351,\n",
              " '교육_NNG': 352,\n",
              " '바로_MAG': 353,\n",
              " '방법_NNG': 354,\n",
              " '될_XSV+ETM': 355,\n",
              " '더_MAG': 356,\n",
              " '시_NNBC': 357,\n",
              " '조제_NNG': 358,\n",
              " '좋_VA': 359,\n",
              " '간_NNG': 360,\n",
              " '으면_EC': 361,\n",
              " '제_NP': 362,\n",
              " '수_NNG': 363,\n",
              " '두_MM': 364,\n",
              " '와_JKB': 365,\n",
              " '쪽_NNBC': 366,\n",
              " '농업_NNG': 367,\n",
              " '해당_NNG': 368,\n",
              " '거기_NP': 369,\n",
              " '정비_NNG': 370,\n",
              " '앞_NNG': 371,\n",
              " '적극_NNG': 372,\n",
              " '으로서_JKB': 373,\n",
              " '사업비_NNG': 374,\n",
              " '이용_NNG': 375,\n",
              " '간담회_NNG': 376,\n",
              " '공유_NNG': 377,\n",
              " '듣_VV': 378,\n",
              " '15_SN': 379,\n",
              " '지만_EC': 380,\n",
              " '계십니까_VV+EF': 381,\n",
              " '2019_SN': 382,\n",
              " '이나_JC': 383,\n",
              " '개의_NNG': 384,\n",
              " '30_SN': 385,\n",
              " '산업_NNG': 386,\n",
              " '의거_NNG': 387,\n",
              " '됩니다_XSV+EF': 388,\n",
              " '던_ETM': 389,\n",
              " '드립니다_VV+EF': 390,\n",
              " '대로_NNB': 391,\n",
              " '면_NNG': 392,\n",
              " '정도_NNG': 393,\n",
              " '시_NNB': 394,\n",
              " '보건_NNG': 395,\n",
              " '투자_NNG': 396,\n",
              " '경정_NNG': 397,\n",
              " '확보_NNG': 398,\n",
              " '자료_NNG': 399,\n",
              " '생략_NNG': 400,\n",
              " '건설_NNG': 401,\n",
              " '했_XSV+EP': 402,\n",
              " '여러분_NR': 403,\n",
              " '기준_NNG': 404,\n",
              " '모두_MAG': 405,\n",
              " '습니까_EF': 406,\n",
              " '천만_NR': 407,\n",
              " '지적_NNG': 408,\n",
              " '이_JKC': 409,\n",
              " '할_VX+ETM': 410,\n",
              " '활성_NNG': 411,\n",
              " '이번_NNG': 412,\n",
              " '갖_VV': 413,\n",
              " '13_SN': 414,\n",
              " '오늘_MAG': 415,\n",
              " '토지_NNG': 416,\n",
              " '얘기_NNG': 417,\n",
              " '신청_NNG': 418,\n",
              " '활용_NNG': 419,\n",
              " '위해서_VV+EC': 420,\n",
              " '접수_NNG': 421,\n",
              " '다른_MM': 422,\n",
              " '지급_NNG': 423,\n",
              " '민원_NNG': 424,\n",
              " '농가_NNG': 425,\n",
              " '될_VV+ETM': 426,\n",
              " '징수_NNG': 427,\n",
              " '효율_NNG': 428,\n",
              " '법령_NNG': 429,\n",
              " '보다_JKB': 430,\n",
              " '읍_NNG': 431,\n",
              " '21_SN': 432,\n",
              " '선임_NNG': 433,\n",
              " '재정_NNG': 434,\n",
              " '18_SN': 435,\n",
              " '16_SN': 436,\n",
              " '2018_SN': 437,\n",
              " '보조금_NNG': 438,\n",
              " '께_JKB': 439,\n",
              " '위탁_NNG': 440,\n",
              " '부서_NNG': 441,\n",
              " '답변_NNG': 442,\n",
              " '그렇게_MAG': 443,\n",
              " '후_NNG': 444,\n",
              " '19_SN': 445,\n",
              " '건_NNB+JX': 446,\n",
              " '다_EC': 447,\n",
              " '록_NNG': 448,\n",
              " '『_SY': 449,\n",
              " '』_SY': 450,\n",
              " '권_XSN': 451,\n",
              " '도로_NNG': 452,\n",
              " '각_MM': 453,\n",
              " '산업단지_NNP': 454,\n",
              " '집회_NNG': 455,\n",
              " '시간_NNG': 456,\n",
              " '과_NNG': 457,\n",
              " '고요_EF': 458,\n",
              " '집행부_NNG': 459,\n",
              " '담당_NNG': 460,\n",
              " '내_NNB': 461,\n",
              " '의하_VV': 462,\n",
              " '대_NNBC': 463,\n",
              " '취득_NNG': 464,\n",
              " '판단_NNG': 465,\n",
              " '명패_NNG': 466,\n",
              " '성원_NNG': 467,\n",
              " '가지_NNBC': 468,\n",
              " '이렇게_MAG': 469,\n",
              " '14_SN': 470,\n",
              " '동안_NNG': 471,\n",
              " '여러_MM': 472,\n",
              " '다시_MAG': 473,\n",
              " '시정_NNG': 474,\n",
              " '지금_NNG': 475,\n",
              " '검사_NNG': 476,\n",
              " '라는_ETM': 477,\n",
              " '소관_NNG': 478,\n",
              " '감표_NNG': 479,\n",
              " '아_EC': 480,\n",
              " '채택_NNG': 481,\n",
              " '감면_NNG': 482,\n",
              " '드린_VX+ETM': 483,\n",
              " '종합_NNG': 484,\n",
              " '100_SN': 485,\n",
              " '시행령_NNG': 486,\n",
              " '발의_NNG': 487,\n",
              " '자_XSN': 488,\n",
              " '공유_NNP': 489,\n",
              " '선거_NNG': 490,\n",
              " '안전_NNG': 491,\n",
              " '으로써_JKB': 492,\n",
              " '폐기물_NNG': 493,\n",
              " '좀_MAG': 494,\n",
              " '게_NNB+JKS': 495,\n",
              " '부지_NNG': 496,\n",
              " '재_XPN': 497,\n",
              " '건축_NNG': 498,\n",
              " '로부터_JKB': 499,\n",
              " '마을_NNG': 500,\n",
              " '도_NNG': 501,\n",
              " '휴회_NNG': 502,\n",
              " '수입_NNG': 503,\n",
              " '양해_NNG': 504,\n",
              " '업체_NNG': 505,\n",
              " '선정_NNG': 506,\n",
              " '시장_NNG': 507,\n",
              " '상임_NNG': 508,\n",
              " '소장_NNG': 509,\n",
              " '인데_VCP+EC': 510,\n",
              " '타당_XR': 511,\n",
              " '대표_NNG': 512,\n",
              " '입법_NNG': 513,\n",
              " '동료_NNG': 514,\n",
              " '정부_NNG': 515,\n",
              " '청주_NNP': 516,\n",
              " '마련_NNG': 517,\n",
              " '전부_MAG': 518,\n",
              " '어요_EF': 519,\n",
              " '았_EP': 520,\n",
              " '기본_NNG': 521,\n",
              " '전라북도_NNP': 522,\n",
              " '예고_NNG': 523,\n",
              " '배부_NNG': 524,\n",
              " '제안자_NNG': 525,\n",
              " '혁신_NNG': 526,\n",
              " '방안_NNG': 527,\n",
              " '목적_NNG': 528,\n",
              " '25_SN': 529,\n",
              " '홍보_NNG': 530,\n",
              " '국가_NNG': 531,\n",
              " '정원_NNG': 532,\n",
              " '의석_NNG': 533,\n",
              " '육성_NNG': 534,\n",
              " '기업_NNG': 535,\n",
              " '백만_NR': 536,\n",
              " '22_SN': 537,\n",
              " '출석_NNG': 538,\n",
              " '맞_VV': 539,\n",
              " '24_SN': 540,\n",
              " '전_NNG': 541,\n",
              " '증액_NNG': 542,\n",
              " '평가_NNG': 543,\n",
              " '번호_NNG': 544,\n",
              " '정돈_NNG': 545,\n",
              " '근거_NNG': 546,\n",
              " '산회_NNG': 547,\n",
              " '보조_NNG': 548,\n",
              " '그렇_VA': 549,\n",
              " '공공_NNG': 550,\n",
              " '의정_NNG': 551,\n",
              " '2020_SN': 552,\n",
              " '간_NNB': 553,\n",
              " '기타_NNG': 554,\n",
              " '라고_EC': 555,\n",
              " '신설_NNG': 556,\n",
              " '노인_NNG': 557,\n",
              " '점검_NNG': 558,\n",
              " '확대_NNG': 559,\n",
              " '추경_NNG': 560,\n",
              " '일괄_NNG': 561,\n",
              " '보고서_NNG': 562,\n",
              " '000_SN': 563,\n",
              " '17_SN': 564,\n",
              " '그런데_MAJ': 565,\n",
              " '견학_NNG': 566,\n",
              " '동의_NNG': 567,\n",
              " '재원_NNG': 568,\n",
              " '기획_NNG': 569,\n",
              " '개소_NNBC': 570,\n",
              " '일_NNG': 571,\n",
              " '나가_VX': 572,\n",
              " '로서_JKB': 573,\n",
              " '정책_NNG': 574,\n",
              " 'ㆍ세출_UNKNOWN': 575,\n",
              " '건강_NNG': 576,\n",
              " '진행_NNG': 577,\n",
              " '“_SSO': 578,\n",
              " '당초_NNG': 579,\n",
              " '”_SSC': 580,\n",
              " '2016_SN': 581,\n",
              " '23_SN': 582,\n",
              " '생산_NNG': 583,\n",
              " '들_VV': 584,\n",
              " '예비비_NNG': 585,\n",
              " '라_EC': 586,\n",
              " '사유_NNG': 587,\n",
              " '장_NNG': 588,\n",
              " '당부_NNG': 589,\n",
              " '또는_MAJ': 590,\n",
              " '서_EC': 591,\n",
              " '부의장_NNG': 592,\n",
              " '대책_NNG': 593,\n",
              " '바라_VV': 594,\n",
              " '시책_NNG': 595,\n",
              " '발_NNG': 596,\n",
              " '폐지_NNG': 597,\n",
              " '다_EF': 598,\n",
              " '보호_NNG': 599,\n",
              " '가능_NNG': 600,\n",
              " '농촌_NNG': 601,\n",
              " '지정_NNG': 602,\n",
              " '㎡_SY': 603,\n",
              " '수립_NNG': 604,\n",
              " '여기_NP': 605,\n",
              " '토록_XSV+EC': 606,\n",
              " '계상_NNG': 607,\n",
              " '나_JC': 608,\n",
              " '2015_SN': 609,\n",
              " '발언_NNG': 610,\n",
              " '실장_NNG': 611,\n",
              " '2008_SN': 612,\n",
              " '존경_NNG': 613,\n",
              " '참여_NNG': 614,\n",
              " '관내_NNG': 615,\n",
              " '사료_NNG': 616,\n",
              " '재무_NNG': 617,\n",
              " '물론_MAG': 618,\n",
              " '질_NNG': 619,\n",
              " '계시_VX': 620,\n",
              " '2009_SN': 621,\n",
              " '향상_NNG': 622,\n",
              " '사람_NNG': 623,\n",
              " '표_NNG': 624,\n",
              " '민간_NNG': 625,\n",
              " '됨_XSV+ETN': 626,\n",
              " '2006_SN': 627,\n",
              " '상_XSN': 628,\n",
              " '상수도_NNG': 629,\n",
              " 'ㆍ답변을_UNKNOWN': 630,\n",
              " '체육_NNG': 631,\n",
              " '일자_NNG': 632,\n",
              " '39_SN': 633,\n",
              " '‘_SY': 634,\n",
              " '28_SN': 635,\n",
              " '죠_EF': 636,\n",
              " '계속_MAG': 637,\n",
              " '계약_NNG': 638,\n",
              " '이전_NNG': 639,\n",
              " '기하_VV': 640,\n",
              " '부담_NNG': 641,\n",
              " '이게_NP+JKS': 642,\n",
              " '팀장_NNG': 643,\n",
              " '26_SN': 644,\n",
              " '추가경정예산_NNP': 645,\n",
              " '철저_NNG': 646,\n",
              " '27_SN': 647,\n",
              " '법률_NNG': 648,\n",
              " '개최_NNG': 649,\n",
              " '문제점_NNG': 650,\n",
              " '분_NNB': 651,\n",
              " '통하_VV': 652,\n",
              " '저_NP': 653,\n",
              " '된_VV+ETM': 654,\n",
              " '모든_MM': 655,\n",
              " '2012_SN': 656,\n",
              " '각종_NNG': 657,\n",
              " '됐_VV+EP': 658,\n",
              " '자세_XR': 659,\n",
              " '현황_NNG': 660,\n",
              " '설계_NNG': 661,\n",
              " '정하_VV': 662,\n",
              " '어야_EC': 663,\n",
              " '수도_NNG': 664,\n",
              " '본_MM': 665,\n",
              " '끝_NNG': 666,\n",
              " '함께_MAG': 667,\n",
              " '지속_NNG': 668,\n",
              " '으시_EP': 669,\n",
              " '피해_NNG': 670,\n",
              " '상황_NNG': 671,\n",
              " '500_SN': 672,\n",
              " '협조_NNG': 673,\n",
              " '자체_NNG': 674,\n",
              " '그러_VV': 675,\n",
              " '대비_NNG': 676,\n",
              " '비교_NNG': 677,\n",
              " '하반기_NNG': 678,\n",
              " '려는_ETM': 679,\n",
              " '여건_NNG': 680,\n",
              " '50_SN': 681,\n",
              " '포함_NNG': 682,\n",
              " '현안_NNG': 683,\n",
              " '건의_NNG': 684,\n",
              " '전국_NNG': 685,\n",
              " '촉진_NNG': 686,\n",
              " '의한_VV+ETM': 687,\n",
              " '못_MAG': 688,\n",
              " '제공_NNG': 689,\n",
              " '회부_NNG': 690,\n",
              " '재난_NNG': 691,\n",
              " '-_SY': 692,\n",
              " '한테_JKB': 693,\n",
              " '증진_NNG': 694,\n",
              " '매입_NNG': 695,\n",
              " '됩니다_VV+EF': 696,\n",
              " '효과_NNG': 697,\n",
              " '직원_NNG': 698,\n",
              " '청소년_NNG': 699,\n",
              " '내역_NNG': 700,\n",
              " '오니_EC': 701,\n",
              " '완료_NNG': 702,\n",
              " '불_XPN': 703,\n",
              " '2017_SN': 704,\n",
              " '가_VV': 705,\n",
              " '분석_NNG': 706,\n",
              " '2005_SN': 707,\n",
              " '정보_NNG': 708,\n",
              " '사례_NNG': 709,\n",
              " '전체_NNG': 710,\n",
              " '2013_SN': 711,\n",
              " '지방세_NNG': 712,\n",
              " '허가_NNG': 713,\n",
              " '범위_NNG': 714,\n",
              " '제도_NNG': 715,\n",
              " '서비스_NNG': 716,\n",
              " '해야_XSV+EC': 717,\n",
              " '아서_EC': 718,\n",
              " '~_SY': 719,\n",
              " '예방_NNG': 720,\n",
              " '세부_NNG': 721,\n",
              " '하나_NR': 722,\n",
              " '말_NNG': 723,\n",
              " '2014_SN': 724,\n",
              " '건립_NNG': 725,\n",
              " '비롯_XR': 726,\n",
              " '제_MM': 727,\n",
              " '한_VV+ETM': 728,\n",
              " '제고_NNG': 729,\n",
              " '경비_NNG': 730,\n",
              " '과정_NNG': 731,\n",
              " '소득_NNG': 732,\n",
              " '200_SN': 733,\n",
              " '충북_NNP': 734,\n",
              " '건물_NNG': 735,\n",
              " '부족_NNG': 736,\n",
              " '군세_NNG': 737,\n",
              " '세_MM': 738,\n",
              " '안정_NNG': 739,\n",
              " '사실_MAG': 740,\n",
              " '제_XSN': 741,\n",
              " '기구_NNG': 742,\n",
              " '협의회_NNG': 743,\n",
              " '2010_SN': 744,\n",
              " '400_SN': 745,\n",
              " '600_SN': 746,\n",
              " '현실_NNG': 747,\n",
              " '지출_NNG': 748,\n",
              " '골자_NNG': 749,\n",
              " '반_NNG': 750,\n",
              " '통합_NNG': 751,\n",
              " '금번_NNG': 752,\n",
              " '주택_NNG': 753,\n",
              " '대소_NNG': 754,\n",
              " '회관_NNG': 755,\n",
              " '학교_NNG': 756,\n",
              " '행사_NNG': 757,\n",
              " '장애_NNG': 758,\n",
              " '인구_NNG': 759,\n",
              " '금년도_NNG': 760,\n",
              " '어떻게_MAG': 761,\n",
              " '지도_NNG': 762,\n",
              " '호명_NNG': 763,\n",
              " '구역_NNG': 764,\n",
              " '신_XPN': 765,\n",
              " '통해_VV+EC': 766,\n",
              " '29_SN': 767,\n",
              " '해야_VV+EC': 768,\n",
              " '금왕_NNP': 769,\n",
              " '예요_VCP+EF': 770,\n",
              " '시키_XSV': 771,\n",
              " '당선_NNG': 772,\n",
              " '촉구_NNG': 773,\n",
              " '규제_NNG': 774,\n",
              " 'ㆍ의결하여_UNKNOWN': 775,\n",
              " '적용_NNG': 776,\n",
              " '했_VX+EP': 777,\n",
              " '시작_NNG': 778,\n",
              " '신축_NNG': 779,\n",
              " '제시_NNG': 780,\n",
              " '붙임_NNG': 781,\n",
              " '조항_NNG': 782,\n",
              " '의료_NNG': 783,\n",
              " '기능_NNG': 784,\n",
              " '갈음_NNG': 785,\n",
              " '인사_NNG': 786,\n",
              " '면적_NNG': 787,\n",
              " '국_NNG': 788,\n",
              " '만들_VV': 789,\n",
              " '등록_NNG': 790,\n",
              " '800_SN': 791,\n",
              " '대해_VV+EC': 792,\n",
              " '거든요_EF': 793,\n",
              " '주_VV': 794,\n",
              " '예술_NNG': 795,\n",
              " '기반_NNG': 796,\n",
              " '’_SY': 797,\n",
              " '유지_NNG': 798,\n",
              " '축제_NNG': 799,\n",
              " '31_SN': 800,\n",
              " '여야_EC': 801,\n",
              " '는지_EC': 802,\n",
              " '놓_VX': 803,\n",
              " '방지_NNG': 804,\n",
              " '보완_NNG': 805,\n",
              " '수수료_NNG': 806,\n",
              " '지구_NNG': 807,\n",
              " '2011_SN': 808,\n",
              " '강화_NNG': 809,\n",
              " '거나_EC': 810,\n",
              " '절차_NNG': 811,\n",
              " '없이_MAG': 812,\n",
              " '기여_NNG': 813,\n",
              " '자원_NNG': 814,\n",
              " '인력_NNG': 815,\n",
              " '농산물_NNG': 816,\n",
              " '기_NNG': 817,\n",
              " '려고_EC': 818,\n",
              " '현장_NNG': 819,\n",
              " '도모_NNG': 820,\n",
              " '부과_NNG': 821,\n",
              " '300_SN': 822,\n",
              " '최선_NNG': 823,\n",
              " '비용_NNG': 824,\n",
              " '순서_NNG': 825,\n",
              " '공간_NNG': 826,\n",
              " '물_NNG': 827,\n",
              " '각각_MAG': 828,\n",
              " '작성_NNG': 829,\n",
              " '깊_VA': 830,\n",
              " '일정_NNG': 831,\n",
              " '해서_XSA+EC': 832,\n",
              " '나요_EF': 833,\n",
              " '과반수_NNG': 834,\n",
              " '국민_NNG': 835,\n",
              " '하수_NNG': 836,\n",
              " '03_SN': 837,\n",
              " '｢_SY': 838,\n",
              " '겁니다_NNB+VCP+EF': 839,\n",
              " '처분_NNG': 840,\n",
              " '공고_NNG': 841,\n",
              " '공동_NNG': 842,\n",
              " '파악_NNG': 843,\n",
              " '드렸_VV+EP': 844,\n",
              " '이월_NNG': 845,\n",
              " '하고_JKB': 846,\n",
              " '위_NNG': 847,\n",
              " '결의안_NNG': 848,\n",
              " '이한철_NNP': 849,\n",
              " '제외_NNG': 850,\n",
              " '으신_EP+ETM': 851,\n",
              " '교통_NNG': 852,\n",
              " '조천희_NNP': 853,\n",
              " '질문_NNG': 854,\n",
              " '금년_NNG': 855,\n",
              " '실과_NNG': 856,\n",
              " '자리_NNG': 857,\n",
              " '어떤_MM': 858,\n",
              " '향후_NNG': 859,\n",
              " '방금_MAG': 860,\n",
              " '실정_NNG': 861,\n",
              " '특히_MAG': 862,\n",
              " '용역_NNG': 863,\n",
              " 'ㆍ_UNKNOWN': 864,\n",
              " '층_NNG': 865,\n",
              " '연구_NNG': 866,\n",
              " '충청북도_NNP': 867,\n",
              " '삶_NNG': 868,\n",
              " '이송_NNG': 869,\n",
              " '두_VV': 870,\n",
              " '시민_NNG': 871,\n",
              " '공급_NNG': 872,\n",
              " '여_XSN': 873,\n",
              " '700_SN': 874,\n",
              " '농기계_NNG': 875,\n",
              " '투표용지_NNG': 876,\n",
              " '씩_XSN': 877,\n",
              " '대회_NNG': 878,\n",
              " '위치_NNG': 879,\n",
              " '축산_NNG': 880,\n",
              " '여성_NNG': 881,\n",
              " '06_SN': 882,\n",
              " '서_JKB': 883,\n",
              " '은데_EC': 884,\n",
              " '아직_MAG': 885,\n",
              " '사용료_NNG': 886,\n",
              " '가지_VV': 887,\n",
              " '영향_NNG': 888,\n",
              " '기존_NNG': 889,\n",
              " '삭제_NNG': 890,\n",
              " '상위_NNG': 891,\n",
              " '불편_NNG': 892,\n",
              " '유치_NNG': 893,\n",
              " '통보_NNG': 894,\n",
              " '원활_NNG': 895,\n",
              " '번지_NNG': 896,\n",
              " '2003_SN': 897,\n",
              " '마지막_NNG': 898,\n",
              " '2004_SN': 899,\n",
              " '준비_NNG': 900,\n",
              " '청사_NNG': 901,\n",
              " '따라서_VV+EC': 902,\n",
              " '개정안_NNG': 903,\n",
              " '우수_NNG': 904,\n",
              " '해결_NNG': 905,\n",
              " '삭감_NNG': 906,\n",
              " '어려운_VA+ETM': 907,\n",
              " '충분히_MAG': 908,\n",
              " '용_XSN': 909,\n",
              " '가격_NNG': 910,\n",
              " '개인_NNG': 911,\n",
              " '방문_NNG': 912,\n",
              " 'ㆍ답변_UNKNOWN': 913,\n",
              " '900_SN': 914,\n",
              " '몇_MM': 915,\n",
              " '실적_NNG': 916,\n",
              " '인상_NNG': 917,\n",
              " '부_NNG': 918,\n",
              " '시설물_NNG': 919,\n",
              " '동법_NNG': 920,\n",
              " '군비_NNG': 921,\n",
              " '조금_MAG': 922,\n",
              " '대_XPN': 923,\n",
              " '라고_VCP+EC': 924,\n",
              " '부_XPN': 925,\n",
              " '으나_EC': 926,\n",
              " '한동완_NNP': 927,\n",
              " '합리_NNG': 928,\n",
              " '금액_NNG': 929,\n",
              " '국토_NNG': 930,\n",
              " '우선_MAG': 931,\n",
              " '도비_NNG': 932,\n",
              " '코자_XSV+EC': 933,\n",
              " '준공_NNG': 934,\n",
              " '전_MM': 935,\n",
              " '지_VX': 936,\n",
              " '신고_NNG': 937,\n",
              " '특수_NNG': 938,\n",
              " '돼서_VV+EC': 939,\n",
              " '급_NNG': 940,\n",
              " '2007_SN': 941,\n",
              " '건의안_NNG': 942,\n",
              " '적정_NNG': 943,\n",
              " '계획서_NNG': 944,\n",
              " '쓰레기_NNG': 945,\n",
              " '구조_NNG': 946,\n",
              " '04_SN': 947,\n",
              " '강구_NNG': 948,\n",
              " '수정_NNG': 949,\n",
              " '자금_NNG': 950,\n",
              " '매년_MAG': 951,\n",
              " '큰_VA+ETM': 952,\n",
              " '주차장_NNG': 953,\n",
              " \"'_SY\": 954,\n",
              " '중요_NNG': 955,\n",
              " '1997_SN': 956,\n",
              " '2001_SN': 957,\n",
              " '부탁_NNG': 958,\n",
              " '보수_NNG': 959,\n",
              " '책임_NNG': 960,\n",
              " '자치행정_NNP': 961,\n",
              " '체계_NNG': 962,\n",
              " '오전_NNG': 963,\n",
              " '관심_NNG': 964,\n",
              " '별다른_VA+ETM': 965,\n",
              " '프로그램_NNG': 966,\n",
              " '09_SN': 967,\n",
              " '교부세_NNG': 968,\n",
              " '아동_NNG': 969,\n",
              " '공장_NNG': 970,\n",
              " '예정_NNG': 971,\n",
              " '충분_XR': 972,\n",
              " '행위_NNG': 973,\n",
              " '관_NNG': 974,\n",
              " '가_VX': 975,\n",
              " '조문_NNG': 976,\n",
              " '오염_NNG': 977,\n",
              " '2002_SN': 978,\n",
              " '점_NNG': 979,\n",
              " '계_XSN': 980,\n",
              " '자연_NNG': 981,\n",
              " '명칭_NNG': 982,\n",
              " '상당히_MAG': 983,\n",
              " '어느_MM': 984,\n",
              " '세요_EP+EF': 985,\n",
              " '정지태_NNP': 986,\n",
              " '필지_NNBC': 987,\n",
              " '의건_NNG': 988,\n",
              " '수당_NNG': 989,\n",
              " '예상_NNG': 990,\n",
              " '들어가_VV': 991,\n",
              " '구입_NNG': 992,\n",
              " '예_NNG': 993,\n",
              " '보건소_NNG': 994,\n",
              " '높_VA': 995,\n",
              " '국비_NNG': 996,\n",
              " '조직_NNG': 997,\n",
              " '기초_NNG': 998,\n",
              " '이해_NNG': 999,\n",
              " ...}"
            ]
          },
          "metadata": {},
          "execution_count": 72
        }
      ]
    },
    {
      "cell_type": "code",
      "metadata": {
        "colab": {
          "base_uri": "https://localhost:8080/",
          "height": 54
        },
        "id": "j2-MW5FCRq_X",
        "outputId": "302664fb-fe8b-4fcd-8d6e-96dbed5d6096"
      },
      "source": [
        "train_tar[0]"
      ],
      "id": "j2-MW5FCRq_X",
      "execution_count": 73,
      "outputs": [
        {
          "output_type": "execute_result",
          "data": {
            "application/vnd.google.colaboratory.intrinsic+json": {
              "type": "string"
            },
            "text/plain": [
              "'sos_ 제_XPN 207_SN 회_NNBC 완주군_NNG 의회_NNG 임시회_NNG 제_XPN 1_SN 차_NNBC 본회_NNG 의_JKG 개_NNG 의_JKG 선포_NNG ._SF eos_'"
            ]
          },
          "metadata": {},
          "execution_count": 73
        }
      ]
    },
    {
      "cell_type": "code",
      "metadata": {
        "id": "0y7oa9HqeMFB",
        "colab": {
          "base_uri": "https://localhost:8080/"
        },
        "outputId": "b3f2fffb-7d05-46a4-d67e-6de565b2d001"
      },
      "source": [
        "# tokenizing!\n",
        "train_src_tokens = src_tokenizer.txt2token(train_src)\n",
        "val_src_tokens = src_tokenizer.txt2token(val_src)\n",
        "test_src_tokens = src_tokenizer.txt2token(test_src)\n",
        "\n",
        "train_tar_tokens = tar_tokenizer.txt2token(train_tar)\n",
        "val_tar_tokens = tar_tokenizer.txt2token(val_tar)"
      ],
      "id": "0y7oa9HqeMFB",
      "execution_count": 74,
      "outputs": [
        {
          "output_type": "stream",
          "name": "stderr",
          "text": [
            "100%|██████████| 2794/2794 [00:00<00:00, 6898.91it/s]\n",
            "100%|██████████| 200/200 [00:00<00:00, 9284.88it/s]\n",
            "100%|██████████| 506/506 [00:00<00:00, 9185.34it/s]\n",
            "100%|██████████| 2794/2794 [00:00<00:00, 97826.13it/s]\n",
            "100%|██████████| 200/200 [00:00<00:00, 84426.41it/s]\n"
          ]
        }
      ]
    },
    {
      "cell_type": "code",
      "metadata": {
        "colab": {
          "base_uri": "https://localhost:8080/"
        },
        "id": "244z5DC5VCxe",
        "outputId": "63c38a0a-0fea-4805-c42c-d0e8c053e5c6"
      },
      "source": [
        "# 문장 하나에 들어있는 토큰들을 의미\n",
        "train_src_tokens[0]"
      ],
      "id": "244z5DC5VCxe",
      "execution_count": 75,
      "outputs": [
        {
          "output_type": "execute_result",
          "data": {
            "text/plain": [
              "array([   11,  3169,    44,    97,    54,    46,   130,    45,    11,\n",
              "          27,    68,   147,     7,   258,   269,   533,     4,   545,\n",
              "           3,    15,    28,    30,    24,    42,     2,   467,    10,\n",
              "          53,    48,   125,    11,  3169,    44,    97,    54,   130,\n",
              "          11,    27,    68,   147,     7,   384,     9,   128,    85,\n",
              "           2,   171,   333,   643,   207,    54,   178,    73,     5,\n",
              "         103,    93,    20,   112,    19,     8,     2,   333,   643,\n",
              "          17,    93,     3,    15,    28,    30,    24,    42,     2,\n",
              "         333,   643,  3267,    25,     2,    54,   178,    73,     4,\n",
              "         115,    12,   212,    19,     8,     2,   171,    11,  3169,\n",
              "          44,    97,    54,   130,  1394,  1594,     9,   115,    12,\n",
              "         212,    19,     8,     2,   109,   167,   186,    11,  1035,\n",
              "         181,    11,    39,    69,     7,   124,     5,   387,  1465,\n",
              "          13,    22,   337,    82,   346,     7,    13,    22,   207,\n",
              "         130,   455,   260,    20,   112,    83,   266,   145,    49,\n",
              "         118,    52,   455,   841,     9,    21,    12,   415,   455,\n",
              "           9,   413,    89,    53,    48,     8,     2,    72,    17,\n",
              "         323,   421,    34,   690,    73,    25,     2,   171,    13,\n",
              "         596,     7,   227,    25,     2,    97,    54,    13,   551,\n",
              "        1707,    61,   423,     5,   141,    23,   133,    58,    23,\n",
              "          71,     6,    97,  2995,  6114,   599,    34,    98,    23,\n",
              "          71,     6,    97, 14481,   534,    88,     5,   141,    23,\n",
              "          50,    61,   256,    64,   190,    16,     6,   368,   508,\n",
              "           7,  6431,    33,   690,     3,   107,     8,     2,    72,\n",
              "          17,   269,   248,   499,   203,   122,   227,    25,     2,\n",
              "        2854,  3760,  1977,   172,    34,    80,    23,   133,    58,\n",
              "          23,    50,    61,   256,  1117,   190,    16,   368,   508,\n",
              "           7,  6431,    33,   690,     3,   107,     8,     2,   659,\n",
              "          43,   163,    17,   524,   105,   483,   351,     4,  1685,\n",
              "           3,    15,    28,    30,    24,    42,     2,    92,    93,\n",
              "           9,   129,    19,     8,     2,     0,     0,     0,     0,\n",
              "           0,     0,     0,     0,     0,     0,     0,     0,     0,\n",
              "           0,     0,     0,     0,     0,     0,     0,     0,     0,\n",
              "           0,     0,     0,     0,     0,     0,     0,     0,     0,\n",
              "           0,     0,     0,     0,     0,     0,     0,     0,     0,\n",
              "           0,     0,     0,     0,     0,     0,     0,     0,     0,\n",
              "           0,     0,     0,     0,     0,     0,     0,     0,     0,\n",
              "           0,     0,     0,     0,     0,     0,     0,     0,     0,\n",
              "           0,     0,     0,     0,     0,     0,     0,     0,     0,\n",
              "           0,     0,     0,     0,     0,     0,     0,     0,     0,\n",
              "           0,     0,     0,     0,     0,     0,     0,     0,     0,\n",
              "           0,     0,     0,     0,     0,     0,     0,     0,     0,\n",
              "           0,     0,     0,     0,     0,     0,     0,     0,     0,\n",
              "           0,     0,     0,     0,     0,     0,     0,     0,     0,\n",
              "           0,     0,     0,     0,     0,     0,     0,     0,     0,\n",
              "           0,     0,     0,     0,     0,     0,     0,     0,     0,\n",
              "           0,     0,     0,     0,     0,     0,     0,     0,     0,\n",
              "           0,     0,     0,     0,     0,     0,     0,     0,     0,\n",
              "           0,     0,     0,     0,     0,     0,     0,     0,     0,\n",
              "           0,     0,     0,     0,     0,     0,     0,     0,     0,\n",
              "           0,     0,     0,     0,     0,     0,     0,     0,     0,\n",
              "           0,     0,     0,     0,     0,     0,     0,     0,     0,\n",
              "           0,     0,     0,     0,     0,     0,     0,     0,     0,\n",
              "           0,     0,     0,     0,     0,     0,     0,     0,     0,\n",
              "           0,     0,     0,     0,     0,     0,     0,     0,     0,\n",
              "           0,     0,     0,     0,     0])"
            ]
          },
          "metadata": {},
          "execution_count": 75
        }
      ]
    },
    {
      "cell_type": "code",
      "metadata": {
        "id": "AnBntpQgeMFB"
      },
      "source": [
        "input_vocab_size = len(src_tokenizer.txt2idx) \n",
        "target_vocab_size = len(tar_tokenizer.txt2idx)"
      ],
      "id": "AnBntpQgeMFB",
      "execution_count": 76,
      "outputs": []
    },
    {
      "cell_type": "code",
      "metadata": {
        "id": "KaAcRHMHeMFB",
        "colab": {
          "base_uri": "https://localhost:8080/"
        },
        "outputId": "9dc8bc45-f463-45d1-865d-c1b51276aff5"
      },
      "source": [
        "input_vocab_size, target_vocab_size"
      ],
      "id": "KaAcRHMHeMFB",
      "execution_count": 77,
      "outputs": [
        {
          "output_type": "execute_result",
          "data": {
            "text/plain": [
              "(20002, 4877)"
            ]
          },
          "metadata": {},
          "execution_count": 77
        }
      ]
    },
    {
      "cell_type": "code",
      "metadata": {
        "id": "5xxQJ9yLeMFB",
        "colab": {
          "base_uri": "https://localhost:8080/",
          "height": 35
        },
        "outputId": "26ae071d-f49e-4820-c437-e888a40fd317"
      },
      "source": [
        "df_train.summary.iloc[0]"
      ],
      "id": "5xxQJ9yLeMFB",
      "execution_count": 78,
      "outputs": [
        {
          "output_type": "execute_result",
          "data": {
            "application/vnd.google.colaboratory.intrinsic+json": {
              "type": "string"
            },
            "text/plain": [
              "'제207회 완주군의회 임시회 제1차 본회의 개의 선포.'"
            ]
          },
          "metadata": {},
          "execution_count": 78
        }
      ]
    },
    {
      "cell_type": "code",
      "metadata": {
        "id": "FTzNcmEoeMFC",
        "colab": {
          "base_uri": "https://localhost:8080/"
        },
        "outputId": "59f1a421-749b-46e7-fdf4-b407829280ca"
      },
      "source": [
        "train_tar_tokens[0], tar_tokenizer.convert(train_tar_tokens[0])"
      ],
      "id": "FTzNcmEoeMFC",
      "execution_count": 79,
      "outputs": [
        {
          "output_type": "execute_result",
          "data": {
            "text/plain": [
              "(array([   3,    8, 1131,   19,   42,   21,   24,    8,   35,   25,   49,\n",
              "           5,   44,    5,   52,    2,    4,    0,    0,    0,    0,    0,\n",
              "           0,    0,    0,    0,    0,    0,    0,    0,    0,    0,    0,\n",
              "           0,    0,    0,    0,    0,    0,    0,    0,    0,    0,    0,\n",
              "           0,    0,    0,    0,    0,    0]),\n",
              " ' 제 207 회 완주군 의회 임시회 제 1 차 본회의개의선포.')"
            ]
          },
          "metadata": {},
          "execution_count": 79
        }
      ]
    },
    {
      "cell_type": "markdown",
      "metadata": {
        "id": "XYsIN0b5eMFC"
      },
      "source": [
        "# 데이터셋"
      ],
      "id": "XYsIN0b5eMFC"
    },
    {
      "cell_type": "code",
      "metadata": {
        "id": "-BziXp3AeMFC"
      },
      "source": [
        "class CustomDataset(Dataset):\n",
        "    def __init__(self, src_tokens, tar_tokens, mode='train'):\n",
        "        self.mode = mode\n",
        "        self.src_tokens = src_tokens\n",
        "        if self.mode == 'train':\n",
        "            self.tar_tokens = tar_tokens\n",
        "            \n",
        "    def __len__(self):\n",
        "        return len(self.src_tokens)\n",
        "    \n",
        "    def __getitem__(self, i):\n",
        "        src_token = self.src_tokens[i]\n",
        "        if self.mode == 'train':\n",
        "            tar_token = self.tar_tokens[i]\n",
        "            return {\n",
        "                'src_token' : torch.tensor(src_token, dtype=torch.long),\n",
        "                'tar_token' : torch.tensor(tar_token, dtype=torch.long),\n",
        "            }\n",
        "        else:\n",
        "            return {\n",
        "                'src_token' : torch.tensor(src_token, dtype=torch.long)\n",
        "            }"
      ],
      "id": "-BziXp3AeMFC",
      "execution_count": 80,
      "outputs": []
    },
    {
      "cell_type": "code",
      "metadata": {
        "id": "nHrUfhFzeMFC"
      },
      "source": [
        "## token으로 된 source와 target 데이터 쌍에 대한 instance 생성\n",
        "train_dataset = CustomDataset(train_src_tokens, train_tar_tokens)\n",
        "val_dataset = CustomDataset(val_src_tokens, val_tar_tokens)\n",
        "test_dataset = CustomDataset(test_src_tokens, None, 'test')\n",
        "\n",
        "train_dataloader = torch.utils.data.DataLoader(train_dataset, batch_size=batch_size, num_workers=1, shuffle=True)\n",
        "val_dataloader = torch.utils.data.DataLoader(val_dataset, batch_size=batch_size, num_workers=1, shuffle=False)\n",
        "test_dataloader = torch.utils.data.DataLoader(test_dataset, batch_size=batch_size, num_workers=1, shuffle=False)"
      ],
      "id": "nHrUfhFzeMFC",
      "execution_count": 81,
      "outputs": []
    },
    {
      "cell_type": "markdown",
      "metadata": {
        "id": "SkBPPvVreMFC"
      },
      "source": [
        "# 모델 Transformer\n",
        "\n",
        "https://www.tensorflow.org/text/tutorials/transformer 를 pytorch코드로 수정하여 작성하였습니다."
      ],
      "id": "SkBPPvVreMFC"
    },
    {
      "cell_type": "markdown",
      "metadata": {
        "id": "JCfGRdUmWeMd"
      },
      "source": [
        "![image.png](data:image/png;base64,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)"
      ],
      "id": "JCfGRdUmWeMd"
    },
    {
      "cell_type": "code",
      "metadata": {
        "id": "Dc7o26Txp_wh"
      },
      "source": [
        "# sin 또는 cos 안에 들어갈 input return\n",
        "\n",
        "def get_angles(pos, i, d_model):\n",
        "    angle_rates = 1 / np.power(10000, (2 * (i//2)) / np.float32(d_model))\n",
        "    return pos * angle_rates"
      ],
      "id": "Dc7o26Txp_wh",
      "execution_count": 82,
      "outputs": []
    },
    {
      "cell_type": "code",
      "metadata": {
        "id": "K8l-XKICp_wi"
      },
      "source": [
        "def positional_encoding(position, d_model):\n",
        "    angle_rads = get_angles(np.arange(position)[:, np.newaxis],\n",
        "                            np.arange(d_model)[np.newaxis, :],\n",
        "                            d_model)\n",
        "\n",
        "    # apply sin to even indices in the array; 2i\n",
        "    angle_rads[:, 0::2] = np.sin(angle_rads[:, 0::2])\n",
        "\n",
        "    # apply cos to odd indices in the array; 2i+1\n",
        "    angle_rads[:, 1::2] = np.cos(angle_rads[:, 1::2])\n",
        "\n",
        "    pos_encoding = angle_rads[np.newaxis, ...]\n",
        "\n",
        "    return torch.tensor(pos_encoding, dtype=torch.float32)"
      ],
      "id": "K8l-XKICp_wi",
      "execution_count": 83,
      "outputs": []
    },
    {
      "cell_type": "code",
      "metadata": {
        "id": "VeI0IdW1eMFD"
      },
      "source": [
        "def create_padding_mask(seq):\n",
        "    seq = torch.tensor(torch.eq(seq, 0), dtype=torch.float32)\n",
        "\n",
        "    # add extra dimensions to add the padding\n",
        "    # to the attention logits.\n",
        "    seq = seq.unsqueeze(1).unsqueeze(2)\n",
        "    return seq  # (batch_size, 1, 1, seq_len)"
      ],
      "id": "VeI0IdW1eMFD",
      "execution_count": 84,
      "outputs": []
    },
    {
      "cell_type": "code",
      "metadata": {
        "id": "h5PInvsbeMFD"
      },
      "source": [
        "def create_look_ahead_mask(size):\n",
        "    mask = torch.ones(size, size).triu(diagonal=1)\n",
        "    return mask  # (seq_len, seq_len)"
      ],
      "id": "h5PInvsbeMFD",
      "execution_count": 85,
      "outputs": []
    },
    {
      "cell_type": "code",
      "metadata": {
        "id": "MrkZ_SWsp_wi"
      },
      "source": [
        "def scaled_dot_product_attention(q, k, v, mask):\n",
        "    matmul_qk = torch.matmul(q, torch.transpose(k, -2, -1))  # (..., seq_len_q, seq_len_k)\n",
        "    \n",
        "    # scale matmul_qk\n",
        "    dk = k.size()[-1]\n",
        "    scaled_attention_logits = matmul_qk / math.sqrt(dk)\n",
        "    \n",
        "    # add the mask to the scaled tensor.\n",
        "    if mask is not None:\n",
        "        scaled_attention_logits += (mask * -1e9)\n",
        "\n",
        "    # softmax is normalized on the last axis (seq_len_k) so that the scores\n",
        "    # add up to 1.\n",
        "    attention_weights = torch.nn.functional.softmax(scaled_attention_logits, dim=-1)  # (..., seq_len_q, seq_len_k)\n",
        "\n",
        "    output = torch.matmul(attention_weights, v)  # (..., seq_len_q, depth_v)\n",
        "\n",
        "    return output, attention_weights"
      ],
      "id": "MrkZ_SWsp_wi",
      "execution_count": 86,
      "outputs": []
    },
    {
      "cell_type": "code",
      "metadata": {
        "id": "-g6jIs_oeMFD"
      },
      "source": [
        "def print_out(q, k, v):\n",
        "    temp_out, temp_attn = scaled_dot_product_attention(\n",
        "      q, k, v, None)\n",
        "    print('Attention weights are:')\n",
        "    print(temp_attn)\n",
        "    print('Output is:')\n",
        "    print(temp_out)"
      ],
      "id": "-g6jIs_oeMFD",
      "execution_count": 87,
      "outputs": []
    },
    {
      "cell_type": "code",
      "metadata": {
        "id": "MlDrog5reMFE",
        "colab": {
          "base_uri": "https://localhost:8080/"
        },
        "outputId": "c0cde714-c24c-4a4e-84b7-99a712443fd2"
      },
      "source": [
        "np.set_printoptions(suppress=True)\n",
        "\n",
        "temp_k = torch.tensor([[10, 0, 0],\n",
        "                      [0, 10, 0],\n",
        "                      [0, 0, 10],\n",
        "                      [0, 0, 10]], dtype=torch.float32)  # (4, 3)\n",
        "\n",
        "temp_v = torch.tensor([[1, 0],\n",
        "                      [10, 0],\n",
        "                      [100, 5],\n",
        "                      [1000, 6]], dtype=torch.float32)  # (4, 2)\n",
        "\n",
        "# This `query` aligns with the second `key`,\n",
        "# so the second `value` is returned.\n",
        "temp_q = torch.tensor([[0, 10, 0]], dtype=torch.float32)  # (1, 3)\n",
        "print_out(temp_q, temp_k, temp_v)"
      ],
      "id": "MlDrog5reMFE",
      "execution_count": 88,
      "outputs": [
        {
          "output_type": "stream",
          "name": "stdout",
          "text": [
            "Attention weights are:\n",
            "tensor([[8.4333e-26, 1.0000e+00, 8.4333e-26, 8.4333e-26]])\n",
            "Output is:\n",
            "tensor([[1.0000e+01, 9.2766e-25]])\n"
          ]
        }
      ]
    },
    {
      "cell_type": "code",
      "metadata": {
        "id": "fjRp_0CaeMFE",
        "colab": {
          "base_uri": "https://localhost:8080/"
        },
        "outputId": "b0befd13-72b8-4533-96ce-bcf5f3f743c6"
      },
      "source": [
        "temp_q = torch.tensor([[10, 10, 0]], dtype=torch.float32)  # (1, 3)\n",
        "print_out(temp_q, temp_k, temp_v)"
      ],
      "id": "fjRp_0CaeMFE",
      "execution_count": 89,
      "outputs": [
        {
          "output_type": "stream",
          "name": "stdout",
          "text": [
            "Attention weights are:\n",
            "tensor([[5.0000e-01, 5.0000e-01, 4.2166e-26, 4.2166e-26]])\n",
            "Output is:\n",
            "tensor([[5.5000e+00, 4.6383e-25]])\n"
          ]
        }
      ]
    },
    {
      "cell_type": "code",
      "metadata": {
        "id": "1aRQ-pJieMFE",
        "colab": {
          "base_uri": "https://localhost:8080/"
        },
        "outputId": "bbd492dc-65f2-4029-9c38-1dbd1cad112e"
      },
      "source": [
        "temp_q = torch.tensor([[0, 0, 10],\n",
        "                      [0, 10, 0],\n",
        "                      [10, 10, 0]], dtype=torch.float32)  # (3, 3)\n",
        "print_out(temp_q, temp_k, temp_v)"
      ],
      "id": "1aRQ-pJieMFE",
      "execution_count": 90,
      "outputs": [
        {
          "output_type": "stream",
          "name": "stdout",
          "text": [
            "Attention weights are:\n",
            "tensor([[4.2166e-26, 4.2166e-26, 5.0000e-01, 5.0000e-01],\n",
            "        [8.4333e-26, 1.0000e+00, 8.4333e-26, 8.4333e-26],\n",
            "        [5.0000e-01, 5.0000e-01, 4.2166e-26, 4.2166e-26]])\n",
            "Output is:\n",
            "tensor([[5.5000e+02, 5.5000e+00],\n",
            "        [1.0000e+01, 9.2766e-25],\n",
            "        [5.5000e+00, 4.6383e-25]])\n"
          ]
        }
      ]
    },
    {
      "cell_type": "code",
      "metadata": {
        "id": "NRO1qS5meMFE"
      },
      "source": [
        "class MultiHeadAttention(nn.Module):\n",
        "    def __init__(self, d_model, num_heads):\n",
        "        super(MultiHeadAttention, self).__init__()\n",
        "        self.num_heads = num_heads\n",
        "        self.d_model = d_model\n",
        "\n",
        "        assert d_model % self.num_heads == 0\n",
        "\n",
        "        self.depth = d_model // self.num_heads\n",
        "\n",
        "        self.wq = nn.Linear(d_model, d_model)\n",
        "        self.wk = nn.Linear(d_model, d_model)\n",
        "        self.wv = nn.Linear(d_model, d_model)\n",
        "\n",
        "        self.wo = nn.Linear(d_model, d_model)\n",
        "        \n",
        "    def forward(self, v, k, q, mask):\n",
        "        batch_size = q.size()[0]\n",
        "        \n",
        "        q = self.wq(q).view(batch_size, -1, self.num_heads, self.depth).transpose(1, 2)\n",
        "        k = self.wk(k).view(batch_size, -1, self.num_heads, self.depth).transpose(1, 2)\n",
        "        v = self.wv(v).view(batch_size, -1, self.num_heads, self.depth).transpose(1, 2)\n",
        "        \n",
        "        # scaled_attention.shape == (batch_size, num_heads, seq_len_q, depth)\n",
        "        # attention_weights.shape == (batch_size, num_heads, seq_len_q, seq_len_k)\n",
        "        scaled_attention, attention_weights = scaled_dot_product_attention(q, k, v, mask)\n",
        "        \n",
        "        scaled_attention = scaled_attention.transpose(1,2).contiguous().view(batch_size, -1, self.num_heads * self.depth)\n",
        "                \n",
        "        output = self.wo(scaled_attention)  # (batch_size, seq_len_q, d_model)\n",
        "\n",
        "        return output, attention_weights"
      ],
      "id": "NRO1qS5meMFE",
      "execution_count": 91,
      "outputs": []
    },
    {
      "cell_type": "code",
      "metadata": {
        "id": "uVp5EQQaeMFE",
        "colab": {
          "base_uri": "https://localhost:8080/"
        },
        "outputId": "4c380f8f-7f07-4d99-fcba-2b492aa782c6"
      },
      "source": [
        "temp_mha = MultiHeadAttention(d_model=512, num_heads=8)\n",
        "y = torch.rand(1, 60, 512)  # (batch_size, encoder_sequence, d_model)\n",
        "out, attn = temp_mha(y, k=y, q=y, mask=None)\n",
        "out.shape, attn.shape"
      ],
      "id": "uVp5EQQaeMFE",
      "execution_count": 92,
      "outputs": [
        {
          "output_type": "execute_result",
          "data": {
            "text/plain": [
              "(torch.Size([1, 60, 512]), torch.Size([1, 8, 60, 60]))"
            ]
          },
          "metadata": {},
          "execution_count": 92
        }
      ]
    },
    {
      "cell_type": "code",
      "metadata": {
        "id": "DwgqQFT8eMFE"
      },
      "source": [
        "class FFN(nn.Module):\n",
        "    def __init__(self, d_model, dff):\n",
        "        super(FFN, self).__init__()\n",
        "        self.layer1 = nn.Linear(d_model, dff)\n",
        "        self.activation = nn.ReLU()\n",
        "        self.fc = nn.Linear(dff, d_model)\n",
        "\n",
        "    def forward(self, x):\n",
        "        x = self.layer1(x)\n",
        "        x = self.activation(x)\n",
        "        x = self.fc(x)\n",
        "\n",
        "        return x"
      ],
      "id": "DwgqQFT8eMFE",
      "execution_count": 93,
      "outputs": []
    },
    {
      "cell_type": "code",
      "metadata": {
        "id": "Nkl4DBQ6eMFF"
      },
      "source": [
        "class EncoderLayer(nn.Module):\n",
        "    def __init__(self, d_model, num_heads, dff, maximum_position_encoding, rate=0.1):\n",
        "        super(EncoderLayer, self).__init__()\n",
        "\n",
        "        self.mha = MultiHeadAttention(d_model, num_heads)\n",
        "        self.ffn = FFN(d_model, dff)\n",
        "        \n",
        "        self.layernorm1 = nn.LayerNorm([maximum_position_encoding, d_model])\n",
        "        self.layernorm2 = nn.LayerNorm([maximum_position_encoding, d_model])\n",
        "        \n",
        "        self.dropout1 = nn.Dropout(rate)\n",
        "        self.dropout2 = nn.Dropout(rate)\n",
        "\n",
        "\n",
        "    def forward(self, x, mask):\n",
        "        attn_output, _ = self.mha(x, x, x, mask)  # (batch_size, input_seq_len, d_model)\n",
        "        attn_output = self.dropout1(attn_output)\n",
        "        out1 = self.layernorm1(x + attn_output)  # (batch_size, input_seq_len, d_model)\n",
        "\n",
        "        ffn_output = self.ffn(out1)  # (batch_size, input_seq_len, d_model)\n",
        "        ffn_output = self.dropout2(ffn_output)\n",
        "        out2 = self.layernorm2(out1 + ffn_output)  # (batch_size, input_seq_len, d_model)\n",
        "\n",
        "        return out2"
      ],
      "id": "Nkl4DBQ6eMFF",
      "execution_count": 94,
      "outputs": []
    },
    {
      "cell_type": "code",
      "metadata": {
        "id": "7lK6cVM5eMFF",
        "colab": {
          "base_uri": "https://localhost:8080/"
        },
        "outputId": "9fa2a7c4-ecdb-4818-a2cc-bc909cb57731"
      },
      "source": [
        "sample_encoder_layer = EncoderLayer(512, 8, 2048, encoder_len)\n",
        "\n",
        "sample_encoder_layer_output = sample_encoder_layer(\n",
        "    torch.rand(64, encoder_len, 512), None)\n",
        "\n",
        "sample_encoder_layer_output.shape  # (batch_size, input_seq_len, d_model)"
      ],
      "id": "7lK6cVM5eMFF",
      "execution_count": 95,
      "outputs": [
        {
          "output_type": "execute_result",
          "data": {
            "text/plain": [
              "torch.Size([64, 500, 512])"
            ]
          },
          "metadata": {},
          "execution_count": 95
        }
      ]
    },
    {
      "cell_type": "code",
      "metadata": {
        "id": "tdwowpa0eMFF"
      },
      "source": [
        "class DecoderLayer(nn.Module):\n",
        "    def __init__(self, d_model, num_heads, dff, maximum_position_encoding, rate=0.1):\n",
        "        super(DecoderLayer, self).__init__()\n",
        "\n",
        "        self.mha1 = MultiHeadAttention(d_model, num_heads)\n",
        "        self.mha2 = MultiHeadAttention(d_model, num_heads)\n",
        "        \n",
        "        self.ffn = FFN(d_model, dff)\n",
        "        \n",
        "        self.dropout1 = nn.Dropout(rate)\n",
        "        self.dropout2 = nn.Dropout(rate)\n",
        "        self.dropout3 = nn.Dropout(rate)\n",
        "        \n",
        "        self.layernorms1 = nn.ModuleList([copy.deepcopy(nn.LayerNorm([i+1, d_model])) for i in range(maximum_position_encoding)])\n",
        "        self.layernorms2 = nn.ModuleList([copy.deepcopy(nn.LayerNorm([i+1, d_model])) for i in range(maximum_position_encoding)])\n",
        "        self.layernorms3 = nn.ModuleList([copy.deepcopy(nn.LayerNorm([i+1, d_model])) for i in range(maximum_position_encoding)])\n",
        "\n",
        "    def forward(self, x, enc_output, look_ahead_mask, padding_mask):\n",
        "        # enc_output.shape == (batch_size, input_seq_len, d_model)\n",
        "        attn1, attn_weights_block1 = self.mha1(x, x, x, look_ahead_mask)  # (batch_size, target_seq_len, d_model)\n",
        "        attn1 = self.dropout1(attn1)\n",
        "        out1 = self.layernorms1[x.size(1)-1](attn1 + x)\n",
        "        \n",
        "        attn2, attn_weights_block2 = self.mha2(enc_output, enc_output, out1, padding_mask)  # (batch_size, target_seq_len, d_model)\n",
        "        attn2 = self.dropout2(attn2)\n",
        "        out2 = self.layernorms2[x.size(1)-1](attn2 + out1)  # (batch_size, target_seq_len, d_model)\n",
        "        \n",
        "        ffn_output = self.ffn(out2)  # (batch_size, target_seq_len, d_model)\n",
        "        ffn_output = self.dropout3(ffn_output)\n",
        "        out3 = self.layernorms3[x.size(1)-1](ffn_output + out2)  # (batch_size, target_seq_len, d_model)\n",
        "        \n",
        "        return out3, attn_weights_block1, attn_weights_block2"
      ],
      "id": "tdwowpa0eMFF",
      "execution_count": 96,
      "outputs": []
    },
    {
      "cell_type": "code",
      "metadata": {
        "id": "p4ilfzimeMFF",
        "colab": {
          "base_uri": "https://localhost:8080/"
        },
        "outputId": "96caaef4-9c20-41a6-aa4d-cd2d91972178"
      },
      "source": [
        "sample_decoder_layer = DecoderLayer(512, 8, 2048, decoder_len)\n",
        "\n",
        "sample_decoder_layer_output, _, _ = sample_decoder_layer(\n",
        "    torch.rand(64, decoder_len, 512), sample_encoder_layer_output,\n",
        "    None, None)\n",
        "\n",
        "sample_decoder_layer_output.shape  # (batch_size, target_seq_len, d_model)"
      ],
      "id": "p4ilfzimeMFF",
      "execution_count": 97,
      "outputs": [
        {
          "output_type": "execute_result",
          "data": {
            "text/plain": [
              "torch.Size([64, 50, 512])"
            ]
          },
          "metadata": {},
          "execution_count": 97
        }
      ]
    },
    {
      "cell_type": "code",
      "metadata": {
        "id": "w35Ktjp-eMFF"
      },
      "source": [
        "def clones(module, N):\n",
        "    return nn.ModuleList([copy.deepcopy(module) for i in range(N)])"
      ],
      "id": "w35Ktjp-eMFF",
      "execution_count": 98,
      "outputs": []
    },
    {
      "cell_type": "code",
      "metadata": {
        "id": "-fIDyVfEeMFF"
      },
      "source": [
        "class Encoder(nn.Module):\n",
        "    def __init__(self, num_layers, d_model, num_heads, dff, input_vocab_size, maximum_position_encoding, device, rate=0.1):\n",
        "        super(Encoder, self).__init__()\n",
        "\n",
        "        self.d_model = d_model\n",
        "        self.num_layers = num_layers\n",
        "\n",
        "        self.embedding = nn.Embedding(input_vocab_size, d_model)\n",
        "        self.pos_encoding = positional_encoding(maximum_position_encoding, d_model).to(device)\n",
        "        \n",
        "        self.dec_layers = clones(EncoderLayer(d_model, num_heads, dff, maximum_position_encoding, rate), num_layers)\n",
        "        self.dropout = nn.Dropout(rate)\n",
        "\n",
        "    def forward(self, x, mask, enc_output=None):\n",
        "        if enc_output == None:\n",
        "            seq_len = x.size()[1]\n",
        "            attention_weights = {}\n",
        "            x = self.embedding(x)  # (batch_size, target_seq_len, d_model)\n",
        "            x *= torch.sqrt(torch.tensor(self.d_model, dtype=torch.float32))\n",
        "            x += self.pos_encoding[:, :seq_len, :]\n",
        "            x = self.dropout(x)\n",
        "            for i in range(self.num_layers):\n",
        "                x = self.dec_layers[i](x, mask)\n",
        "        else:\n",
        "            x = enc_output\n",
        "            \n",
        "        return x"
      ],
      "id": "-fIDyVfEeMFF",
      "execution_count": 99,
      "outputs": []
    },
    {
      "cell_type": "code",
      "metadata": {
        "id": "D2WDs_WDeMFF",
        "colab": {
          "base_uri": "https://localhost:8080/"
        },
        "outputId": "d7f3c61c-f246-43ff-aa53-58f33bb44149"
      },
      "source": [
        "sample_encoder = Encoder(num_layers=2, d_model=512, num_heads=8,\n",
        "                         dff=2048, input_vocab_size=input_vocab_size,\n",
        "                         maximum_position_encoding=encoder_len,\n",
        "                         device='cpu')\n",
        "\n",
        "temp_input = torch.randint(low=0, high=input_vocab_size, size=(64, encoder_len))\n",
        "\n",
        "sample_encoder_output = sample_encoder(temp_input, mask=None, enc_output=None)\n",
        "\n",
        "print(sample_encoder_output.shape)  # (batch_size, input_seq_len, d_model)"
      ],
      "id": "D2WDs_WDeMFF",
      "execution_count": 100,
      "outputs": [
        {
          "output_type": "stream",
          "name": "stdout",
          "text": [
            "torch.Size([64, 500, 512])\n"
          ]
        }
      ]
    },
    {
      "cell_type": "code",
      "metadata": {
        "id": "v4ILCjSUeMFG"
      },
      "source": [
        "class Decoder(nn.Module):\n",
        "    def __init__(self, num_layers, d_model, num_heads, dff, target_vocab_size, maximum_position_encoding, device, rate=0.1):\n",
        "        super(Decoder, self).__init__()\n",
        "\n",
        "        self.d_model = d_model\n",
        "        self.num_layers = num_layers\n",
        "\n",
        "        self.embedding = nn.Embedding(target_vocab_size, d_model)\n",
        "        self.pos_encoding = positional_encoding(maximum_position_encoding, d_model).to(device)\n",
        "        \n",
        "        self.dec_layers = clones(DecoderLayer(d_model, num_heads, dff, maximum_position_encoding, rate), num_layers)\n",
        "        self.dropout = nn.Dropout(rate)\n",
        "        \n",
        "    def forward(self, x, enc_output, look_ahead_mask, padding_mask):\n",
        "        seq_len = x.size()[1]\n",
        "        attention_weights = {}\n",
        "        x = self.embedding(x)  # (batch_size, target_seq_len, d_model)\n",
        "        x *= torch.sqrt(torch.tensor(self.d_model, dtype=torch.float32))\n",
        "        x += self.pos_encoding[:, :seq_len, :]\n",
        "        x = self.dropout(x)\n",
        "        \n",
        "        for i in range(self.num_layers):\n",
        "            x, block1, block2 = self.dec_layers[i](x, enc_output, look_ahead_mask, padding_mask)\n",
        "\n",
        "            attention_weights['decoder_layer{}_block1'.format(i+1)] = block1\n",
        "            attention_weights['decoder_layer{}_block2'.format(i+1)] = block2\n",
        "            \n",
        "        # x.shape == (batch_size, target_seq_len, d_model)\n",
        "        return x, attention_weights"
      ],
      "id": "v4ILCjSUeMFG",
      "execution_count": 101,
      "outputs": []
    },
    {
      "cell_type": "code",
      "metadata": {
        "id": "tihZfDsVeMFG",
        "colab": {
          "base_uri": "https://localhost:8080/"
        },
        "outputId": "4c1a5f53-60af-4fb8-d51e-16730fd131f5"
      },
      "source": [
        "sample_decoder = Decoder(num_layers=2, d_model=512, num_heads=8,\n",
        "                         dff=2048, target_vocab_size=target_vocab_size,\n",
        "                         maximum_position_encoding=decoder_len,\n",
        "                         device='cpu')\n",
        "\n",
        "temp_input = torch.randint(low=0, high=target_vocab_size, size=(64, decoder_len))\n",
        "\n",
        "output, attn = sample_decoder(temp_input,\n",
        "                              enc_output=sample_encoder_output,\n",
        "                              look_ahead_mask=None,\n",
        "                              padding_mask=None)\n",
        "\n",
        "output.shape, attn['decoder_layer2_block2'].shape"
      ],
      "id": "tihZfDsVeMFG",
      "execution_count": 102,
      "outputs": [
        {
          "output_type": "execute_result",
          "data": {
            "text/plain": [
              "(torch.Size([64, 50, 512]), torch.Size([64, 8, 50, 500]))"
            ]
          },
          "metadata": {},
          "execution_count": 102
        }
      ]
    },
    {
      "cell_type": "code",
      "metadata": {
        "id": "lN9iIa_YeMFG"
      },
      "source": [
        "class Transformer(nn.Module):\n",
        "    def __init__(self, num_layers, d_model, num_heads, dff, input_vocab_size,\n",
        "               target_vocab_size, pe_input, pe_target, device, rate=0.1):\n",
        "        super().__init__()\n",
        "        self.device = device\n",
        "        self.encoder = Encoder(num_layers, d_model, num_heads, dff,\n",
        "                                 input_vocab_size, pe_input, device, rate)\n",
        "\n",
        "        self.decoder = Decoder(num_layers, d_model, num_heads, dff,\n",
        "                               target_vocab_size, pe_target, device, rate)\n",
        "\n",
        "        self.final_layer = nn.Linear(d_model, target_vocab_size)\n",
        "\n",
        "    def forward(self, inputs):\n",
        "        inp, tar, enc_output = inputs\n",
        "\n",
        "        enc_padding_mask, look_ahead_mask, dec_padding_mask = self.create_masks(inp, tar)\n",
        "\n",
        "        enc_output = self.encoder(inp, enc_padding_mask, enc_output)  # (batch_size, inp_seq_len, d_model)\n",
        "\n",
        "        # dec_output.shape == (batch_size, tar_seq_len, d_model)\n",
        "        dec_output, attention_weights = self.decoder(\n",
        "            tar, enc_output, look_ahead_mask, dec_padding_mask)\n",
        "\n",
        "        final_output = self.final_layer(dec_output)  # (batch_size, tar_seq_len, target_vocab_size)\n",
        "\n",
        "        return final_output, attention_weights, enc_output\n",
        "\n",
        "    def create_masks(self, inp, tar):\n",
        "        # Encoder padding mask\n",
        "        enc_padding_mask = create_padding_mask(inp)\n",
        "\n",
        "        # Used in the 2nd attention block in the decoder.\n",
        "        # This padding mask is used to mask the encoder outputs.\n",
        "        dec_padding_mask = create_padding_mask(inp)\n",
        "\n",
        "        # Used in the 1st attention block in the decoder.\n",
        "        # It is used to pad and mask future tokens in the input received by\n",
        "        # the decoder.\n",
        "        look_ahead_mask = create_look_ahead_mask(tar.size(1))\n",
        "        dec_target_padding_mask = create_padding_mask(tar)\n",
        "        look_ahead_mask = torch.maximum(dec_target_padding_mask.to(self.device), look_ahead_mask.to(self.device))\n",
        "\n",
        "        return enc_padding_mask, look_ahead_mask, dec_padding_mask"
      ],
      "id": "lN9iIa_YeMFG",
      "execution_count": 103,
      "outputs": []
    },
    {
      "cell_type": "code",
      "metadata": {
        "id": "qhR2ZSwVeMFG",
        "colab": {
          "base_uri": "https://localhost:8080/"
        },
        "outputId": "2eb7810a-601e-47ef-fc65-72d4487f49c5"
      },
      "source": [
        "sample_transformer = Transformer(\n",
        "    num_layers=2, d_model=512, num_heads=8, dff=2048,\n",
        "    input_vocab_size=input_vocab_size, target_vocab_size=target_vocab_size,\n",
        "    pe_input=encoder_len, pe_target=decoder_len, device='cpu')\n",
        "\n",
        "temp_input = torch.randint(low=0, high=input_vocab_size, size=(64, encoder_len))\n",
        "temp_target = torch.randint(low=0, high=target_vocab_size, size=(64, decoder_len))\n",
        "\n",
        "fn_out, _, _ = sample_transformer([temp_input, temp_target, None])\n",
        "\n",
        "fn_out.shape  # (batch_size, tar_seq_len, target_vocab_size)"
      ],
      "id": "qhR2ZSwVeMFG",
      "execution_count": 104,
      "outputs": [
        {
          "output_type": "execute_result",
          "data": {
            "text/plain": [
              "torch.Size([64, 50, 4877])"
            ]
          },
          "metadata": {},
          "execution_count": 104
        }
      ]
    },
    {
      "cell_type": "code",
      "metadata": {
        "id": "iWUvvi6SeMFG"
      },
      "source": [
        "transformer = Transformer(\n",
        "    num_layers=num_layers,\n",
        "    d_model=d_model,\n",
        "    num_heads=num_heads,\n",
        "    dff=dff,\n",
        "    input_vocab_size=input_vocab_size,\n",
        "    target_vocab_size=target_vocab_size,\n",
        "    pe_input=encoder_len,\n",
        "    pe_target=decoder_len-1,\n",
        "    device=device,\n",
        "    rate=dropout_rate\n",
        ")\n",
        "\n",
        "transformer = transformer.to(device)"
      ],
      "id": "iWUvvi6SeMFG",
      "execution_count": 105,
      "outputs": []
    },
    {
      "cell_type": "markdown",
      "metadata": {
        "id": "A7mAYbKMeMFG"
      },
      "source": [
        "# 옵티마이저, 손실함수"
      ],
      "id": "A7mAYbKMeMFG"
    },
    {
      "cell_type": "code",
      "metadata": {
        "id": "ByXg4IYweMFH"
      },
      "source": [
        "optimizer = torch.optim.Adam(transformer.parameters(), lr=learning_rate)\n",
        "criterion = nn.CrossEntropyLoss()"
      ],
      "id": "ByXg4IYweMFH",
      "execution_count": 106,
      "outputs": []
    },
    {
      "cell_type": "markdown",
      "metadata": {
        "id": "O_NSOg1deMFH"
      },
      "source": [
        "## 손실함수 및 평가함수 정의"
      ],
      "id": "O_NSOg1deMFH"
    },
    {
      "cell_type": "code",
      "metadata": {
        "id": "eJZz_E-WeMFH"
      },
      "source": [
        "def loss_function(real, pred):\n",
        "    mask = torch.logical_not(torch.eq(real, 0))\n",
        "    loss_ = criterion(pred.permute(0,2,1), real)\n",
        "    mask = torch.tensor(mask, dtype=loss_.dtype)\n",
        "    loss_ = mask * loss_\n",
        "\n",
        "    return torch.sum(loss_)/torch.sum(mask)\n",
        "\n",
        "def accuracy_function(real, pred):\n",
        "    accuracies = torch.eq(real, torch.argmax(pred, dim=2))\n",
        "    mask = torch.logical_not(torch.eq(real, 0))\n",
        "    accuracies = torch.logical_and(mask, accuracies)\n",
        "    accuracies = torch.tensor(accuracies, dtype=torch.float32)\n",
        "    mask = torch.tensor(mask, dtype=torch.float32)\n",
        "    \n",
        "    return torch.sum(accuracies)/torch.sum(mask)"
      ],
      "id": "eJZz_E-WeMFH",
      "execution_count": 107,
      "outputs": []
    },
    {
      "cell_type": "markdown",
      "metadata": {
        "id": "OXfmZXNyeMFH"
      },
      "source": [
        "## 학습 정의"
      ],
      "id": "OXfmZXNyeMFH"
    },
    {
      "cell_type": "code",
      "metadata": {
        "id": "9cVtdohHeMFH"
      },
      "source": [
        "def train_step(batch_item, epoch, batch, training):\n",
        "    src = batch_item['src_token'].to(device)\n",
        "    tar = batch_item['tar_token'].to(device)\n",
        "    \n",
        "    tar_inp = tar[:, :-1]\n",
        "    tar_real = tar[:, 1:]\n",
        "    \n",
        "    if training is True:\n",
        "        transformer.train()\n",
        "        optimizer.zero_grad()\n",
        "        with torch.cuda.amp.autocast():\n",
        "            output, _, _ = transformer([src, tar_inp, None])\n",
        "            loss = loss_function(tar_real, output)\n",
        "        acc = accuracy_function(tar_real, output)\n",
        "        loss.backward()\n",
        "        optimizer.step()\n",
        "        lr = optimizer.param_groups[0][\"lr\"]\n",
        "        return loss, acc, round(lr, 10)\n",
        "    else:\n",
        "        transformer.eval()\n",
        "        with torch.no_grad():\n",
        "            output, _, _ = transformer([src, tar_inp, None])\n",
        "            loss = loss_function(tar_real, output)\n",
        "        acc = accuracy_function(tar_real, output)\n",
        "        return loss, acc"
      ],
      "id": "9cVtdohHeMFH",
      "execution_count": 108,
      "outputs": []
    },
    {
      "cell_type": "markdown",
      "metadata": {
        "id": "4vnUupG8eMFH"
      },
      "source": [
        "## 학습"
      ],
      "id": "4vnUupG8eMFH"
    },
    {
      "cell_type": "code",
      "metadata": {
        "id": "QMHaYap7eMFH",
        "colab": {
          "base_uri": "https://localhost:8080/"
        },
        "outputId": "75e06471-98cf-4fa0-ea7c-be095f50b4e2"
      },
      "source": [
        "loss_plot, val_loss_plot = [], []\n",
        "acc_plot, val_acc_plot = [], []\n",
        "\n",
        "for epoch in range(epochs):\n",
        "    gc.collect()\n",
        "    total_loss, total_val_loss = 0, 0\n",
        "    total_acc, total_val_acc = 0, 0\n",
        "    \n",
        "    tqdm_dataset = tqdm(enumerate(train_dataloader))\n",
        "    training = True\n",
        "    for batch, batch_item in tqdm_dataset:\n",
        "        batch_loss, batch_acc, lr = train_step(batch_item, epoch, batch, training)\n",
        "        total_loss += batch_loss\n",
        "        total_acc += batch_acc\n",
        "        \n",
        "        tqdm_dataset.set_postfix({\n",
        "            'Epoch': epoch + 1,\n",
        "            'LR' : lr,\n",
        "            'Loss': '{:06f}'.format(batch_loss.item()),\n",
        "            'Total Loss' : '{:06f}'.format(total_loss/(batch+1)),\n",
        "            'Total ACC' : '{:06f}'.format(total_acc/(batch+1))\n",
        "        })\n",
        "    loss_plot.append(total_loss/(batch+1))\n",
        "    acc_plot.append(total_acc/(batch+1))\n",
        "    \n",
        "    tqdm_dataset = tqdm(enumerate(val_dataloader))\n",
        "    training = False\n",
        "    for batch, batch_item in tqdm_dataset:\n",
        "        batch_loss, batch_acc = train_step(batch_item, epoch, batch, training)\n",
        "        total_val_loss += batch_loss\n",
        "        total_val_acc += batch_acc\n",
        "        \n",
        "        tqdm_dataset.set_postfix({\n",
        "            'Epoch': epoch + 1,\n",
        "            'Val Loss': '{:06f}'.format(batch_loss.item()),\n",
        "            'Total Val Loss' : '{:06f}'.format(total_val_loss/(batch+1)),\n",
        "            'Total Val ACC' : '{:06f}'.format(total_val_acc/(batch+1))\n",
        "        })\n",
        "    val_loss_plot.append(total_val_loss/(batch+1))\n",
        "    val_acc_plot.append(total_val_acc/(batch+1))"
      ],
      "id": "QMHaYap7eMFH",
      "execution_count": 109,
      "outputs": [
        {
          "output_type": "stream",
          "name": "stderr",
          "text": [
            "88it [00:51,  1.71it/s, Epoch=1, LR=0.0001, Loss=3.617357, Total Loss=4.070579, Total ACC=0.134382]\n",
            "7it [00:01,  4.81it/s, Epoch=1, Val Loss=6.665926, Total Val Loss=3.266138, Total Val ACC=0.299483]\n",
            "88it [00:51,  1.71it/s, Epoch=2, LR=0.0001, Loss=1.963586, Total Loss=2.606749, Total ACC=0.375940]\n",
            "7it [00:01,  4.79it/s, Epoch=2, Val Loss=6.293015, Total Val Loss=2.731252, Total Val ACC=0.409599]\n",
            "88it [00:51,  1.71it/s, Epoch=3, LR=0.0001, Loss=1.843488, Total Loss=2.213634, Total ACC=0.449822]\n",
            "7it [00:01,  4.77it/s, Epoch=3, Val Loss=6.048100, Total Val Loss=2.492177, Total Val ACC=0.449735]\n",
            "88it [00:51,  1.71it/s, Epoch=4, LR=0.0001, Loss=3.122534, Total Loss=2.008703, Total ACC=0.482930]\n",
            "7it [00:01,  4.79it/s, Epoch=4, Val Loss=5.836232, Total Val Loss=2.345246, Total Val ACC=0.474719]\n",
            "88it [00:51,  1.72it/s, Epoch=5, LR=0.0001, Loss=0.997927, Total Loss=1.848697, Total ACC=0.509421]\n",
            "7it [00:01,  4.80it/s, Epoch=5, Val Loss=5.789015, Total Val Loss=2.256978, Total Val ACC=0.491335]\n",
            "88it [00:51,  1.72it/s, Epoch=6, LR=0.0001, Loss=1.247728, Total Loss=1.740202, Total ACC=0.527418]\n",
            "7it [00:01,  4.79it/s, Epoch=6, Val Loss=5.732619, Total Val Loss=2.199455, Total Val ACC=0.504222]\n",
            "88it [00:51,  1.71it/s, Epoch=7, LR=0.0001, Loss=1.726761, Total Loss=1.651217, Total ACC=0.543418]\n",
            "7it [00:01,  4.78it/s, Epoch=7, Val Loss=5.623822, Total Val Loss=2.134882, Total Val ACC=0.513797]\n",
            "88it [00:51,  1.71it/s, Epoch=8, LR=0.0001, Loss=1.455501, Total Loss=1.568449, Total ACC=0.559424]\n",
            "7it [00:01,  4.76it/s, Epoch=8, Val Loss=5.557895, Total Val Loss=2.096200, Total Val ACC=0.518711]\n",
            "88it [00:51,  1.71it/s, Epoch=9, LR=0.0001, Loss=0.968612, Total Loss=1.494332, Total ACC=0.573624]\n",
            "7it [00:01,  4.78it/s, Epoch=9, Val Loss=5.484404, Total Val Loss=2.043540, Total Val ACC=0.529447]\n",
            "88it [00:51,  1.71it/s, Epoch=10, LR=0.0001, Loss=1.197962, Total Loss=1.428531, Total ACC=0.584832]\n",
            "7it [00:01,  4.79it/s, Epoch=10, Val Loss=5.530387, Total Val Loss=2.032600, Total Val ACC=0.535072]\n",
            "88it [00:51,  1.71it/s, Epoch=11, LR=0.0001, Loss=0.854625, Total Loss=1.366755, Total ACC=0.595612]\n",
            "7it [00:01,  4.79it/s, Epoch=11, Val Loss=5.506338, Total Val Loss=2.013195, Total Val ACC=0.538661]\n",
            "88it [00:51,  1.71it/s, Epoch=12, LR=0.0001, Loss=0.881133, Total Loss=1.308125, Total ACC=0.607279]\n",
            "7it [00:01,  4.74it/s, Epoch=12, Val Loss=5.440874, Total Val Loss=1.976991, Total Val ACC=0.550804]\n",
            "88it [00:51,  1.71it/s, Epoch=13, LR=0.0001, Loss=1.774435, Total Loss=1.258168, Total ACC=0.615843]\n",
            "7it [00:01,  4.75it/s, Epoch=13, Val Loss=5.501242, Total Val Loss=1.971998, Total Val ACC=0.551087]\n",
            "88it [00:51,  1.71it/s, Epoch=14, LR=0.0001, Loss=1.193093, Total Loss=1.206957, Total ACC=0.628716]\n",
            "7it [00:01,  4.76it/s, Epoch=14, Val Loss=5.537430, Total Val Loss=1.967690, Total Val ACC=0.552615]\n",
            "88it [00:51,  1.71it/s, Epoch=15, LR=0.0001, Loss=1.079395, Total Loss=1.155298, Total ACC=0.637506]\n",
            "7it [00:01,  4.77it/s, Epoch=15, Val Loss=5.520261, Total Val Loss=1.954037, Total Val ACC=0.554535]\n"
          ]
        }
      ]
    },
    {
      "cell_type": "markdown",
      "metadata": {
        "id": "KwMd83OzeMFH"
      },
      "source": [
        "## 학습 결과"
      ],
      "id": "KwMd83OzeMFH"
    },
    {
      "cell_type": "code",
      "metadata": {
        "id": "hQFVoA7jeMFI",
        "colab": {
          "base_uri": "https://localhost:8080/",
          "height": 279
        },
        "outputId": "302f991f-4133-4f49-d7ad-a090780d535c"
      },
      "source": [
        "plt.plot(loss_plot, label='train_loss')\n",
        "plt.plot(val_loss_plot, label='val_loss')\n",
        "plt.xlabel('epoch')\n",
        "plt.ylabel('loss')\n",
        "plt.legend()\n",
        "plt.show()"
      ],
      "id": "hQFVoA7jeMFI",
      "execution_count": 110,
      "outputs": [
        {
          "output_type": "display_data",
          "data": {
            "image/png": "[encoded data removed]",
            "text/plain": [
              "<Figure size 432x288 with 1 Axes>"
            ]
          },
          "metadata": {
            "needs_background": "light"
          }
        }
      ]
    },
    {
      "cell_type": "code",
      "metadata": {
        "id": "NA22Lz8-eMFI",
        "colab": {
          "base_uri": "https://localhost:8080/",
          "height": 279
        },
        "outputId": "eb90d2b4-ee17-4cdc-d190-9124939b6183"
      },
      "source": [
        "plt.plot(acc_plot, label='train_acc')\n",
        "plt.plot(val_acc_plot, label='val_acc')\n",
        "plt.xlabel('epoch')\n",
        "plt.ylabel('acc')\n",
        "plt.legend()\n",
        "plt.show()"
      ],
      "id": "NA22Lz8-eMFI",
      "execution_count": 111,
      "outputs": [
        {
          "output_type": "display_data",
          "data": {
            "image/png": "[encoded data removed]",
            "text/plain": [
              "<Figure size 432x288 with 1 Axes>"
            ]
          },
          "metadata": {
            "needs_background": "light"
          }
        }
      ]
    },
    {
      "cell_type": "markdown",
      "metadata": {
        "id": "7cajsWbDeMFI"
      },
      "source": [
        "## 추론"
      ],
      "id": "7cajsWbDeMFI"
    },
    {
      "cell_type": "code",
      "metadata": {
        "id": "h5ted3zZeMFI"
      },
      "source": [
        "def evaluate(tokens):\n",
        "    transformer.to(device)\n",
        "    decoder_input = torch.tensor([tar_tokenizer.txt2idx['sos_']] * tokens.size(0), dtype=torch.long).to(device)\n",
        "    output = decoder_input.unsqueeze(1).to(device)\n",
        "    enc_output = None\n",
        "    for i in range(decoder_len-1):        \n",
        "        # predictions.shape == (batch_size, seq_len, vocab_size)\n",
        "        with torch.no_grad():\n",
        "            predictions, attention_weights, enc_output = transformer([tokens, output, enc_output])\n",
        "        \n",
        "        # select the last token from the seq_len dimension\n",
        "        predictions_ = predictions[: ,-1:, :]  # (batch_size, 1, vocab_size)\n",
        "        \n",
        "        predicted_id = torch.tensor(torch.argmax(predictions_, axis=-1), dtype=torch.int32)\n",
        "        \n",
        "        output = torch.cat([output, predicted_id], dim=-1)\n",
        "    output = output.cpu().numpy()\n",
        "    \n",
        "    summary_list = []\n",
        "    token_list = []\n",
        "    for token in output:\n",
        "        summary = tar_tokenizer.convert(token)\n",
        "        summary_list.append(summary)\n",
        "        token_list.append(token)\n",
        "    return summary_list, token_list"
      ],
      "id": "h5ted3zZeMFI",
      "execution_count": 112,
      "outputs": []
    },
    {
      "cell_type": "code",
      "metadata": {
        "id": "XlNh9XedeMFI",
        "colab": {
          "base_uri": "https://localhost:8080/"
        },
        "outputId": "e7685a84-d589-405c-bfb1-dd1c2b7790a4"
      },
      "source": [
        "tqdm_dataset = tqdm(enumerate(val_dataloader))\n",
        "preds = []\n",
        "tokens = []\n",
        "for batch, batch_item in tqdm_dataset:\n",
        "    output = evaluate(batch_item['src_token'].to(device))\n",
        "    preds.extend(output[0])\n",
        "    tokens.extend(output[1])"
      ],
      "id": "XlNh9XedeMFI",
      "execution_count": 113,
      "outputs": [
        {
          "output_type": "stream",
          "name": "stderr",
          "text": [
            "7it [00:11,  1.64s/it]\n"
          ]
        }
      ]
    },
    {
      "cell_type": "code",
      "metadata": {
        "id": "OZ7NjK3reMFI",
        "colab": {
          "base_uri": "https://localhost:8080/"
        },
        "outputId": "93baf81a-8186-40a0-940d-6806bd6eec1c"
      },
      "source": [
        "for i, (a, p) in enumerate(zip(df_val.summary, preds)):\n",
        "    print('정답 :', a)\n",
        "    print('예측 :', p)\n",
        "    print('=================================================================================')\n",
        "    if i == 10:\n",
        "        break"
      ],
      "id": "OZ7NjK3reMFI",
      "execution_count": 114,
      "outputs": [
        {
          "output_type": "stream",
          "name": "stdout",
          "text": [
            "정답 : 음성군 경로당 지원 조례 일부개정조례안은 경로당 이용에 대한 여건 및 특수성에 따라 기존 미등록 경로당 등록기준을 완화하고, 경로당 양곡 지원에 대한 근거를 마련하는 등 경로당 이용 어르신들의 건강증진 및 복지향상에 기여하기 위해 개정함. 해당 안건은 가결되었음.\n",
            "예측 :  음성군 저소득 주민 자녀 장학금 지급 조례 일부 개정 조례 안은 음성군 저소득 주민 생활 안정에 관한 법률 > 개정에 따라 음성군 저소득 주민 생활 안정에 따라 음성군 저소득 주민 생활 안정에 관한 조례로 정하도록 위임된 사항과 그 시행 규\n",
            "=================================================================================\n",
            "정답 : 음성군 군세 징수 조례 일부개정조례안과 2019년 재산세 도시지역분 적용대상 지역 고시안은 <음성군 행정기구 설치 조례>가 2019년 1월 1일 전부개정됨에 따라 변경된 사항을 조례에 반영하기 위해 제정함. 해당 안건은 가결되었음.\n",
            "예측 :  음성군 지방 공무원 정원 조례 일부 개정 조례 안은 < 지방 자치 법 > 개정에 따라 지방 자치 법 > 제 2 항에 따라 지방 자치 단체의조례 > 제 2 항에 따라 지방 자치 단체의조례에 따라 지방 자치 단체\n",
            "=================================================================================\n",
            "정답 : 음성군 폐기물 관리 조례 일부개정조례안은 쓰레기처리비 대비 수수료 수입비율인 주민부담율이 낮아 청소행정의 건전 재정을 저해하고 불법반입 폐기물이 증가하는 문제가 있어 지역 실정에 맞도록 쓰레기 종량제 수수료를 조정하고자 제정함. 해당 안건은 가결 되었음.\n",
            "예측 :  음성군 지방 공무원 정원 조례 일부 개정 조례 안은 < 지방 자치 법 > 제 4 조의규정에 따라 지방 자치 단체의규정에 따라 지방 자치 단체의규정에 따라 지방 자치 단체의조례를 조례로 정하도록 위임된 사\n",
            "=================================================================================\n",
            "정답 : 음성군 농업기계 사후관리 출장비용 지원 조례안은 음성군 농업인의 농업생산성 향상과 경영 개선, 기계화 영농 편의 등을 제공하고 농업기계 안전사용을 도모하기 위해 제정함. 해당 안건은 가결되었음.\n",
            "예측 :  음성군 공유 재산 관리 조례 일부 개정 조례 안은 음성군의개정 및 동법 시행령이 개정됨에 따라 조례로 정하도록 위임된 사항과 그 시행에 따라 조례로 정하도록 위임된 사항과 그 시행에 따라 조례로 정하도\n",
            "=================================================================================\n",
            "정답 : 일반농산어촌개발사업 공유재산 시설물 관리위탁 운영 동의안은 조성한 시설물의 효율적인 관리를 위해 추진위원회에 그 재산의 관리를 위탁하고자 하는 것에 동의를 구하기 위해 발의됨. 해당 안건은 가결되었음.\n",
            "예측 :  음성군 공유 재산 관리 계획 변경 계획안은 음성군의의결을 위해 공유 재산과 공유 재산 심의회의의결을 위해 공유 재산 심의회의의결을 위해 공유 재산 심의회의의결을 받고자 제안됨. 해당 안건은 가결됨. 음성군 의\n",
            "=================================================================================\n",
            "정답 : 제251회 음성군의회 제2차 정례회 제3차 본회의 개의.\n",
            "예측 :  제 제 80 회 음성군 의회 제 2 차 정례회 제 3 차 본회의개의선포 . 제 3 차 본회의선포 . 제 3 차 본회의의원 외 3 차 본회의의원으로부터 제 3 차 본회의의원으로부터 제 3 \n",
            "=================================================================================\n",
            "정답 : 2014년도 세입 세출예산안이 가결됨. 2014년도 기금운용계획안이 가결됨.\n",
            "예측 :  2013 년도 세입 , 세출 예산안 승인의건은 심사 결과 가결됨 . 2013 년도 기금 운용 계획안 승인의건은 심사 결과 가결됨 . 2013 년도 기금 운용 계획안 승인의건은 심사 결과 가결됨 . 2013 년\n",
            "=================================================================================\n",
            "정답 : 2013~2017년도 음성군 중기지방재정계획 보고. 분야별 세부사업 계획 속에 현재 진행되고 있는 사업의 보고가 누락된 부분을 시정할 것.\n",
            "예측 :  음성군 도시 계획 조례 안은 지방 자치 단체의계획과 그 시행에 따라 지방 자치 단체의개정에 따라 지방 자치 단체의조례를 마련하여 음성군 의회의안은 음성군 의회의안에 따라 지방 자치 단체의안\n",
            "=================================================================================\n",
            "정답 : 음성군 행정기구 설치 조례 일부개정조례안은 각종 시설물과 조직을 효율적으로 관리하고자 제정되었으며, 해당 안건은 가결됨. 음성군 지방공무원 정원 조례 일부개정조례안은 총액인건비 기준 정원으로 정원을 감축함으로써 신규사업 등에 따른 각종 페널티를 방지하고 기능직 등을 일반직으로 직종 개편하고자 제안함.\n",
            "예측 :  음성군 행정 기구 설치 조례 일부 개정 조례 안은 < 지방 자치 법 > 개정에 따라 지방 자치 단체의개정에 따라 지방 자치 단체의조례로 정하도록 위임된 사항과 조례를 개정하여 행정 기구 설치 조례에 따라 지\n",
            "=================================================================================\n",
            "정답 : 음성군 건축 조례 일부개정조례안은 법령에서 조례로 위임된 사무에 대하여 제도시행에 필요한 사항을 자치 실정에 맞도록 건축조례 일부를 개정하고자 제정되었으며, 해당 안건은 가결됨.\n",
            "예측 :  음성군 지방 공무원 정원 조례 일부 개정 조례 안은 < 지방 자치 법 > 개정에 따라 지방 자치 법 > 제 4 항에 따라 음성군 지방 자치 단체의조례에 따라 지방 자치 단체의조례로 정하도록 위임된 사항을 정하고\n",
            "=================================================================================\n",
            "정답 : 12월 17일부터 12월 19일까지 휴회가 가결됨. 제4차 본회의는 12월 20일 오전 10시에 개의.\n",
            "예측 :  12 월 12 일부터 12 월 13 일까지 휴회가 가결됨 . 제 3 차 본회의는 12 월 21 일 오전 10 시에 개의.\n",
            "=================================================================================\n"
          ]
        }
      ]
    },
    {
      "cell_type": "markdown",
      "metadata": {
        "id": "ET9r8C6CeMFJ"
      },
      "source": [
        "## 제출"
      ],
      "id": "ET9r8C6CeMFJ"
    },
    {
      "cell_type": "code",
      "metadata": {
        "id": "xoto5MOIeMFJ",
        "colab": {
          "base_uri": "https://localhost:8080/"
        },
        "outputId": "2d9debc6-aab3-4725-cb73-538d58dfa47f"
      },
      "source": [
        "tqdm_dataset = tqdm(enumerate(test_dataloader))\n",
        "preds = []\n",
        "tokens = []\n",
        "for batch, batch_item in tqdm_dataset:\n",
        "    output = evaluate(batch_item['src_token'].to(device))\n",
        "    preds.extend(output[0])\n",
        "    tokens.extend(output[1])"
      ],
      "id": "xoto5MOIeMFJ",
      "execution_count": 115,
      "outputs": [
        {
          "output_type": "stream",
          "name": "stderr",
          "text": [
            "16it [00:28,  1.77s/it]\n"
          ]
        }
      ]
    },
    {
      "cell_type": "code",
      "metadata": {
        "id": "6yaZaBQkeMFJ"
      },
      "source": [
        "submission = pd.read_csv('/content/drive/MyDrive/데이콘AI요약대회!/[private]AI요약대회/data/sample_submission.csv')"
      ],
      "id": "6yaZaBQkeMFJ",
      "execution_count": 117,
      "outputs": []
    },
    {
      "cell_type": "code",
      "metadata": {
        "id": "2bj9LXB8eMFJ"
      },
      "source": [
        "submission['summary'] = preds"
      ],
      "id": "2bj9LXB8eMFJ",
      "execution_count": 118,
      "outputs": []
    },
    {
      "cell_type": "code",
      "metadata": {
        "id": "dqLwnI3FeMFJ",
        "colab": {
          "base_uri": "https://localhost:8080/",
          "height": 205
        },
        "outputId": "f31e6eb5-ede2-4791-c25b-4ec009752ca8"
      },
      "source": [
        "submission.head()"
      ],
      "id": "dqLwnI3FeMFJ",
      "execution_count": 119,
      "outputs": [
        {
          "output_type": "execute_result",
          "data": {
            "text/html": [
              "<div>\n",
              "<style scoped>\n",
              "    .dataframe tbody tr th:only-of-type {\n",
              "        vertical-align: middle;\n",
              "    }\n",
              "\n",
              "    .dataframe tbody tr th {\n",
              "        vertical-align: top;\n",
              "    }\n",
              "\n",
              "    .dataframe thead th {\n",
              "        text-align: right;\n",
              "    }\n",
              "</style>\n",
              "<table border=\"1\" class=\"dataframe\">\n",
              "  <thead>\n",
              "    <tr style=\"text-align: right;\">\n",
              "      <th></th>\n",
              "      <th>uid</th>\n",
              "      <th>summary</th>\n",
              "    </tr>\n",
              "  </thead>\n",
              "  <tbody>\n",
              "    <tr>\n",
              "      <th>0</th>\n",
              "      <td>id_2000-AGENDA_1</td>\n",
              "      <td>제 217 회 제 1 차 정례회 제 1 차 본회의개의선포 . 금번 임시회는 제 1...</td>\n",
              "    </tr>\n",
              "    <tr>\n",
              "      <th>1</th>\n",
              "      <td>id_2000-AGENDA_2</td>\n",
              "      <td>제 251 회 음성군 의회 제 1 차 정례회의회기는 11 월 27 일부터 12 월...</td>\n",
              "    </tr>\n",
              "    <tr>\n",
              "      <th>2</th>\n",
              "      <td>id_2000-AGENDA_3</td>\n",
              "      <td>제 217 회 제 1 차 정례회 회의록 서명 의원으로 반광홍 의원 , 조천희 의원...</td>\n",
              "    </tr>\n",
              "    <tr>\n",
              "      <th>3</th>\n",
              "      <td>id_2000-AGENDA_4</td>\n",
              "      <td>예산 결산 특별 위원회는 한동완 의원 , 김우식 의원 , 김우식 의원 , 김우식 ...</td>\n",
              "    </tr>\n",
              "    <tr>\n",
              "      <th>4</th>\n",
              "      <td>id_2000-AGENDA_5</td>\n",
              "      <td>주요 사업 현지 확인 특별 위원회는 이한철 의원 , 조천희 의원 , 이대웅 의원 ...</td>\n",
              "    </tr>\n",
              "  </tbody>\n",
              "</table>\n",
              "</div>"
            ],
            "text/plain": [
              "                uid                                            summary\n",
              "0  id_2000-AGENDA_1   제 217 회 제 1 차 정례회 제 1 차 본회의개의선포 . 금번 임시회는 제 1...\n",
              "1  id_2000-AGENDA_2   제 251 회 음성군 의회 제 1 차 정례회의회기는 11 월 27 일부터 12 월...\n",
              "2  id_2000-AGENDA_3   제 217 회 제 1 차 정례회 회의록 서명 의원으로 반광홍 의원 , 조천희 의원...\n",
              "3  id_2000-AGENDA_4   예산 결산 특별 위원회는 한동완 의원 , 김우식 의원 , 김우식 의원 , 김우식 ...\n",
              "4  id_2000-AGENDA_5   주요 사업 현지 확인 특별 위원회는 이한철 의원 , 조천희 의원 , 이대웅 의원 ..."
            ]
          },
          "metadata": {},
          "execution_count": 119
        }
      ]
    },
    {
      "cell_type": "code",
      "metadata": {
        "id": "J0yP2n0AeMFJ"
      },
      "source": [
        "submission.to_csv('dacon_baseline.csv', index=False)"
      ],
      "id": "J0yP2n0AeMFJ",
      "execution_count": 134,
      "outputs": []
    },
    {
      "cell_type": "markdown",
      "metadata": {
        "id": "rYRM1iOeeMFJ"
      },
      "source": [
        "제출 API 사용법 => https://dacon.io/forum/403557"
      ],
      "id": "rYRM1iOeeMFJ"
    },
    {
      "cell_type": "code",
      "metadata": {
        "colab": {
          "base_uri": "https://localhost:8080/"
        },
        "id": "LLEabTizXAYC",
        "outputId": "f657003e-7abe-4daf-8777-2520ef562a76"
      },
      "source": [
        "!pip install dacon_submit_api-0.0.4-py3-none-any.whl"
      ],
      "id": "LLEabTizXAYC",
      "execution_count": 136,
      "outputs": [
        {
          "output_type": "stream",
          "name": "stdout",
          "text": [
            "Processing ./dacon_submit_api-0.0.4-py3-none-any.whl\n",
            "Installing collected packages: dacon-submit-api\n",
            "Successfully installed dacon-submit-api-0.0.4\n"
          ]
        }
      ]
    },
    {
      "cell_type": "markdown",
      "metadata": {
        "id": "cMs2TbcCYpVa"
      },
      "source": [
        ""
      ],
      "id": "cMs2TbcCYpVa"
    },
    {
      "cell_type": "code",
      "metadata": {
        "id": "6k2ZuuUreMFJ",
        "colab": {
          "base_uri": "https://localhost:8080/"
        },
        "outputId": "12b6b9a7-a832-4e8d-b639-0c8d1fa63157"
      },
      "source": [
        "from dacon_submit_api import dacon_submit_api \n",
        "\n",
        "result = dacon_submit_api.post_submission_file(\n",
        "    'dacon_baseline.csv', \n",
        "    'ba43e7c43834bb73b035d0ac7ad0c04a0df85f3a51400554ddf553b7858df09a', \n",
        "    '235813',\n",
        "    'BASELINE', \n",
        "    'DACON_Baseline'\n",
        ")"
      ],
      "id": "6k2ZuuUreMFJ",
      "execution_count": 137,
      "outputs": [
        {
          "output_type": "stream",
          "name": "stdout",
          "text": [
            "{'isSubmitted': True, 'detail': 'Success'}\n"
          ]
        }
      ]
    },
    {
      "cell_type": "code",
      "metadata": {
        "id": "me-V0s61LQ8B"
      },
      "source": [
        ""
      ],
      "id": "me-V0s61LQ8B",
      "execution_count": null,
      "outputs": []
    }
  ]
}